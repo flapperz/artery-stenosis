{
 "cells": [
  {
   "cell_type": "markdown",
   "id": "85cc1299",
   "metadata": {},
   "source": [
    "# Verify\n"
   ]
  },
  {
   "cell_type": "code",
   "execution_count": 3,
   "id": "d785be15-4220-4ef0-8d8f-c4f448f485d4",
   "metadata": {},
   "outputs": [
    {
     "name": "stdout",
     "output_type": "stream",
     "text": [
      "Hello Slicer\n"
     ]
    }
   ],
   "source": [
    "print('Hello Slicer')"
   ]
  },
  {
   "cell_type": "markdown",
   "id": "c5931c53-b5f3-4407-ace7-60957924093e",
   "metadata": {},
   "source": [
    "# Setup\n"
   ]
  },
  {
   "cell_type": "code",
   "execution_count": 4,
   "id": "18309ee4",
   "metadata": {},
   "outputs": [],
   "source": [
    "# import scipy.ndimage\n",
    "pass"
   ]
  },
  {
   "cell_type": "code",
   "execution_count": 5,
   "id": "43b1006c-b7f8-45d0-94f7-520ee3bd782a",
   "metadata": {},
   "outputs": [
    {
     "data": {
      "text/plain": [
       "<module 'logging' from '/Applications/Slicer4.app/Contents/lib/Python/lib/python3.6/logging/__init__.py'>"
      ]
     },
     "execution_count": 5,
     "metadata": {},
     "output_type": "execute_result"
    }
   ],
   "source": [
    "import numpy as np\n",
    "import JupyterNotebooksLib as slicernb\n",
    "import logging\n",
    "import time\n",
    "import sys\n",
    "import pickle\n",
    "import json\n",
    "from collections import deque\n",
    "from queue import PriorityQueue\n",
    "\n",
    "from importlib import reload\n",
    "\n",
    "reload(logging)"
   ]
  },
  {
   "cell_type": "code",
   "execution_count": 6,
   "id": "81fd51c4",
   "metadata": {},
   "outputs": [
    {
     "data": {
      "image/png": "[encoded data removed]",
      "text/plain": [
       "<JupyterNotebooksLib.display.ViewDisplay object at 0x1af0470b8>"
      ]
     },
     "execution_count": 6,
     "metadata": {},
     "output_type": "execute_result"
    }
   ],
   "source": [
    "slicernb.ViewDisplay(center=False)"
   ]
  },
  {
   "cell_type": "code",
   "execution_count": 7,
   "metadata": {},
   "outputs": [],
   "source": [
    "# create logger\n",
    "logger = logging.getLogger('scratch_logger')\n",
    "logger.setLevel(logging.DEBUG)\n",
    "\n",
    "logstream_ch = logging.StreamHandler()\n",
    "logstream_ch.setLevel(logging.INFO)\n",
    "\n",
    "logfile_ch = logging.FileHandler('bfs.log')\n",
    "logfile_ch.setLevel(logging.DEBUG)\n",
    "\n",
    "logger.addHandler(logstream_ch)\n",
    "logger.addHandler(logfile_ch)"
   ]
  },
  {
   "cell_type": "code",
   "execution_count": 8,
   "id": "b88914d0-ab79-44e5-b7dd-33e5eb29f7ac",
   "metadata": {},
   "outputs": [],
   "source": [
    "loadScene('data/slicer_gs_clean_update1/2023-10-26-Scene.mrml')"
   ]
  },
  {
   "cell_type": "code",
   "execution_count": 9,
   "metadata": {},
   "outputs": [],
   "source": [
    "# # create debug console\n",
    "# console = qt.QTabWidget()\n",
    "# console_tab1 = qt.QWidget()\n",
    "# console_tab1_layout = qt.QHBoxLayout(console_tab1)\n",
    "# btnA = qt.QPushButton('Calculate')\n",
    "# btnB = qt.QPushButton('B')\n",
    "# console_tab1_layout.addWidget(btnA)\n",
    "# console_tab1_layout.addWidget(btnB)\n",
    "\n",
    "# console.addTab(console_tab1, 'tab1')\n",
    "\n",
    "# console.show()\n",
    "\n",
    "# btnA.disconnect('clicked()', calculate_backbone)\n",
    "# btnA.connect('clicked()', calculate_backbone)\n",
    "\n",
    "# # btnA.disconnect('clicked()', btnA_action)\n",
    "# # btnA.connect('clicked()', btnA_action)\n",
    "\n",
    "# # btnB.disconnect('clicked()', btnB_action)\n",
    "# # btnB.connect('clicked()', btnB_action)\n",
    "\n",
    "pass"
   ]
  },
  {
   "cell_type": "code",
   "execution_count": 10,
   "id": "2de50baf-574c-41a7-8e33-0539ad2b2efd",
   "metadata": {},
   "outputs": [],
   "source": [
    "# slicernb.ViewDisplay()\n",
    "# slicernb.ViewLightboxDisplay(columns=5, rows=3, rangeShrink=[15,20])\n",
    "pass"
   ]
  },
  {
   "cell_type": "code",
   "execution_count": 11,
   "id": "1165dd5d-891a-43e6-980b-a8630d476dfb",
   "metadata": {},
   "outputs": [],
   "source": [
    "# # Clear scene\n",
    "# slicer.mrmlScene.Clear(False)\n",
    "\n",
    "# Load from local file\n",
    "# volume = slicer.util.loadVolume('data/MRBrainTumor1.nrrd')\n",
    "\n",
    "\n",
    "# # Lightbox view\n",
    "# slicernb.ViewLightboxDisplay(\"Red\", rangeShrink=[45,50])\n",
    "pass"
   ]
  },
  {
   "cell_type": "markdown",
   "id": "27d81ffe",
   "metadata": {},
   "source": [
    "## Global\n"
   ]
  },
  {
   "cell_type": "code",
   "execution_count": 14,
   "id": "172ade81-ca9e-4757-8295-9f71c5098505",
   "metadata": {},
   "outputs": [
    {
     "name": "stdout",
     "output_type": "stream",
     "text": [
      "(275, 512, 512)\n",
      "-3024\n",
      "1960\n",
      "int32\n"
     ]
    }
   ],
   "source": [
    "def vtk4x4matrix_to_numpy(matrix):\n",
    "    \"\"\"\n",
    "    Copies the elements of a vtkMatrix4x4 into a numpy array.\n",
    "\n",
    "    :param matrix: The matrix to be copied into an array.\n",
    "    :type matrix: vtk.vtkMatrix4x4\n",
    "    :rtype: numpy.ndarray\n",
    "    \"\"\"\n",
    "    m = np.ones((4, 4))\n",
    "    for i in range(4):\n",
    "        for j in range(4):\n",
    "            m[i, j] = matrix.GetElement(i, j)\n",
    "    return m\n",
    "\n",
    "\n",
    "VOLUME_NODE_NAME = '14: Body Soft Tissue'\n",
    "OUT_A_NODE_NAME = 'out_a'\n",
    "OUT_B_NODE_NAME = 'out_b'\n",
    "OUT_C_NODE_NAME = 'out_c'\n",
    "MYNULL = -2_147_483_648\n",
    "\n",
    "volume_node = getNode(VOLUME_NODE_NAME)\n",
    "volume_display = volume_node.GetDisplayNode()\n",
    "volume_display.InterpolateOff()\n",
    "\n",
    "outa_node = getNode(OUT_A_NODE_NAME)\n",
    "outa_node.GetDisplayNode().InterpolateOff()\n",
    "\n",
    "outb_node = getNode(OUT_B_NODE_NAME)\n",
    "outb_node.GetDisplayNode().InterpolateOff()\n",
    "\n",
    "outc_node = getNode(OUT_C_NODE_NAME)\n",
    "outc_node.GetDisplayNode().InterpolateOff()\n",
    "\n",
    "lad_node = getFirstNodeByName('LAD')\n",
    "lcx_node = getFirstNodeByName('LCX')\n",
    "rca_node = getFirstNodeByName('RCA')\n",
    "\n",
    "v_arr = slicer.util.array(VOLUME_NODE_NAME)\n",
    "print(v_arr.shape)\n",
    "print(v_arr.min())\n",
    "print(v_arr.max())\n",
    "print(v_arr.dtype)\n",
    "\n",
    "x = vtk.vtkMatrix4x4()\n",
    "volume_node.GetIJKToRASMatrix(x)\n",
    "ijk2ras_mat = vtk4x4matrix_to_numpy(x)\n",
    "\n",
    "volume_node.GetRASToIJKMatrix(x)\n",
    "ras2ijk_mat = vtk4x4matrix_to_numpy(x)\n",
    "\n",
    "seg_node = slicer.mrmlScene.AddNewNodeByClass('vtkMRMLSegmentationNode')\n",
    "seg_node.SetName('myseg')\n",
    "\n",
    "# ras2ijk_mat @ np.array([326,192,160,1]).reshape(-1,1)"
   ]
  },
  {
   "cell_type": "markdown",
   "id": "96a4cc97",
   "metadata": {},
   "source": [
    "## Util\n"
   ]
  },
  {
   "cell_type": "code",
   "execution_count": 16,
   "id": "95be3e60",
   "metadata": {},
   "outputs": [],
   "source": [
    "def get_fiducial_as_kji(fiducial_node, i):\n",
    "    ras_homo = np.ones([4, 1])\n",
    "    fiducial_node.GetNthFiducialPosition(i, ras_homo[:3, 0])\n",
    "    return tuple(\n",
    "        (np.round(ras2ijk_mat @ ras_homo).astype(np.uint16).T)[\n",
    "            (0, 0, 0), (2, 1, 0)\n",
    "        ].tolist()\n",
    "    )\n",
    "\n",
    "\n",
    "def get_fiducial_data(fiducial_node, i):\n",
    "    ras_homo = np.ones([4, 1])\n",
    "    fiducial_node.GetNthFiducialPosition(i, ras_homo[:3, 0])\n",
    "    posk, posj, posi = (np.round(ras2ijk_mat @ ras_homo).astype(np.uint16).T)[\n",
    "        (0, 0, 0), (2, 1, 0)\n",
    "    ].tolist()\n",
    "    r, a, s = ras_homo[:3, 0]\n",
    "    lb = fiducial_node.GetNthControlPointLabel(i)\n",
    "    return (lb, r, a, s, posi, posj, posk)\n",
    "\n",
    "\n",
    "def ijk2kji(ijk):\n",
    "    return (ijk[2], ijk[1], ijk[0])\n",
    "\n",
    "\n",
    "def multi_add_fiducial(fid_node, nodes_ras_Nx3):\n",
    "    for i in range(len(nodes_ras_Nx3)):\n",
    "        fid_node.AddFiducialFromArray(nodes_ras_Nx3[i, :])\n",
    "\n",
    "\n",
    "# def coord2z(i,j,k):\n",
    "#     return i * (262144) + j * (512) + k\n",
    "# def z2coord(z):\n",
    "#     # a[i//(6*7),(i%(6*7)//7),i%(7)]\n",
    "#     return z//(512*512), z%(262144)//512, z%512\n",
    "\n",
    "\n",
    "def coord2z(i, j, k):\n",
    "    return i * (727609) + j * (853) + k\n",
    "\n",
    "\n",
    "def z2coord(z):\n",
    "    # a[i//(6*7),(i%(6*7)//7),i%(7)]\n",
    "    return z // (727609), z % (727609) // 853, z % 853"
   ]
  },
  {
   "cell_type": "code",
   "execution_count": 11,
   "id": "d9da400a",
   "metadata": {},
   "outputs": [],
   "source": [
    "# create segmentation node to store result\n",
    "# seg_node = slicer.mrmlScene.AddNewNodeByClass(\"vtkMRMLSegmentationNode\")\n",
    "\n",
    "# seg_node.SetName(\"segmentation_result\")\n",
    "# labelmap_node = getNode('labelmap_template')\n",
    "pass"
   ]
  },
  {
   "cell_type": "code",
   "execution_count": 12,
   "metadata": {},
   "outputs": [],
   "source": [
    "# import MRMLCorePython\n",
    "# labelmap_node = MRMLCorePython.vtkMRMLLabelMapVolumeNode()\n",
    "pass"
   ]
  },
  {
   "cell_type": "code",
   "execution_count": null,
   "id": "e1b72268",
   "metadata": {},
   "outputs": [],
   "source": [
    "# def create_result(in_arr):\n",
    "#     # seg_arr = np.zeros(v_arr.shape)\n",
    "#     # seg_arr[100:,:,:] = 1\n",
    "#     seg_arr = in_arr.copy().astype('int16')\n",
    "#     updateVolumeFromArray(labelmap_node, seg_arr)\n",
    "#     slicer.modules.segmentations.logic().ImportLabelmapToSegmentationNode(labelmap_node, seg_node)\n",
    "pass"
   ]
  },
  {
   "cell_type": "code",
   "execution_count": null,
   "id": "26cffc12-76dc-45e8-a272-31b45ba431cf",
   "metadata": {},
   "outputs": [],
   "source": [
    "# d_arr = v_arr.copy()\n",
    "# r_arr = v_arr.copy()\n",
    "# del r_arr\n",
    "pass"
   ]
  },
  {
   "cell_type": "markdown",
   "metadata": {},
   "source": [
    "# Data Analysis Export\n"
   ]
  },
  {
   "cell_type": "code",
   "execution_count": null,
   "id": "6877c128",
   "metadata": {},
   "outputs": [],
   "source": [
    "import pandas as pd"
   ]
  },
  {
   "cell_type": "code",
   "execution_count": null,
   "id": "415f701d",
   "metadata": {},
   "outputs": [],
   "source": [
    "lad_node"
   ]
  },
  {
   "cell_type": "code",
   "execution_count": null,
   "id": "a5c1f729-fc31-461e-8629-524ae120782d",
   "metadata": {},
   "outputs": [],
   "source": [
    "pda_col_list = ['label', 'artery', 'R', 'A', 'S', 'k', 'j', 'i', 'hu']\n",
    "pda_data_map = {e: [] for e in pda_col_list}\n",
    "for artery_fid_node, artery_name in zip(\n",
    "    [lad_node, lcx_node, rca_node], ['LAD', 'LCX', 'RCA']\n",
    "):\n",
    "    n = artery_fid_node.GetNumberOfControlPoints()\n",
    "    for i in range(n):\n",
    "        label, pos_r, pos_a, pos_s, pos_i, pos_j, pos_k = get_fiducial_data(\n",
    "            artery_fid_node, i\n",
    "        )\n",
    "        # label = artery_fid_node.GetNthControlPointLabel(i)\n",
    "        # print(label)\n",
    "        hu = v_arr[pos_k, pos_j, pos_i]\n",
    "        pda_data_map['label'].append(label)\n",
    "        pda_data_map['artery'].append(artery_name)\n",
    "        pda_data_map['R'].append(pos_r)\n",
    "        pda_data_map['A'].append(pos_a)\n",
    "        pda_data_map['S'].append(pos_s)\n",
    "        pda_data_map['i'].append(pos_i)\n",
    "        pda_data_map['j'].append(pos_j)\n",
    "        pda_data_map['k'].append(pos_k)\n",
    "        pda_data_map['hu'].append(hu)\n",
    "\n",
    "\n",
    "df = pd.DataFrame(pda_data_map)\n",
    "df.to_csv('data/pda/fiducial_markers_data.csv')\n",
    "np.save('data/pda/volume_array.npy', v_arr)"
   ]
  },
  {
   "cell_type": "code",
   "execution_count": null,
   "id": "4dfe72bb-88d1-4f1e-80b4-8d37b40fb854",
   "metadata": {},
   "outputs": [],
   "source": [
    "d_arr = v_arr.copy()\n",
    "d_arr[d_arr > -200] = MYNULL\n",
    "d_arr[d_arr < -1050] = MYNULL\n",
    "d_arr[d_arr != MYNULL] = 500\n",
    "\n",
    "updateVolumeFromArray(canvas_node, d_arr)"
   ]
  },
  {
   "cell_type": "code",
   "execution_count": null,
   "id": "a580f99e-5840-4970-8adc-e1da69466e87",
   "metadata": {},
   "outputs": [],
   "source": [
    "# start_point = [0,0,0]\n",
    "# getNode(\"LAD_2\").GetNthFiducialPosition(0, start_point)\n",
    "# # start_point = (start_point * np.array([-1, 1, -1])).astype(\"int32\")\n",
    "# start_point = (start_point * np.array([1, 1, 1])).astype(\"int32\")\n",
    "# i,j,k = start_point\n",
    "\n",
    "# i,j,k = [162, 198, 313]\n",
    "\n",
    "# d_arr = v_arr.copy()\n",
    "# d_arr[:] = MYNULL\n",
    "# d_arr[i-50:i+50,j-50:j+50,k-50:k+50] = 500\n",
    "# updateVolumeFromArray(canvas_node, d_arr)\n"
   ]
  },
  {
   "cell_type": "code",
   "execution_count": null,
   "id": "685cbcaa-8438-4d6d-bef3-10a80c76320d",
   "metadata": {},
   "outputs": [],
   "source": [
    "# numpy data format\n",
    "# i - z 0 is downmost\n",
    "# j - y 0 is topmost\n",
    "# k - x 0 is leftmost\n",
    "pass"
   ]
  },
  {
   "cell_type": "code",
   "execution_count": null,
   "metadata": {},
   "outputs": [],
   "source": [
    "pos_a = np.arange(5 * 6 * 7).reshape(5, 6, 7)\n",
    "for pos_i in range(5 * 6 * 7):\n",
    "    print(pos_a[pos_i // (6 * 7), (pos_i % (6 * 7) // 7), pos_i % (7)])"
   ]
  },
  {
   "cell_type": "code",
   "execution_count": null,
   "metadata": {},
   "outputs": [],
   "source": [
    "# visualize\n",
    "d_arr = v_arr.copy()\n",
    "d_arr[:] = MYNULL\n",
    "d_arr[85:186, 115:256, 240:401] = 2000\n",
    "\n",
    "updateVolumeFromArray(canvas_node, d_arr)"
   ]
  },
  {
   "cell_type": "code",
   "execution_count": null,
   "metadata": {},
   "outputs": [],
   "source": [
    "# gradient filter\n",
    "d_arr = v_arr.copy()\n",
    "grads = np.gradient(d_arr)\n",
    "\n",
    "d_arr = np.sqrt(grads[0] ** 2 + grads[1] ** 2 + grads[2] ** 2)\n",
    "# d_arr = d_arr/100\n",
    "updateVolumeFromArray(canvas_node, d_arr)\n",
    "\n",
    "print(np.min(d_arr))\n",
    "print(np.max(d_arr))"
   ]
  },
  {
   "cell_type": "markdown",
   "metadata": {},
   "source": [
    "# Flood Fill\n"
   ]
  },
  {
   "cell_type": "code",
   "execution_count": null,
   "id": "8b42253d-0c13-401e-9d08-6e674769e433",
   "metadata": {},
   "outputs": [],
   "source": [
    "EXP_NAME = 'default EXP NAME'\n",
    "\n",
    "# inclusive bound\n",
    "bound = np.array([[85, 185], [115, 255], [240, 401]])\n",
    "\n",
    "\n",
    "def is_valid_index(i, j, k):\n",
    "    # bounding\n",
    "    return i >= 85 and j >= 115 and k >= 240 and i < 186 and j < 256 and k < 401\n",
    "    return i >= 0 and j >= 0 and k >= 0 and i < 275 and j < 512 and k < 512\n",
    "\n",
    "\n",
    "# bfs\n",
    "\n",
    "# LAD\n",
    "seed = (162, 198, 313)\n",
    "end_node = (152, 175, 345)\n",
    "\n",
    "# LCX\n",
    "seed = (160, 204, 306)\n",
    "end_node = (151, 212, 303)\n",
    "\n",
    "# RCA\n",
    "seed = (93, 156, 282)\n",
    "end_node = (122, 138, 274)\n",
    "\n",
    "t_start = time.time()\n",
    "\n",
    "queue = [seed]\n",
    "visited = {seed}\n",
    "mask_index = {seed}\n",
    "# grid = np.array([])\n",
    "visit_order = {seed: 0}\n",
    "\n",
    "\n",
    "# offsets = []\n",
    "# for i in [-1,0,1]:\n",
    "#     for j in [-1,0,1]:\n",
    "#         for k in [-1,0,1]:\n",
    "#             if i != 0 or j != 0 or k != 0:\n",
    "#                 offsets.append(np.array([i,j,k]))\n",
    "kernel_mask = np.zeros((5, 5, 5))\n",
    "kernel_mask[1:4, 1:4, 1:4] = 1\n",
    "kernel_mask[2, 2, 2] = 0\n",
    "\n",
    "kernel_idxs = np.vstack(np.where(kernel_mask == 1)) - np.array([[2], [2], [2]])\n",
    "# offsets = []\n",
    "\n",
    "r_arr = v_arr.copy()\n",
    "it = 0\n",
    "\n",
    "is_reach = False\n",
    "\n",
    "while len(queue) and it < 2e6:\n",
    "    it += 1\n",
    "    v = queue.pop(0)\n",
    "\n",
    "    vi, vj, vk = v\n",
    "    vb = r_arr[vi, vj, vk]\n",
    "\n",
    "    pos = np.array(v)\n",
    "\n",
    "    # debug\n",
    "    next_visit_order = visit_order[v] + 1\n",
    "\n",
    "    for pos_i in range(kernel_idxs.shape[1]):\n",
    "        w = tuple((kernel_idxs[:, pos_i] + pos).tolist())\n",
    "        wi, wj, wk = w\n",
    "\n",
    "        # logger.debug(w)\n",
    "        if not is_valid_index(wi, wj, wk):\n",
    "            # print(wi, wj, wk)\n",
    "            continue\n",
    "        if w in visited:\n",
    "            continue\n",
    "\n",
    "        wb = r_arr[wi, wj, wk]\n",
    "        diff = abs(vb - wb)\n",
    "        if (\n",
    "            wb < -300 and wb > -1200 and (diff < 250 or wb < -400)\n",
    "        ) or wb > 150:  # calcium\n",
    "            visited.add(w)\n",
    "            mask_index.add(w)\n",
    "            queue.append(w)\n",
    "            visit_order[w] = next_visit_order\n",
    "\n",
    "            if w == end_node:\n",
    "                is_reach = True\n",
    "                break\n",
    "\n",
    "    if is_reach:\n",
    "        break\n",
    "\n",
    "\n",
    "logger.info(f'experiment: {EXP_NAME} time: {time.time() - t_start}')\n",
    "logger.info(f'is_reach: {is_reach}')\n",
    "logger.info(f'masked:           {len(mask_index)}')\n",
    "logger.info(f'last iteration:   {it}')\n",
    "\n",
    "c_arr = v_arr.copy()\n",
    "c_arr[:] = MYNULL\n",
    "for pos_i, pos_j, pos_k in mask_index:\n",
    "    c_arr[pos_i, pos_j, pos_k] = 500\n",
    "\n",
    "updateVolumeFromArray(outa_node, c_arr)\n",
    "\n",
    "c_arr = v_arr.copy()\n",
    "c_arr[:] = MYNULL\n",
    "for v, o in visit_order.items():\n",
    "    pos_i, pos_j, pos_k = v\n",
    "    c_arr[pos_i, pos_j, pos_k] = o * 100\n",
    "\n",
    "updateVolumeFromArray(outb_node, c_arr)"
   ]
  },
  {
   "cell_type": "code",
   "execution_count": null,
   "metadata": {},
   "outputs": [],
   "source": [
    "## check z translation function\n",
    "\n",
    "# for v in range(1,275*512*512,7):\n",
    "#     # i,j,k = z2coord(v)\n",
    "#     # print(idx_arr_t[i,j,k])\n",
    "#     if v != coord2z(*z2coord(v)):\n",
    "#         print('broke')\n",
    "#         break\n",
    "# else:\n",
    "# print('work')"
   ]
  },
  {
   "cell_type": "code",
   "execution_count": null,
   "metadata": {},
   "outputs": [],
   "source": [
    "kernel_mask = np.zeros((5, 5, 5))\n",
    "kernel_mask[1:4, 1:4, 1:4] = 1\n",
    "kernel_mask[2, 2, 2] = 0\n",
    "kernel_idxs = np.vstack(np.where(kernel_mask == 1)) - np.array([[2], [2], [2]])\n",
    "\n",
    "# bfs find path\n",
    "# seed = (162, 198, 313)\n",
    "# end_node = (152, 175, 345)\n",
    "queue = deque()\n",
    "\n",
    "dist_grid = np.zeros_like(v_arr, np.uint16)\n",
    "dist_grid[:] = 1e9\n",
    "\n",
    "pred_grid = np.zeros_like(v_arr, np.int32)\n",
    "pred_grid[:] = -1\n",
    "queue.append(seed)\n",
    "visited = set()\n",
    "\n",
    "it = 0\n",
    "\n",
    "visited.add(seed)\n",
    "is_reach = False\n",
    "while queue and it < 2e6:\n",
    "    it += 1\n",
    "    u = queue.popleft()\n",
    "    pos = np.array(u)\n",
    "    # print('pop', u)\n",
    "    for pos_i in range(kernel_idxs.shape[1]):\n",
    "        v = tuple((kernel_idxs[:, pos_i] + pos).tolist())\n",
    "        if v not in visited and v in mask_index:\n",
    "            visited.add(v)\n",
    "            # dist_grid[v] = dist_grid[v] + 1\n",
    "            vi, vj, vk = v\n",
    "            pred_grid[vi, vj, vk] = coord2z(*u)\n",
    "            queue.append(v)\n",
    "\n",
    "            if v == end_node:\n",
    "                is_reach = True\n",
    "\n",
    "                break\n",
    "        # else:\n",
    "        #     print('in visited')\n",
    "\n",
    "    if is_reach:\n",
    "        break\n",
    "\n",
    "print(it)\n",
    "print(is_reach)\n",
    "pos_i, pos_j, pos_k = end_node\n",
    "print(pred_grid[pos_i, pos_j, pos_k])\n",
    "# np.save('./data/pred_grid.npy', pred_grid)"
   ]
  },
  {
   "cell_type": "code",
   "execution_count": null,
   "metadata": {},
   "outputs": [],
   "source": [
    "# i,j,k = end_node\n",
    "pred_grid = np.load('./data/pred_grid.npy')\n",
    "crawl = end_node\n",
    "pos_i, pos_j, pos_k = crawl\n",
    "path = []\n",
    "it = 0\n",
    "while pred_grid[pos_i, pos_j, pos_k] != -1 and it < 512 + 275 + 512:\n",
    "    it += 1\n",
    "    parent = z2coord(pred_grid[pos_i, pos_j, pos_k])\n",
    "    path.append(parent)\n",
    "    crawl = parent\n",
    "    pos_i, pos_j, pos_k = crawl\n",
    "# print(path)\n",
    "\n",
    "c_arr = v_arr.copy()\n",
    "c_arr[:] = MYNULL\n",
    "for order, (pos_i, pos_j, pos_k) in enumerate(path):\n",
    "    # i,j,k = u\n",
    "    c_arr[pos_i, pos_j, pos_k] = (order + 1) * 100\n",
    "updateVolumeFromArray(outc_node, c_arr)"
   ]
  },
  {
   "cell_type": "code",
   "execution_count": null,
   "metadata": {},
   "outputs": [],
   "source": [
    "np.sum(c_arr == 500)\n",
    "it"
   ]
  },
  {
   "cell_type": "code",
   "execution_count": null,
   "id": "18c77d92",
   "metadata": {},
   "outputs": [],
   "source": [
    "seed"
   ]
  },
  {
   "cell_type": "markdown",
   "id": "5a146755",
   "metadata": {},
   "source": [
    "# Shortest Path\n"
   ]
  },
  {
   "cell_type": "markdown",
   "id": "2e383fa5",
   "metadata": {},
   "source": [
    "i >= 85 and j >= 115 and k >= 240 and i < 186 and j < 256 and k < 401\n"
   ]
  },
  {
   "cell_type": "code",
   "execution_count": 18,
   "id": "45155f54",
   "metadata": {},
   "outputs": [
    {
     "name": "stdout",
     "output_type": "stream",
     "text": [
      "976 2000000000\n"
     ]
    }
   ],
   "source": [
    "weight_arr = v_arr.copy()\n",
    "boundi, boundj, boundk = weight_arr.shape\n",
    "\n",
    "kernel_mask = np.zeros((5, 5, 5))\n",
    "kernel_mask[1:4, 1:4, 1:4] = 1\n",
    "kernel_mask[2, 2, 2] = 0\n",
    "kernel_idxs = np.vstack(np.where(kernel_mask == 1)) - np.array([[2], [2], [2]])\n",
    "\n",
    "# for i in range(kernel_idxs.shape[1]):\n",
    "#     oi, oj, ok = kernel_idxs[:,i]\n",
    "#     crystal_mask = np.zeros_like(cost_arr, dtype=np.bool)\n",
    "#     crystal_mask[1:boundi-1, 1:boundj-1, 1:boundk-1] = v_arr[1+oi:boundi-1+oi, 1+oi:boundj-1+oi, 1+oi:boundk-1+oi] - v_arr[1:boundi-1, 1:boundj-1, 1:boundk-1] > 800 # check if near crystal\n",
    "#     cost_arr[crystal_mask] = -1200\n",
    "#     # print(np.sum(crystal_mask[85:186,115:256,240:401]))\n",
    "\n",
    "# transform raw to cost\n",
    "COST_OFFSET = -50\n",
    "\n",
    "weight_arr[weight_arr > COST_OFFSET] = 2_000_000_000\n",
    "weight_arr[weight_arr <= COST_OFFSET] += 4000\n",
    "# cost_arr[:] = 100\n",
    "\n",
    "print(np.min(weight_arr), np.max(weight_arr))\n",
    "\n",
    "updateVolumeFromArray(outa_node, weight_arr)"
   ]
  },
  {
   "cell_type": "code",
   "execution_count": 22,
   "id": "71918447",
   "metadata": {},
   "outputs": [],
   "source": [
    "def kji_list2ras(kji_tuples):\n",
    "    return kji2ras(np.array(kji_tuples).T)\n",
    "\n",
    "\n",
    "def kji2ras(kji_3xN):\n",
    "    return (\n",
    "        ijk2ras_mat @ np.pad(kji_3xN[::-1, :], ((0, 1), (0, 0)), constant_values=1)\n",
    "    )[:3, :]\n",
    "\n",
    "\n",
    "# x2 = kji_list2ras(full_path[:2])\n",
    "# np.linalg.norm(x2[:,0] - x2[:,1]) * weight_arr[0,0,0]"
   ]
  },
  {
   "cell_type": "code",
   "execution_count": null,
   "id": "2c2113fb",
   "metadata": {},
   "outputs": [],
   "source": [
    "u = (0, 0, 0)\n",
    "u_pos = np.array(u)\n",
    "for pos_i in range(kernel_idxs.shape[1]):\n",
    "    v = tuple((kernel_idxs[:, pos_i] + u_pos).tolist())\n",
    "    vi, vj, vk = v\n",
    "\n",
    "    ras_vecx2 = kji_list2ras([u, v])\n",
    "    dist_uv = np.linalg.norm(ras_vecx2[:, 0] - ras_vecx2[:, 1])\n",
    "    print(dist_uv)"
   ]
  },
  {
   "cell_type": "code",
   "execution_count": null,
   "id": "220cf61f",
   "metadata": {},
   "outputs": [],
   "source": [
    "kernel_idxs"
   ]
  },
  {
   "cell_type": "code",
   "execution_count": null,
   "id": "1d159c1c",
   "metadata": {},
   "outputs": [],
   "source": [
    "u = (0, 0, 0)\n",
    "u_pos = np.array(u)\n",
    "for pos_i in range(kernel_idxs.shape[1]):\n",
    "    v = tuple((kernel_idxs[:, pos_i] + u_pos).tolist())\n",
    "    vi, vj, vk = v\n",
    "\n",
    "    _uvk, _uvj, _uvi = kernel_idxs[:, pos_i] + 1\n",
    "    dist_uv = kernel_ras_distance[_uvk, _uvj, _uvi]\n",
    "    # print(_uvk,_uvj,_uvi)\n",
    "    print(dist_uv)"
   ]
  },
  {
   "cell_type": "code",
   "execution_count": null,
   "id": "16c68326",
   "metadata": {},
   "outputs": [],
   "source": [
    "node_name = 'LCX'\n",
    "fid_node = getNodes(node_name)[node_name]\n",
    "fid_node.GetNthControlPointLabel(4)"
   ]
  },
  {
   "cell_type": "code",
   "execution_count": null,
   "id": "4c8813b2",
   "metadata": {},
   "outputs": [],
   "source": [
    "volume_node.GetSpacing()"
   ]
  },
  {
   "cell_type": "code",
   "execution_count": 30,
   "id": "548c5a01",
   "metadata": {},
   "outputs": [
    {
     "name": "stdout",
     "output_type": "stream",
     "text": [
      "(162, 198, 313)\n",
      "(162, 196, 317)\n",
      "161\n",
      "0\n",
      "1\n",
      "2\n",
      "3\n",
      "[(162, 198, 313), (162, 198, 314), (162, 198, 315), (162, 197, 316), (162, 196, 317)]\n",
      "0.08524513244628906\n"
     ]
    },
    {
     "ename": "",
     "evalue": "",
     "output_type": "error",
     "traceback": [
      "\u001b[1;31mThe Kernel crashed while executing code in the current cell or a previous cell. \n",
      "\u001b[1;31mPlease review the code in the cell(s) to identify a possible cause of the failure. \n",
      "\u001b[1;31mClick <a href='https://aka.ms/vscodeJupyterKernelCrash'>here</a> for more info. \n",
      "\u001b[1;31mView Jupyter <a href='command:jupyter.viewOutput'>log</a> for further details."
     ]
    }
   ],
   "source": [
    "ijk_spacing = volume_node.GetSpacing()\n",
    "kernel_ras_distance = np.zeros((3, 3, 3), dtype=np.float64)\n",
    "for pos_k in range(-1, 2):\n",
    "    for pos_j in range(-1, 2):\n",
    "        for pos_i in range(-1, 2):\n",
    "            kernel_ras_distance[pos_k + 1, pos_j + 1, pos_i + 1] = (\n",
    "                (pos_i * ijk_spacing[0]) ** 2\n",
    "                + (pos_j * ijk_spacing[1]) ** 2\n",
    "                + (pos_k * ijk_spacing[2]) ** 2\n",
    "            ) ** 0.5\n",
    "            # print(((i*ijk_spacing[0])**2 + (j*ijk_spacing[1])**2 + (k*ijk_spacing[2])**2)**0.5)\n",
    "# dijkstra main function\n",
    "\n",
    "\n",
    "def dijkstra(seed, end_node, weight_grid):\n",
    "    kernel_mask = np.zeros((5, 5, 5))\n",
    "    kernel_mask[1:4, 1:4, 1:4] = 1\n",
    "    kernel_mask[2, 2, 2] = 0\n",
    "    kernel_idxs = np.vstack(np.where(kernel_mask == 1)) - np.array([[2], [2], [2]])\n",
    "\n",
    "    # dist_grid = np.zeros_like(v_arr, np.float64)\n",
    "    # dist_grid[:] = 2e9\n",
    "    # dist_grid[seed] = 0\n",
    "\n",
    "    dist_map = dict()\n",
    "    dist_map[seed] = 0\n",
    "\n",
    "    pred_map = dict()\n",
    "\n",
    "    # pred_grid = np.full(v_arr.shape, -1, dtype=np.int32)\n",
    "\n",
    "    pq = PriorityQueue()\n",
    "    pq.put((0, seed))\n",
    "    it = 0\n",
    "\n",
    "    is_reach = False\n",
    "    debug_dict = dict()\n",
    "\n",
    "    while (not pq.empty()) and it < 5e6 and (not is_reach):\n",
    "        it += 1\n",
    "\n",
    "        u_dist, u = pq.get()\n",
    "        ui, uj, uk = u\n",
    "        u_pos = np.array(u)\n",
    "\n",
    "        if u == end_node:\n",
    "            is_reach = True\n",
    "            break\n",
    "\n",
    "        if u in dist_map and u_dist > dist_map[u]:\n",
    "            continue\n",
    "\n",
    "        for i in range(kernel_idxs.shape[1]):\n",
    "            v = tuple((kernel_idxs[:, i] + u_pos).tolist())\n",
    "            vi, vj, vk = v\n",
    "\n",
    "            # ras_vecx2 = kji_list2ras([u,v])\n",
    "            # dist_uv = np.linalg.norm(ras_vecx2[:,0] - ras_vecx2[:,1])\n",
    "\n",
    "            _uvk, _uvj, _uvi = kernel_idxs[:, i] + 1\n",
    "            dist_uv = kernel_ras_distance[_uvk, _uvj, _uvi]\n",
    "            # dist_uv = 1\n",
    "            curr_cost = dist_uv * weight_grid[vi, vj, vk]\n",
    "\n",
    "            dist = u_dist + curr_cost\n",
    "\n",
    "            if v not in dist_map or dist < dist_map[v]:\n",
    "                dist_map[v] = dist\n",
    "                pred_map[v] = u\n",
    "                pq.put((dist, v))\n",
    "\n",
    "            # if v == end_node:\n",
    "            #     is_reach = True\n",
    "\n",
    "    print(it)\n",
    "\n",
    "    # debug_dict['distgrid'] = dist_grid\n",
    "\n",
    "    if not is_reach:\n",
    "        print('not reach')\n",
    "        return [], debug_dict\n",
    "\n",
    "    # get path inclusive [start --> end]\n",
    "    crawl = end_node\n",
    "    i, j, k = crawl\n",
    "    path = [crawl]\n",
    "    it = 0\n",
    "    # while  pred_grid[i,j,k] != -1 and it < 512+275+512:\n",
    "    while crawl in pred_map and it < 512 + 275 + 512:\n",
    "        print(it)\n",
    "        it += 1\n",
    "        # parent = z2coord(pred_grid[i,j,k])\n",
    "        parent = pred_map[crawl]\n",
    "        path.append(parent)\n",
    "        crawl = parent\n",
    "        # i,j,k = crawl\n",
    "    # path.append(crawl)\n",
    "    # print(path)\n",
    "    path.reverse()\n",
    "\n",
    "    # return\n",
    "    return path, debug_dict\n",
    "\n",
    "\n",
    "t_start = time.time()\n",
    "node_name = 'LAD'\n",
    "fid_node = getNodes(node_name)[node_name]\n",
    "num_fid = fid_node.GetNumberOfFiducials()\n",
    "\n",
    "seed = get_fiducial_as_kji(fid_node, 0)\n",
    "end_node = get_fiducial_as_kji(fid_node, 1)\n",
    "print(seed)\n",
    "print(end_node)\n",
    "\n",
    "path, ddl = dijkstra(seed, end_node, weight_arr)\n",
    "print(path)\n",
    "\n",
    "print(time.time() - t_start)"
   ]
  },
  {
   "cell_type": "code",
   "execution_count": null,
   "id": "8ae2b839",
   "metadata": {},
   "outputs": [],
   "source": [
    "dist_grid = ddl['distgrid']"
   ]
  },
  {
   "cell_type": "code",
   "execution_count": null,
   "id": "702882b3",
   "metadata": {},
   "outputs": [],
   "source": [
    "np.sum(dist_grid != 2e9)"
   ]
  },
  {
   "cell_type": "code",
   "execution_count": null,
   "id": "2d8cf0b7",
   "metadata": {},
   "outputs": [],
   "source": [
    "updateVolumeFromArray(outb_node, ddl['distgrid'])"
   ]
  },
  {
   "cell_type": "code",
   "execution_count": null,
   "id": "6081bd1f",
   "metadata": {},
   "outputs": [],
   "source": [
    "def calculate_backbone():\n",
    "    t_start = time.time()\n",
    "    EXP_NAME = 'TSP + MULTI SUBPATH + DIJKSTRA SHORTEST PATH'\n",
    "\n",
    "    node_name = 'LAD'\n",
    "    fid_node = getNodes(node_name)[node_name]\n",
    "    num_fid = fid_node.GetNumberOfFiducials()\n",
    "\n",
    "    control_points_label2kji_map = {\n",
    "        fid_node.GetNthFiducialLabel(i): np.array(get_fiducial_as_kji(fid_node, i))\n",
    "        for i in range(num_fid)\n",
    "    }\n",
    "    control_points_label2vis_map = {\n",
    "        fid_node.GetNthFiducialLabel(i): fid_node.GetNthFiducialVisibility(i)\n",
    "        for i in range(num_fid)\n",
    "    }\n",
    "\n",
    "    # filter non visible node\n",
    "    for k, v in control_points_label2vis_map.items():\n",
    "        if not v:\n",
    "            control_points_label2kji_map.pop(k, None)\n",
    "\n",
    "    # NN TSP sort\n",
    "    first_node_label = 'LAD-1'\n",
    "    last_node_label = 'LAD-9'\n",
    "\n",
    "    # first_node_label = 'RCA-4'\n",
    "    # last_node_label = 'RCA-12'\n",
    "\n",
    "    unselected_pool = set(control_points_label2kji_map.keys())\n",
    "    control_points_order = [first_node_label]\n",
    "    unselected_pool.remove(first_node_label)\n",
    "    while len(unselected_pool):\n",
    "        min_dist = 999999\n",
    "        min_label = None\n",
    "        current_node = control_points_label2kji_map[control_points_order[-1]]\n",
    "        for label in unselected_pool:\n",
    "            neighbor_node = control_points_label2kji_map[label]\n",
    "            diff = current_node - neighbor_node\n",
    "            dist = np.dot(diff, diff)\n",
    "            if dist < min_dist:\n",
    "                min_dist = dist\n",
    "                min_label = label\n",
    "        unselected_pool.remove(min_label)\n",
    "        control_points_order.append(min_label)\n",
    "\n",
    "        if min_label == last_node_label:\n",
    "            break\n",
    "\n",
    "    print(control_points_order)\n",
    "    control_points_kji = [\n",
    "        tuple(control_points_label2kji_map[e].tolist()) for e in control_points_order\n",
    "    ]\n",
    "\n",
    "    # find shortest path\n",
    "\n",
    "    sub_paths = []\n",
    "    for i in range(len(control_points_kji) - 1):\n",
    "        # seed = get_fiducial_as_kji(fid_node, i)\n",
    "        # end_node = get_fiducial_as_kji(fid_node, i+1)\n",
    "        seed = control_points_kji[i]\n",
    "        end_node = control_points_kji[i + 1]\n",
    "        sub_path, _ = dijkstra(seed, end_node, weight_arr)\n",
    "        if sub_path is not None:\n",
    "            sub_paths.append(sub_path)\n",
    "\n",
    "    for sub_path in sub_paths:\n",
    "        print(sub_path)\n",
    "\n",
    "    full_path = []\n",
    "    c_arr = v_arr.copy()\n",
    "    c_arr[:] = MYNULL\n",
    "\n",
    "    for e in sub_paths:\n",
    "        for order, (i, j, k) in enumerate(e):\n",
    "            # i,j,k = u\n",
    "            c_arr[i, j, k] = (order + 1) * 100\n",
    "        full_path += e[0:-1]\n",
    "    full_path.append(sub_paths[-1][-1])\n",
    "\n",
    "    # for order,(i,j,k) in enumerate():\n",
    "    #         # i,j,k = u\n",
    "    #         c_arr[i,j,k] = 500\n",
    "\n",
    "    updateVolumeFromArray(outc_node, c_arr)\n",
    "\n",
    "    ###### logging result\n",
    "    logger.info(f'experiment: {EXP_NAME} time: {time.time() - t_start}')\n",
    "    # logger.info(f'is_reach: {is_reach}')\n",
    "    logger.info(f'len path:           {len(full_path)}')\n",
    "    # logger.info(f'last iteration:   {it}')\n",
    "    # logger.info(f'{mycount}')\n",
    "\n",
    "    return control_points_order, control_points_kji, full_path, sub_paths\n",
    "\n",
    "\n",
    "# control_points_order, control_points_kji, full_path = calculate_backbone()"
   ]
  },
  {
   "cell_type": "code",
   "execution_count": null,
   "id": "51e089ff",
   "metadata": {},
   "outputs": [],
   "source": [
    "t_start = time.time()\n",
    "EXP_NAME = 'TSP + MULTI SUBPATH + DIJKSTRA SHORTEST PATH'\n",
    "\n",
    "node_name = 'RCA'\n",
    "fid_node = getNodes(node_name)[node_name]\n",
    "num_fid = fid_node.GetNumberOfFiducials()\n",
    "\n",
    "control_points_label2kji_map = {\n",
    "    fid_node.GetNthFiducialLabel(i): np.array(get_fiducial_as_kji(fid_node, i))\n",
    "    for i in range(num_fid)\n",
    "}\n",
    "control_points_label2vis_map = {\n",
    "    fid_node.GetNthFiducialLabel(i): fid_node.GetNthFiducialVisibility(i)\n",
    "    for i in range(num_fid)\n",
    "}\n",
    "\n",
    "# filter non visible node\n",
    "for pos_k, v in control_points_label2vis_map.items():\n",
    "    if not v:\n",
    "        control_points_label2kji_map.pop(pos_k, None)\n",
    "\n",
    "# NN TSP sort\n",
    "# first_node_label = 'LAD-1'\n",
    "# last_node_label = 'LAD-9'\n",
    "\n",
    "first_node_label = 'RCA-4'\n",
    "last_node_label = 'RCA-12'\n",
    "\n",
    "# first_node_label = 'LCX-1'\n",
    "# last_node_label = 'LCX-8'\n",
    "\n",
    "\n",
    "unselected_pool = set(control_points_label2kji_map.keys())\n",
    "control_points_order = [first_node_label]\n",
    "unselected_pool.remove(first_node_label)\n",
    "while len(unselected_pool):\n",
    "    min_dist = 999999\n",
    "    min_label = None\n",
    "    current_node = control_points_label2kji_map[control_points_order[-1]]\n",
    "    for label in unselected_pool:\n",
    "        neighbor_node = control_points_label2kji_map[label]\n",
    "        diff = current_node - neighbor_node\n",
    "        dist = np.dot(diff, diff)\n",
    "        if dist < min_dist:\n",
    "            min_dist = dist\n",
    "            min_label = label\n",
    "    unselected_pool.remove(min_label)\n",
    "    control_points_order.append(min_label)\n",
    "\n",
    "    if min_label == last_node_label:\n",
    "        break\n",
    "\n",
    "print(control_points_order)\n",
    "control_points_kji = [\n",
    "    tuple(control_points_label2kji_map[e].tolist()) for e in control_points_order\n",
    "]\n",
    "\n",
    "# find shortest path\n",
    "\n",
    "sub_paths = []\n",
    "for pos_i in range(len(control_points_kji) - 1):\n",
    "    # seed = get_fiducial_as_kji(fid_node, i)\n",
    "    # end_node = get_fiducial_as_kji(fid_node, i+1)\n",
    "    seed = control_points_kji[pos_i]\n",
    "    end_node = control_points_kji[pos_i + 1]\n",
    "    sub_path = dijkstra(seed, end_node, cost_arr)\n",
    "    if sub_path is not None:\n",
    "        sub_paths.append(sub_path)\n",
    "\n",
    "full_path = []\n",
    "c_arr = v_arr.copy()\n",
    "c_arr[:] = MYNULL\n",
    "\n",
    "for e in sub_paths:\n",
    "    for order, (pos_i, pos_j, pos_k) in enumerate(e):\n",
    "        # i,j,k = u\n",
    "        c_arr[pos_i, pos_j, pos_k] = (order + 1) * 100\n",
    "    full_path += e[0:-1]\n",
    "full_path.append(sub_paths[-1][-1])\n",
    "\n",
    "# for order,(i,j,k) in enumerate():\n",
    "#         # i,j,k = u\n",
    "#         c_arr[i,j,k] = 500\n",
    "\n",
    "updateVolumeFromArray(outc_node, c_arr)\n",
    "\n",
    "###### logging result\n",
    "logger.info(f'experiment: {EXP_NAME} time: {time.time() - t_start}')\n",
    "# logger.info(f'is_reach: {is_reach}')\n",
    "logger.info(f'len path:           {len(full_path)}')\n",
    "# logger.info(f'last iteration:   {it}')\n",
    "# logger.info(f'{mycount}')"
   ]
  },
  {
   "cell_type": "code",
   "execution_count": null,
   "id": "c6cb776b",
   "metadata": {},
   "outputs": [],
   "source": [
    "print(len(full_path))\n",
    "print(len(set(full_path)))"
   ]
  },
  {
   "cell_type": "code",
   "execution_count": null,
   "id": "14749667",
   "metadata": {},
   "outputs": [],
   "source": [
    "# LAD\n",
    "seed = (162, 198, 313)\n",
    "end_node = (152, 175, 345)\n",
    "\n",
    "# # LCX\n",
    "# seed = (160, 204, 306)\n",
    "# end_node = (151, 212, 303)\n",
    "\n",
    "# # RCA\n",
    "# seed = (93, 156, 282)\n",
    "# end_node = (122, 138, 274)\n",
    "\n",
    "kernel_mask = np.zeros((5, 5, 5))\n",
    "kernel_mask[1:4, 1:4, 1:4] = 1\n",
    "kernel_mask[2, 2, 2] = 0\n",
    "kernel_idxs = np.vstack(np.where(kernel_mask == 1)) - np.array([[2], [2], [2]])\n",
    "\n",
    "# dijkstra\n",
    "EXP_NAME = 'DIJKSTRA SHORTEST PATH'\n",
    "t_start = time.time()\n",
    "\n",
    "dist_grid = np.zeros_like(v_arr, np.uint32)\n",
    "dist_grid[:] = 2e9\n",
    "\n",
    "pred_grid = np.full(v_arr.shape, -1, dtype=np.int32)\n",
    "\n",
    "pq = PriorityQueue()\n",
    "pq.put((0, seed))\n",
    "it = 0\n",
    "\n",
    "is_reach = False\n",
    "\n",
    "mycount = 0\n",
    "\n",
    "\n",
    "while (not pq.empty()) and it < 1e6 and (not is_reach):\n",
    "    it += 1\n",
    "\n",
    "    u_dist, u = pq.get()\n",
    "    ui, uj, uk = u\n",
    "    u_pos = np.array(u)\n",
    "\n",
    "    if u_dist > dist_grid[ui, uj, uk]:\n",
    "        mycount += 1\n",
    "        continue\n",
    "\n",
    "    for pos_i in range(kernel_idxs.shape[1]):\n",
    "        v = tuple((kernel_idxs[:, pos_i] + u_pos).tolist())\n",
    "        vi, vj, vk = v\n",
    "\n",
    "        dist = u_dist + cost_arr[vi, vj, vk]\n",
    "\n",
    "        if dist < dist_grid[vi, vj, vk]:\n",
    "            dist_grid[vi, vj, vk] = dist\n",
    "            pred_grid[vi, vj, vk] = coord2z(*u)\n",
    "            pq.put((dist, v))\n",
    "\n",
    "        if v == end_node:\n",
    "            is_reach = True\n",
    "            break\n",
    "\n",
    "logger.info(f'experiment: {EXP_NAME} time: {time.time() - t_start}')\n",
    "logger.info(f'is_reach: {is_reach}')\n",
    "logger.info(f'masked:           {np.sum(pred_grid != -1)}')\n",
    "logger.info(f'last iteration:   {it}')\n",
    "logger.info(f'{mycount}')\n",
    "\n",
    "# print path\n",
    "crawl = end_node\n",
    "pos_i, pos_j, pos_k = crawl\n",
    "path = []\n",
    "it = 0\n",
    "while pred_grid[pos_i, pos_j, pos_k] != -1 and it < 512 + 275 + 512:\n",
    "    it += 1\n",
    "    parent = z2coord(pred_grid[pos_i, pos_j, pos_k])\n",
    "    path.append(parent)\n",
    "    crawl = parent\n",
    "    pos_i, pos_j, pos_k = crawl\n",
    "print(path)\n",
    "\n",
    "c_arr = v_arr.copy()\n",
    "c_arr[:] = MYNULL\n",
    "for order, (pos_i, pos_j, pos_k) in enumerate(path):\n",
    "    # i,j,k = u\n",
    "    c_arr[pos_i, pos_j, pos_k] = (order + 1) * 100\n",
    "updateVolumeFromArray(outc_node, c_arr)"
   ]
  },
  {
   "cell_type": "markdown",
   "id": "9feea6f2",
   "metadata": {},
   "source": [
    "# Create Curve\n"
   ]
  },
  {
   "cell_type": "code",
   "execution_count": 24,
   "id": "ca177f23",
   "metadata": {},
   "outputs": [],
   "source": [
    "def calculate_backbone2(first_node_label, last_node_label, node_name):\n",
    "    t_start = time.time()\n",
    "    EXP_NAME = 'TSP + MULTI SUBPATH + DIJKSTRA SHORTEST PATH'\n",
    "\n",
    "    fid_node = getNodes(node_name)[node_name]\n",
    "    num_fid = fid_node.GetNumberOfFiducials()\n",
    "\n",
    "    control_points_label2kji_map = {\n",
    "        fid_node.GetNthFiducialLabel(i): np.array(get_fiducial_as_kji(fid_node, i))\n",
    "        for i in range(num_fid)\n",
    "    }\n",
    "    control_points_label2vis_map = {\n",
    "        fid_node.GetNthFiducialLabel(i): fid_node.GetNthFiducialVisibility(i)\n",
    "        for i in range(num_fid)\n",
    "    }\n",
    "\n",
    "    # filter non visible node\n",
    "    for k, v in control_points_label2vis_map.items():\n",
    "        if not v:\n",
    "            control_points_label2kji_map.pop(k, None)\n",
    "\n",
    "    # NN TSP sort\n",
    "    # first_node_label = 'LAD-1'\n",
    "    # last_node_label = 'LAD-9'\n",
    "\n",
    "    # first_node_label = 'RCA-4'\n",
    "    # last_node_label = 'RCA-12'\n",
    "\n",
    "    unselected_pool = set(control_points_label2kji_map.keys())\n",
    "    control_points_order = [first_node_label]\n",
    "    unselected_pool.remove(first_node_label)\n",
    "    while len(unselected_pool):\n",
    "        min_dist = 999999\n",
    "        min_label = None\n",
    "        current_node = control_points_label2kji_map[control_points_order[-1]]\n",
    "        for label in unselected_pool:\n",
    "            neighbor_node = control_points_label2kji_map[label]\n",
    "            diff = current_node - neighbor_node\n",
    "            dist = np.dot(diff, diff)\n",
    "            if dist < min_dist:\n",
    "                min_dist = dist\n",
    "                min_label = label\n",
    "        unselected_pool.remove(min_label)\n",
    "        control_points_order.append(min_label)\n",
    "\n",
    "        if min_label == last_node_label:\n",
    "            break\n",
    "\n",
    "    print(control_points_order)\n",
    "    control_points_kji = [\n",
    "        tuple(control_points_label2kji_map[e].tolist()) for e in control_points_order\n",
    "    ]\n",
    "\n",
    "    # find shortest path\n",
    "\n",
    "    sub_paths = []\n",
    "    for i in range(len(control_points_kji) - 1):\n",
    "        # seed = get_fiducial_as_kji(fid_node, i)\n",
    "        # end_node = get_fiducial_as_kji(fid_node, i+1)\n",
    "        seed = control_points_kji[i]\n",
    "        end_node = control_points_kji[i + 1]\n",
    "        sub_path, _ = dijkstra(seed, end_node, weight_arr)\n",
    "        if sub_path is not None:\n",
    "            sub_paths.append(sub_path)\n",
    "\n",
    "    for sub_path in sub_paths:\n",
    "        print(sub_path)\n",
    "\n",
    "    full_path = []\n",
    "\n",
    "    for e in sub_paths:\n",
    "        full_path += e[0:-1]\n",
    "    full_path.append(sub_paths[-1][-1])\n",
    "\n",
    "    # for order,(i,j,k) in enumerate():\n",
    "    #         # i,j,k = u\n",
    "    #         c_arr[i,j,k] = 500\n",
    "\n",
    "    ###### logging result\n",
    "    logger.info(f'experiment: {EXP_NAME} time: {time.time() - t_start}')\n",
    "    # logger.info(f'is_reach: {is_reach}')\n",
    "    logger.info(f'len path:           {len(full_path)}')\n",
    "    # logger.info(f'last iteration:   {it}')\n",
    "    # logger.info(f'{mycount}')\n",
    "\n",
    "    return control_points_order, control_points_kji, full_path, sub_paths\n",
    "\n",
    "\n",
    "# control_points_order, control_points_kji, full_path = calculate_backbone()"
   ]
  },
  {
   "cell_type": "code",
   "execution_count": 25,
   "id": "5f3d6dcf",
   "metadata": {},
   "outputs": [],
   "source": [
    "# def create_curve_all_point(points_kji, curve_name):\n",
    "#     x = np.array(points_kji, np.float)\n",
    "#     x = x.T\n",
    "#     x = x[::-1,:]\n",
    "#     x = np.concatenate( [x, np.ones((1, x.shape[1]))] ,axis=0)\n",
    "#     x = ijk2ras_mat @ x\n",
    "#     x = x[:3,:]\n",
    "\n",
    "#     curve_node = slicer.mrmlScene.AddNewNodeByClass('vtkMRMLMarkupsCurveNode')\n",
    "#     curve_node.SetName(curve_name)\n",
    "\n",
    "#     for pos_j in range(x.shape[1]):\n",
    "#         curve_node.AddControlPoint(vtk.vtkVector3d(*x[:,pos_j]))\n",
    "\n",
    "#     return curve_node\n",
    "\n",
    "\n",
    "def create_curve(points_kji, curve_name, spacing=0.4):\n",
    "    x = np.array(points_kji, np.float)\n",
    "    x = x.T\n",
    "    x = x[::-1, :]\n",
    "    x = np.concatenate([x, np.ones((1, x.shape[1]))], axis=0)\n",
    "    x = ijk2ras_mat @ x\n",
    "    x = x[:3, :]\n",
    "\n",
    "    curve_node = slicer.mrmlScene.AddNewNodeByClass('vtkMRMLMarkupsCurveNode')\n",
    "    curve_node.SetName(curve_name)\n",
    "\n",
    "    # TODO optimize to vectorize accumulation\n",
    "    CURVE_CTRL_SPACING = spacing  # may be mm\n",
    "    count = 0\n",
    "    last_add_dist = 0\n",
    "    curr_dist = 0\n",
    "    curve_node.AddControlPoint(vtk.vtkVector3d(*x[:, 0]))\n",
    "\n",
    "    for pos_j in range(1, x.shape[1]):\n",
    "        prev_ras = x[:, pos_j - 1]\n",
    "        curr_ras = x[:, pos_j]\n",
    "        curr_dist += np.linalg.norm(curr_ras - prev_ras)\n",
    "        if curr_dist - last_add_dist >= CURVE_CTRL_SPACING:\n",
    "            count += 1\n",
    "            # print(curr_dist - last_add_dist)\n",
    "            curve_node.AddControlPoint(vtk.vtkVector3d(*x[:, pos_j]))\n",
    "            last_add_dist = curr_dist\n",
    "\n",
    "    return curve_node\n",
    "\n",
    "\n",
    "# curve_name = \"LAD_CONTROLPOINTS_CURVE\"\n",
    "# curve = create_curve(control_points_kji, curve_name, 0)\n",
    "# print(f'{curve_name} - length: {curve.GetCurveLengthWorld():.2f}')"
   ]
  },
  {
   "cell_type": "code",
   "execution_count": 26,
   "id": "3ad4aa2c",
   "metadata": {},
   "outputs": [
    {
     "name": "stdout",
     "output_type": "stream",
     "text": [
      "['LAD-1', 'LAD-2', 'LAD-3', 'LAD-4', 'LAD-5', 'LAD-6', 'LAD-7', 'LAD-8', 'LAD-9']\n",
      "1834\n",
      "35936\n",
      "1811\n",
      "985\n",
      "906\n",
      "2399\n",
      "1334\n",
      "829\n",
      "[(433, 522, 330), (433, 522, 329), (433, 522, 328), (433, 522, 327), (433, 523, 326), (433, 523, 325), (433, 524, 324), (433, 525, 323)]\n",
      "[(433, 525, 323), (432, 525, 322), (432, 525, 321), (432, 525, 320), (432, 525, 319), (432, 525, 318), (432, 525, 317), (432, 525, 316), (432, 526, 315), (432, 527, 314), (431, 528, 313), (430, 529, 312), (429, 530, 311), (428, 531, 310), (427, 532, 309)]\n",
      "[(427, 532, 309), (427, 532, 308), (427, 532, 307), (427, 532, 306), (426, 533, 305), (425, 534, 304), (425, 535, 303)]\n",
      "[(425, 535, 303), (424, 536, 302), (423, 537, 301), (422, 538, 300), (422, 538, 299)]\n",
      "[(422, 538, 299), (421, 539, 298), (420, 540, 297), (419, 541, 296), (419, 542, 296)]\n",
      "[(419, 542, 296), (418, 543, 295), (417, 544, 294), (416, 545, 293), (415, 546, 292), (414, 547, 291), (414, 548, 290)]\n",
      "[(414, 548, 290), (413, 549, 289), (412, 550, 288), (411, 551, 287), (411, 551, 286), (410, 552, 285), (409, 553, 284), (409, 554, 283)]\n",
      "[(409, 554, 283), (408, 555, 282), (407, 556, 281), (406, 557, 280), (406, 558, 279), (406, 559, 278), (406, 560, 277)]\n"
     ]
    },
    {
     "name": "stderr",
     "output_type": "stream",
     "text": [
      "experiment: TSP + MULTI SUBPATH + DIJKSTRA SHORTEST PATH time: 34.72196102142334\n",
      "len path:           55\n"
     ]
    },
    {
     "name": "stdout",
     "output_type": "stream",
     "text": [
      "['RCA-4', 'RCA-6', 'RCA-5', 'RCA-7', 'RCA-8', 'RCA-9', 'RCA-1', 'RCA-10', 'RCA-2', 'RCA-3', 'RCA-13', 'RCA-14', 'RCA-11', 'RCA-16', 'RCA-15', 'RCA-12']\n",
      "124885\n",
      "51\n",
      "4537\n",
      "14866\n",
      "1606\n",
      "39\n",
      "889\n",
      "3657\n",
      "2150\n",
      "5000000\n",
      "not reach\n",
      "1644\n",
      "160\n",
      "45\n",
      "585\n",
      "39\n",
      "[(249, 592, 382), (249, 593, 383), (249, 594, 384), (249, 595, 385), (249, 596, 386), (249, 597, 387), (249, 598, 388), (249, 599, 389), (249, 600, 390), (249, 601, 391), (249, 602, 392), (249, 603, 392), (249, 604, 392), (249, 605, 392), (249, 606, 393), (249, 607, 394), (249, 608, 394), (249, 609, 395), (249, 610, 395), (249, 611, 395), (249, 612, 395), (249, 613, 395), (250, 614, 395), (251, 615, 395), (251, 616, 395)]\n",
      "[(251, 616, 395), (250, 616, 395), (249, 616, 396)]\n",
      "[(249, 616, 396), (250, 616, 396), (251, 617, 395), (252, 617, 395), (253, 618, 395), (254, 619, 395), (255, 620, 395), (256, 620, 395), (257, 621, 395)]\n",
      "[(257, 621, 395), (258, 622, 396), (259, 623, 397), (260, 624, 397), (261, 625, 397), (262, 626, 397), (263, 627, 397), (264, 628, 397), (265, 629, 397), (266, 630, 397), (267, 631, 397)]\n",
      "[(267, 631, 397), (268, 631, 397), (269, 631, 397), (270, 632, 396), (271, 632, 396), (272, 632, 396), (273, 633, 396)]\n",
      "[(273, 633, 396), (274, 633, 395), (275, 633, 395)]\n",
      "[(275, 633, 395), (276, 632, 395), (277, 632, 395), (278, 632, 395), (279, 632, 395), (280, 632, 395), (281, 632, 395)]\n",
      "[(281, 632, 395), (282, 632, 395), (283, 632, 395), (284, 631, 395), (285, 631, 395), (286, 630, 396), (287, 629, 397), (288, 629, 397), (289, 629, 397)]\n",
      "[(289, 629, 397), (290, 629, 397), (291, 629, 397), (292, 629, 397), (293, 629, 397), (294, 629, 397), (295, 629, 397), (296, 629, 398), (297, 629, 398)]\n",
      "[]\n",
      "[(310, 628, 398), (311, 628, 398), (312, 628, 398), (313, 627, 398), (314, 627, 398), (315, 626, 398), (316, 625, 398)]\n",
      "[(316, 625, 398), (317, 625, 399), (318, 624, 400), (319, 624, 400)]\n",
      "[(319, 624, 400), (320, 624, 399), (320, 624, 398)]\n",
      "[(320, 624, 398), (321, 624, 398), (322, 624, 398), (323, 623, 397), (324, 622, 396)]\n",
      "[(324, 622, 396), (325, 622, 395), (326, 622, 395)]\n"
     ]
    },
    {
     "name": "stderr",
     "output_type": "stream",
     "text": [
      "experiment: TSP + MULTI SUBPATH + DIJKSTRA SHORTEST PATH time: 491.7574439048767\n",
      "len path:           92\n"
     ]
    },
    {
     "name": "stdout",
     "output_type": "stream",
     "text": [
      "['LCX-1', 'LCX-2', 'LCX-3', 'LCX-4', 'LCX-5', 'LCX-6', 'LCX-8']\n",
      "724\n",
      "806\n",
      "1358\n",
      "629\n",
      "303\n",
      "161\n",
      "[(427, 512, 341), (426, 512, 341), (425, 512, 341), (424, 511, 342), (423, 511, 342), (422, 511, 342)]\n",
      "[(422, 511, 342), (421, 510, 343), (420, 510, 343), (419, 510, 343), (418, 510, 343), (417, 510, 344)]\n",
      "[(417, 510, 344), (416, 509, 345), (415, 509, 345), (414, 509, 346), (413, 508, 347), (412, 508, 347), (411, 508, 347)]\n",
      "[(411, 508, 347), (410, 507, 347), (409, 507, 347), (408, 507, 347), (407, 507, 347), (406, 506, 347)]\n",
      "[(406, 506, 347), (405, 505, 347), (404, 504, 347), (403, 503, 346)]\n",
      "[(403, 503, 346), (403, 502, 346), (402, 501, 347), (402, 500, 347)]\n"
     ]
    },
    {
     "name": "stderr",
     "output_type": "stream",
     "text": [
      "experiment: TSP + MULTI SUBPATH + DIJKSTRA SHORTEST PATH time: 22.227992057800293\n",
      "len path:           28\n"
     ]
    }
   ],
   "source": [
    "# first_node_label = 'LAD-1'\n",
    "# last_node_label = 'LAD-9'\n",
    "\n",
    "# first_node_label = 'RCA-4'\n",
    "# last_node_label = 'RCA-12'\n",
    "\n",
    "# first_node_label = 'LCX-1'\n",
    "# last_node_label = 'LCX-8'\n",
    "\n",
    "\n",
    "curve_data = dict()\n",
    "\n",
    "for first_node_label, last_node_label, node_name in zip(\n",
    "    ('LAD-1', 'RCA-4', 'LCX-1'), ('LAD-9', 'RCA-12', 'LCX-8'), ('LAD', 'RCA', 'LCX')\n",
    "):\n",
    "    control_points_order, control_points_kji, full_path, sub_paths = (\n",
    "        calculate_backbone2(first_node_label, last_node_label, node_name)\n",
    "    )\n",
    "\n",
    "    curve_name = f'{node_name}_CONTROLPOINTS_CURVE'\n",
    "    curve = create_curve(control_points_kji, curve_name, 0)\n",
    "\n",
    "    curve_data[curve_name] = (\n",
    "        control_points_order,\n",
    "        control_points_kji,\n",
    "        full_path,\n",
    "        sub_paths,\n",
    "        curve,\n",
    "    )\n",
    "\n",
    "    # control_points_order, control_points_kji, full_path, sub_paths = calculate_backbone2(first_node_label, last_node_label, node_name)\n",
    "\n",
    "    curve_name = f'{node_name}_FINE_CURVE'\n",
    "    curve = create_curve(full_path, curve_name, 0.4)\n",
    "\n",
    "    curve_data[curve_name] = (\n",
    "        control_points_order,\n",
    "        control_points_kji,\n",
    "        full_path,\n",
    "        sub_paths,\n",
    "        curve,\n",
    "    )\n",
    "    # print(f'{curve_name} - length: {curve.GetCurveLengthWorld():.2f}')\n",
    "\n",
    "# c_arr = v_arr.copy()\n",
    "# c_arr[:] = MYNULL\n",
    "# for e in sub_paths:\n",
    "#     for order,(i,j,k) in enumerate(e):\n",
    "#     # i,j,k = u\n",
    "#     c_arr[i,j,k] = (order + 1) * 100\n",
    "\n",
    "# updateVolumeFromArray(outc_node, c_arr)"
   ]
  },
  {
   "cell_type": "code",
   "execution_count": null,
   "id": "4c38ae70",
   "metadata": {},
   "outputs": [],
   "source": [
    "print(\n",
    "    f'only control point curve - length: {ctrlpts_curve_node.GetCurveLengthWorld():.3f} mm.'\n",
    ")\n",
    "print(f'fine curve - length: {allpts_curve_node.GetCurveLengthWorld():.3f} mm.')"
   ]
  },
  {
   "cell_type": "code",
   "execution_count": null,
   "id": "065006d2",
   "metadata": {},
   "outputs": [],
   "source": [
    "len(curve_data['RCA_FINE_CURVE'][2])"
   ]
  },
  {
   "cell_type": "code",
   "execution_count": null,
   "id": "fc4c22a1",
   "metadata": {},
   "outputs": [],
   "source": [
    "np.save('data/pda/full_path.npy', np.array(full_path))"
   ]
  },
  {
   "cell_type": "code",
   "execution_count": null,
   "id": "27ff1df7",
   "metadata": {},
   "outputs": [],
   "source": [
    "# sanity check\n",
    "count = 0\n",
    "for pos_i, sub_path in enumerate(sub_paths):\n",
    "    unique_node = len(set(sub_path))\n",
    "    print(f'path {pos_i}: {len(sub_path)} -uniq-> {unique_node}')\n",
    "    count += unique_node\n",
    "print(f'unique node: {count}')"
   ]
  },
  {
   "cell_type": "code",
   "execution_count": null,
   "id": "5df30609",
   "metadata": {},
   "outputs": [],
   "source": [
    "print(len(full_path))\n",
    "print(len(set(full_path)))"
   ]
  },
  {
   "cell_type": "code",
   "execution_count": null,
   "id": "29ab521d",
   "metadata": {},
   "outputs": [],
   "source": [
    "print(len(sub_paths))\n",
    "for pos_i, sub_path in enumerate(sub_paths):\n",
    "    curve_node = slicer.mrmlScene.AddNewNodeByClass('vtkMRMLMarkupsCurveNode')\n",
    "    curve_node.SetName(f'debug_curve_{pos_i}')\n",
    "    x = np.array(sub_path, np.float)\n",
    "    x = x.T\n",
    "    x = x[::-1, :]\n",
    "    x = np.concatenate([x, np.ones((1, x.shape[1]))], axis=0)\n",
    "    x = ijk2ras_mat @ x\n",
    "    x = x[:3, :]\n",
    "\n",
    "    for pos_j in range(0, x.shape[1], 8):\n",
    "        curve_node.AddControlPoint(vtk.vtkVector3d(*x[:, pos_j]))"
   ]
  },
  {
   "cell_type": "code",
   "execution_count": null,
   "id": "e085a4f7",
   "metadata": {},
   "outputs": [],
   "source": [
    "ctrlpts_curve_node = slicer.mrmlScene.AddNewNodeByClass('vtkMRMLMarkupsCurveNode')\n",
    "ctrlpts_curve_node.SetName('control_points_curve')\n",
    "\n",
    "allpts_curve_node = slicer.mrmlScene.AddNewNodeByClass('vtkMRMLMarkupsCurveNode')\n",
    "allpts_curve_node.SetName('all_points_curve')"
   ]
  },
  {
   "cell_type": "code",
   "execution_count": null,
   "id": "06d99b66",
   "metadata": {},
   "outputs": [],
   "source": [
    "ras2ijk_mat @ np.concatenate(\n",
    "    [nodes_pos[pos_i], np.ones((nodes_pos[pos_i].shape[0], 1))], axis=1\n",
    ").T"
   ]
  },
  {
   "cell_type": "code",
   "execution_count": null,
   "id": "828382ff",
   "metadata": {},
   "outputs": [],
   "source": [
    "# create curve\n",
    "for e in control_points_kji:\n",
    "    # ctrlpts_curve_node.GetNthControlPointPosition(i, position)\n",
    "    ctrlpts_curve_node.AddControlPoint(vtk.vtkVector3d(*e))\n",
    "\n",
    "# for e in full_path:\n",
    "#     allpts_curve_node.AddControlPoint(vtk.vtkVector3d(*e))"
   ]
  },
  {
   "cell_type": "code",
   "execution_count": null,
   "id": "e6d35f32",
   "metadata": {},
   "outputs": [],
   "source": [
    "x = np.array(control_points_kji, np.float)\n",
    "x = x.T\n",
    "x = x[::-1, :]\n",
    "x = np.concatenate([x, np.ones((1, x.shape[1]))], axis=0)\n",
    "x = ijk2ras_mat @ x\n",
    "x = x[:3, :]\n",
    "\n",
    "for pos_j in range(x.shape[1]):\n",
    "    ctrlpts_curve_node.AddControlPoint(vtk.vtkVector3d(*x[:, pos_j]))\n",
    "# for i in range()\n",
    "\n",
    "# x = np.array(ijk2kji(x))"
   ]
  },
  {
   "cell_type": "code",
   "execution_count": null,
   "id": "725e2ac6",
   "metadata": {},
   "outputs": [],
   "source": [
    "x = np.array(full_path, np.float)\n",
    "x = x.T\n",
    "x = x[::-1, :]\n",
    "x = np.concatenate([x, np.ones((1, x.shape[1]))], axis=0)\n",
    "x = ijk2ras_mat @ x\n",
    "x = x[:3, :]\n",
    "\n",
    "\n",
    "# TODO optimize to vectorize accumulation\n",
    "CURVE_CTRL_SPACING = 0.4  # may be mm\n",
    "count = 0\n",
    "last_add_dist = 0\n",
    "curr_dist = 0\n",
    "allpts_curve_node.AddControlPoint(vtk.vtkVector3d(*x[:, 0]))\n",
    "\n",
    "for pos_j in range(1, x.shape[1]):\n",
    "    prev_ras = x[:, pos_j - 1]\n",
    "    curr_ras = x[:, pos_j]\n",
    "    curr_dist += np.linalg.norm(curr_ras - prev_ras)\n",
    "    if curr_dist - last_add_dist >= CURVE_CTRL_SPACING:\n",
    "        count += 1\n",
    "        # print(curr_dist - last_add_dist)\n",
    "        allpts_curve_node.AddControlPoint(vtk.vtkVector3d(*x[:, pos_j]))\n",
    "        last_add_dist = curr_dist\n",
    "print(count)\n",
    "print(curr_dist)"
   ]
  },
  {
   "cell_type": "code",
   "execution_count": null,
   "id": "cd5dc9a9",
   "metadata": {},
   "outputs": [],
   "source": [
    "print(\n",
    "    f'only control point curve - length: {ctrlpts_curve_node.GetCurveLengthWorld():.3f} mm.'\n",
    ")\n",
    "print(f'fine curve - length: {allpts_curve_node.GetCurveLengthWorld():.3f} mm.')"
   ]
  },
  {
   "cell_type": "code",
   "execution_count": null,
   "id": "9fd44984",
   "metadata": {},
   "outputs": [],
   "source": [
    "node_name = 'LCX'\n",
    "first_node_label = 'LCX-1'\n",
    "last_node_label = 'LCX-8'\n",
    "control_points_order, control_points_kji, full_path, sub_paths = calculate_backbone2(\n",
    "    first_node_label, last_node_label, node_name\n",
    ")\n",
    "\n",
    "curve_name = f'{node_name}_FINE_CURVE'\n",
    "curve = create_curve(full_path, curve_name, 0.4)\n",
    "updateVolumeFromArray(outa_node, weight_arr)"
   ]
  },
  {
   "cell_type": "markdown",
   "id": "a28b4feb",
   "metadata": {},
   "source": [
    "# Flood Fill without caps\n"
   ]
  },
  {
   "cell_type": "code",
   "execution_count": 27,
   "id": "f9395e28",
   "metadata": {},
   "outputs": [
    {
     "data": {
      "text/plain": [
       "79"
      ]
     },
     "execution_count": 27,
     "metadata": {},
     "output_type": "execute_result"
    }
   ],
   "source": [
    "curve_node = curve_data['LAD_FINE_CURVE'][4]\n",
    "_curve_points = curve_node.GetCurvePointsWorld()\n",
    "curve_points = [\n",
    "    _curve_points.GetPoint(i) for i in range(_curve_points.GetNumberOfPoints())\n",
    "]\n",
    "del _curve_points\n",
    "\n",
    "curve_points_kji = (\n",
    "    np.round(\n",
    "        ras2ijk_mat\n",
    "        @ np.concatenate(\n",
    "            [np.array(curve_points), np.ones((len(curve_points), 1))], axis=1\n",
    "        ).T\n",
    "    )\n",
    "    .astype(np.uint16)\n",
    "    .T\n",
    ")[:, (2, 1, 0)].tolist()\n",
    "curve_points_kji = {tuple(e) for e in curve_points_kji}\n",
    "len(curve_points_kji)"
   ]
  },
  {
   "cell_type": "code",
   "execution_count": 39,
   "id": "e837670f",
   "metadata": {},
   "outputs": [
    {
     "name": "stdout",
     "output_type": "stream",
     "text": [
      "2555\n"
     ]
    }
   ],
   "source": [
    "# v1\n",
    "kernel_mask = np.zeros((5, 5, 5))\n",
    "kernel_mask[1:4, 2, 2] = 1\n",
    "kernel_mask[2, 1:4, 2] = 1\n",
    "kernel_mask[2, 2, 1:4] = 1\n",
    "kernel_mask[2, 2, 2] = 0\n",
    "kernel_idxs = np.vstack(np.where(kernel_mask == 1)) - np.array([[2], [2], [2]])\n",
    "\n",
    "# dist_grid = np.zeros_like(v_arr, np.float64)\n",
    "# dist_grid[:] = 2e9\n",
    "# dist_grid[seed] = 0\n",
    "\n",
    "visited = set()\n",
    "artery = []\n",
    "\n",
    "# pred_grid = np.full(v_arr.shape, -1, dtype=np.int32)\n",
    "\n",
    "pq = PriorityQueue()\n",
    "it = 0\n",
    "\n",
    "for seed in curve_points_kji:\n",
    "    pq.put((0, seed))\n",
    "\n",
    "MAX_PQ_OFFSET = 5\n",
    "# DIFF_MAX = 300\n",
    "DIFF_MAX = 150  # upsampling\n",
    "\n",
    "\n",
    "is_reach = False\n",
    "debug_dict = dict()\n",
    "\n",
    "while (not pq.empty()) and it < 1e5:\n",
    "    it += 1\n",
    "\n",
    "    u_dist, u = pq.get()\n",
    "    uk, uj, ui = u\n",
    "    u_pos = np.array(u)\n",
    "    artery.append((u_dist, u))\n",
    "\n",
    "    for i in range(kernel_idxs.shape[1]):\n",
    "        v = tuple((kernel_idxs[:, i] + u_pos).tolist())\n",
    "        vk, vj, vi = v\n",
    "\n",
    "        # ras_vecx2 = kji_list2ras([u,v])\n",
    "        # dist_uv = np.linalg.norm(ras_vecx2[:,0] - ras_vecx2[:,1])\n",
    "\n",
    "        # _uvk, _uvj, _uvi = kernel_idxs[:,i] + 1\n",
    "        # dist_uv = kernel_ras_distance[_uvk, _uvj, _uvi]\n",
    "        # curr_cost = dist_uv * v_arr[vi,vj,vk]\n",
    "\n",
    "        # dist = u_dist + curr_cost\n",
    "\n",
    "        diff = abs(v_arr[uk, uj, ui] - v_arr[vk, vj, vi])\n",
    "        # if dist < dist_grid[vi,vj,vk]:\n",
    "        if v not in visited and u_dist < MAX_PQ_OFFSET and v_arr[vk, vj, vi] <= -100:\n",
    "            # dist_grid[vi,vj,vk] = dist\n",
    "            # pred_grid[vi,vj,vk] = coord2z(*u)\n",
    "            dist = u_dist + 1\n",
    "            pq.put((dist, v))\n",
    "\n",
    "        visited.add(v)\n",
    "\n",
    "        # if v == end_node:\n",
    "        #     is_reach = True\n",
    "\n",
    "print(len(artery))\n",
    "\n",
    "\n",
    "# updateVolumeFromArray(outc_node, c_arr)"
   ]
  },
  {
   "cell_type": "code",
   "execution_count": 52,
   "id": "9127b5da",
   "metadata": {},
   "outputs": [
    {
     "name": "stdout",
     "output_type": "stream",
     "text": [
      "[(0, (406, 556, 281)), (0, (406, 557, 280)), (0, (406, 558, 279)), (0, (406, 559, 278)), (0, (406, 560, 277)), (0, (407, 556, 281)), (0, (408, 555, 282)), (0, (409, 552, 285)), (0, (409, 553, 283)), (0, (409, 553, 284)), (0, (409, 553, 285)), (0, (409, 554, 283)), (0, (409, 555, 283)), (0, (410, 552, 285)), (0, (411, 551, 286)), (0, (411, 551, 287)), (0, (411, 551, 288)), (0, (411, 552, 285)), (0, (412, 549, 288)), (0, (412, 550, 288)), (0, (413, 549, 289)), (0, (414, 547, 290)), (0, (414, 547, 291)), (0, (414, 547, 292)), (0, (414, 548, 290)), (0, (414, 549, 290)), (0, (415, 546, 292)), (0, (416, 545, 292)), (0, (416, 545, 293)), (0, (417, 544, 294)), (0, (418, 543, 295)), (0, (419, 540, 296)), (0, (419, 541, 296)), (0, (419, 542, 296)), (0, (420, 540, 297)), (0, (420, 540, 298)), (0, (421, 539, 298)), (0, (422, 538, 298)), (0, (422, 538, 299)), (0, (422, 538, 300)), (0, (423, 537, 301)), (0, (424, 536, 302)), (0, (425, 533, 305)), (0, (425, 534, 304)), (0, (425, 535, 303)), (0, (425, 536, 302)), (0, (426, 533, 305)), (0, (427, 532, 306)), (0, (427, 532, 307)), (0, (427, 532, 308)), (0, (427, 532, 309)), (0, (427, 532, 310)), (0, (428, 531, 310)), (0, (429, 530, 310)), (0, (429, 530, 311)), (0, (429, 530, 312)), (0, (430, 528, 312)), (0, (430, 529, 312)), (0, (431, 528, 313)), (0, (432, 525, 316)), (0, (432, 525, 317)), (0, (432, 525, 318)), (0, (432, 525, 319)), (0, (432, 525, 320)), (0, (432, 525, 321)), (0, (432, 525, 322)), (0, (432, 526, 315)), (0, (432, 527, 314)), (0, (433, 522, 327)), (0, (433, 522, 328)), (0, (433, 522, 329)), (0, (433, 522, 330)), (0, (433, 523, 324)), (0, (433, 523, 325)), (0, (433, 523, 326)), (0, (433, 524, 324)), (0, (433, 525, 322)), (0, (433, 525, 323)), (0, (433, 525, 324)), (1, (405, 556, 281)), (1, (405, 557, 280)), (1, (405, 558, 279)), (1, (405, 559, 278)), (1, (405, 560, 277)), (1, (406, 555, 281)), (1, (406, 556, 280)), (1, (406, 556, 281)), (1, (406, 556, 282)), (1, (406, 557, 279)), (1, (406, 557, 281)), (1, (406, 558, 278)), (1, (406, 558, 280)), (1, (406, 559, 277)), (1, (406, 559, 279)), (1, (406, 560, 276)), (1, (406, 560, 278)), (1, (406, 561, 277)), (1, (407, 555, 281)), (1, (407, 555, 282)), (1, (407, 556, 280)), (1, (407, 556, 281)), (1, (407, 556, 282)), (1, (407, 557, 280)), (1, (407, 557, 281)), (1, (407, 558, 279)), (1, (407, 559, 278)), (1, (407, 560, 277)), (1, (408, 552, 285)), (1, (408, 553, 283)), (1, (408, 553, 284)), (1, (408, 553, 285)), (1, (408, 554, 282)), (1, (408, 554, 283)), (1, (408, 555, 281)), (1, (408, 555, 283)), (1, (408, 556, 281)), (1, (408, 556, 282)), (1, (409, 551, 285)), (1, (409, 552, 283)), (1, (409, 552, 284)), (1, (409, 552, 285)), (1, (409, 552, 286)), (1, (409, 553, 282)), (1, (409, 553, 283)), (1, (409, 553, 284)), (1, (409, 553, 285)), (1, (409, 553, 286)), (1, (409, 554, 282)), (1, (409, 554, 283)), (1, (409, 554, 284)), (1, (409, 554, 285)), (1, (409, 555, 282)), (1, (409, 555, 283)), (1, (409, 555, 284)), (1, (409, 556, 283)), (1, (410, 551, 285)), (1, (410, 551, 286)), (1, (410, 551, 287)), (1, (410, 551, 288)), (1, (410, 552, 284)), (1, (410, 552, 285)), (1, (410, 552, 286)), (1, (410, 553, 283)), (1, (410, 553, 284)), (1, (410, 553, 285)), (1, (410, 554, 283)), (1, (410, 555, 283)), (1, (411, 549, 288)), (1, (411, 550, 286)), (1, (411, 550, 287)), (1, (411, 550, 288)), (1, (411, 551, 285)), (1, (411, 551, 286)), (1, (411, 551, 287)), (1, (411, 551, 288)), (1, (411, 551, 289)), (1, (411, 552, 284)), (1, (411, 552, 285)), (1, (411, 552, 286)), (1, (411, 552, 287)), (1, (411, 552, 288)), (1, (411, 553, 285)), (1, (412, 548, 288)), (1, (412, 549, 287)), (1, (412, 549, 288)), (1, (412, 549, 289)), (1, (412, 550, 287)), (1, (412, 550, 288)), (1, (412, 550, 289)), (1, (412, 551, 286)), (1, (412, 551, 287)), (1, (412, 551, 288)), (1, (412, 552, 285)), (1, (413, 547, 290)), (1, (413, 547, 291)), (1, (413, 547, 292)), (1, (413, 548, 289)), (1, (413, 548, 290)), (1, (413, 549, 288)), (1, (413, 549, 290)), (1, (413, 550, 288)), (1, (413, 550, 289)), (1, (414, 546, 290)), (1, (414, 546, 291)), (1, (414, 546, 292)), (1, (414, 547, 289)), (1, (414, 547, 290)), (1, (414, 547, 291)), (1, (414, 547, 292)), (1, (414, 547, 293)), (1, (414, 548, 289)), (1, (414, 548, 290)), (1, (414, 548, 291)), (1, (414, 548, 292)), (1, (414, 549, 289)), (1, (414, 549, 290)), (1, (414, 549, 291)), (1, (414, 550, 290)), (1, (415, 545, 292)), (1, (415, 545, 293)), (1, (415, 546, 291)), (1, (415, 546, 293)), (1, (415, 547, 290)), (1, (415, 547, 291)), (1, (415, 547, 292)), (1, (415, 548, 290)), (1, (415, 549, 290)), (1, (416, 544, 292)), (1, (416, 544, 293)), (1, (416, 544, 294)), (1, (416, 545, 291)), (1, (416, 545, 292)), (1, (416, 545, 293)), (1, (416, 545, 294)), (1, (416, 546, 292)), (1, (416, 546, 293)), (1, (417, 543, 294)), (1, (417, 543, 295)), (1, (417, 544, 293)), (1, (417, 544, 295)), (1, (417, 545, 292)), (1, (417, 545, 293)), (1, (417, 545, 294)), (1, (418, 540, 296)), (1, (418, 541, 296)), (1, (418, 542, 295)), (1, (418, 542, 296)), (1, (418, 543, 294)), (1, (418, 543, 296)), (1, (418, 544, 294)), (1, (418, 544, 295)), (1, (419, 539, 296)), (1, (419, 540, 295)), (1, (419, 540, 296)), (1, (419, 540, 297)), (1, (419, 540, 298)), (1, (419, 541, 295)), (1, (419, 541, 296)), (1, (419, 541, 297)), (1, (419, 542, 295)), (1, (419, 542, 296)), (1, (419, 542, 297)), (1, (419, 543, 295)), (1, (419, 543, 296)), (1, (420, 539, 297)), (1, (420, 539, 298)), (1, (420, 540, 296)), (1, (420, 540, 297)), (1, (420, 540, 298)), (1, (420, 540, 299)), (1, (420, 541, 296)), (1, (420, 541, 297)), (1, (420, 541, 298)), (1, (420, 542, 296)), (1, (421, 538, 298)), (1, (421, 538, 299)), (1, (421, 538, 300)), (1, (421, 539, 297)), (1, (421, 539, 299)), (1, (421, 540, 297)), (1, (421, 540, 298)), (1, (422, 537, 298)), (1, (422, 537, 299)), (1, (422, 537, 300)), (1, (422, 537, 301)), (1, (422, 538, 297)), (1, (422, 538, 298)), (1, (422, 538, 299)), (1, (422, 538, 300)), (1, (422, 538, 301)), (1, (422, 539, 298)), (1, (422, 539, 299)), (1, (422, 539, 300)), (1, (423, 536, 301)), (1, (423, 536, 302)), (1, (423, 537, 300)), (1, (423, 537, 302)), (1, (423, 538, 298)), (1, (423, 538, 299)), (1, (423, 538, 300)), (1, (423, 538, 301)), (1, (424, 533, 305)), (1, (424, 534, 304)), (1, (424, 535, 302)), (1, (424, 535, 303)), (1, (424, 536, 301)), (1, (424, 536, 302)), (1, (424, 536, 303)), (1, (424, 537, 301)), (1, (424, 537, 302)), (1, (425, 532, 305)), (1, (425, 533, 304)), (1, (425, 533, 305)), (1, (425, 533, 306)), (1, (425, 534, 303)), (1, (425, 534, 305)), (1, (425, 535, 302)), (1, (425, 535, 304)), (1, (425, 536, 301)), (1, (425, 536, 302)), (1, (425, 536, 303)), (1, (425, 537, 302)), (1, (426, 532, 305)), (1, (426, 532, 306)), (1, (426, 532, 307)), (1, (426, 532, 308)), (1, (426, 532, 309)), (1, (426, 532, 310)), (1, (426, 533, 304)), (1, (426, 533, 305)), (1, (426, 533, 306)), (1, (426, 534, 304)), (1, (426, 534, 305)), (1, (426, 535, 303)), (1, (426, 536, 302)), (1, (427, 531, 306)), (1, (427, 531, 307)), (1, (427, 531, 308)), (1, (427, 531, 309)), (1, (427, 531, 310)), (1, (427, 532, 305)), (1, (427, 532, 306)), (1, (427, 532, 307)), (1, (427, 532, 308)), (1, (427, 532, 309)), (1, (427, 532, 310)), (1, (427, 532, 311)), (1, (427, 533, 305)), (1, (427, 533, 306)), (1, (427, 533, 307)), (1, (427, 533, 308)), (1, (427, 533, 309)), (1, (427, 533, 310)), (1, (428, 530, 310)), (1, (428, 530, 311)), (1, (428, 531, 309)), (1, (428, 531, 311)), (1, (428, 532, 306)), (1, (428, 532, 307)), (1, (428, 532, 308)), (1, (428, 532, 309)), (1, (428, 532, 310)), (1, (429, 528, 312)), (1, (429, 529, 310)), (1, (429, 529, 311)), (1, (429, 529, 312)), (1, (429, 530, 309)), (1, (429, 530, 310)), (1, (429, 530, 311)), (1, (429, 530, 312)), (1, (429, 531, 310)), (1, (429, 531, 311)), (1, (429, 531, 312)), (1, (430, 527, 312)), (1, (430, 528, 311)), (1, (430, 528, 312)), (1, (430, 528, 313)), (1, (430, 529, 311)), (1, (430, 529, 312)), (1, (430, 529, 313)), (1, (430, 530, 310)), (1, (430, 530, 311)), (1, (430, 530, 312)), (1, (431, 525, 316)), (1, (431, 525, 322)), (1, (431, 527, 313)), (1, (431, 527, 314)), (1, (431, 528, 312)), (1, (431, 529, 312)), (1, (431, 529, 313)), (1, (432, 522, 327)), (1, (432, 522, 328)), (1, (432, 522, 329)), (1, (432, 522, 330)), (1, (432, 523, 324)), (1, (432, 523, 325)), (1, (432, 523, 326)), (1, (432, 524, 316)), (1, (432, 524, 317)), (1, (432, 524, 318)), (1, (432, 524, 319)), (1, (432, 524, 320)), (1, (432, 524, 321)), (1, (432, 524, 322)), (1, (432, 524, 324)), (1, (432, 525, 315)), (1, (432, 525, 316)), (1, (432, 525, 321)), (1, (432, 525, 322)), (1, (432, 525, 323)), (1, (432, 525, 324)), (1, (432, 526, 314)), (1, (432, 526, 321)), (1, (432, 526, 322)), (1, (432, 527, 313)), (1, (432, 528, 313)), (1, (432, 528, 314)), (1, (433, 521, 327)), (1, (433, 521, 328)), (1, (433, 521, 329)), (1, (433, 521, 330)), (1, (433, 522, 324)), (1, (433, 522, 325)), (1, (433, 522, 326)), (1, (433, 522, 327)), (1, (433, 522, 328)), (1, (433, 522, 329)), (1, (433, 522, 330)), (1, (433, 522, 331)), (1, (433, 523, 323)), (1, (433, 523, 324)), (1, (433, 523, 325)), (1, (433, 523, 326)), (1, (433, 523, 327)), (1, (433, 523, 328)), (1, (433, 523, 329)), (1, (433, 523, 330)), (1, (433, 524, 322)), (1, (433, 524, 323)), (1, (433, 524, 324)), (1, (433, 524, 325)), (1, (433, 524, 326)), (1, (433, 525, 316)), (1, (433, 525, 321)), (1, (433, 525, 322)), (1, (433, 525, 323)), (1, (433, 525, 324)), (1, (433, 525, 325)), (1, (433, 526, 315)), (1, (433, 526, 322)), (1, (433, 526, 323)), (1, (433, 526, 324)), (1, (433, 527, 314)), (1, (434, 522, 327)), (1, (434, 522, 328)), (1, (434, 522, 329)), (1, (434, 522, 330)), (1, (434, 523, 324)), (1, (434, 523, 325)), (1, (434, 523, 326)), (1, (434, 524, 324)), (1, (434, 525, 323)), (1, (434, 525, 324)), (2, (404, 559, 278)), (2, (404, 560, 277)), (2, (405, 556, 280)), (2, (405, 556, 282)), (2, (405, 557, 279)), (2, (405, 557, 281)), (2, (405, 558, 278)), (2, (405, 558, 280)), (2, (405, 559, 277)), (2, (405, 559, 279)), (2, (405, 560, 276)), (2, (405, 560, 278)), (2, (405, 561, 277)), (2, (406, 555, 280)), (2, (406, 555, 282)), (2, (406, 556, 279)), (2, (406, 556, 283)), (2, (406, 557, 278)), (2, (406, 557, 280)), (2, (406, 557, 282)), (2, (406, 558, 277)), (2, (406, 558, 279)), (2, (406, 558, 281)), (2, (406, 559, 276)), (2, (406, 559, 278)), (2, (406, 559, 280)), (2, (406, 560, 275)), (2, (406, 560, 277)), (2, (406, 560, 279)), (2, (406, 561, 276)), (2, (406, 561, 278)), (2, (407, 553, 283)), (2, (407, 553, 284)), (2, (407, 553, 285)), (2, (407, 554, 281)), (2, (407, 554, 282)), (2, (407, 554, 283)), (2, (407, 555, 280)), (2, (407, 555, 283)), (2, (407, 556, 279)), (2, (407, 556, 283)), (2, (407, 557, 279)), (2, (407, 557, 282)), (2, (407, 558, 278)), (2, (407, 558, 280)), (2, (407, 558, 281)), (2, (407, 559, 277)), (2, (407, 559, 279)), (2, (407, 560, 276)), (2, (407, 560, 278)), (2, (407, 561, 277)), (2, (408, 551, 285)), (2, (408, 552, 283)), (2, (408, 552, 284)), (2, (408, 552, 286)), (2, (408, 553, 282)), (2, (408, 553, 286)), (2, (408, 554, 281)), (2, (408, 554, 284)), (2, (408, 554, 285)), (2, (408, 555, 280)), (2, (408, 555, 282)), (2, (408, 555, 284)), (2, (408, 556, 280)), (2, (408, 556, 283)), (2, (408, 557, 280)), (2, (408, 557, 281)), (2, (408, 557, 282)), (2, (408, 558, 279)), (2, (408, 559, 278)), (2, (409, 551, 284)), (2, (409, 551, 286)), (2, (409, 551, 287)), (2, (409, 551, 288)), (2, (409, 552, 287)), (2, (409, 553, 281)), (2, (409, 553, 287)), (2, (409, 554, 281)), (2, (409, 554, 286)), (2, (409, 555, 281)), (2, (409, 555, 285)), (2, (409, 556, 281)), (2, (409, 556, 282)), (2, (409, 556, 284)), (2, (409, 557, 283)), (2, (410, 549, 288)), (2, (410, 550, 285)), (2, (410, 550, 286)), (2, (410, 550, 287)), (2, (410, 550, 288)), (2, (410, 551, 284)), (2, (410, 551, 289)), (2, (410, 552, 283)), (2, (410, 552, 287)), (2, (410, 552, 288)), (2, (410, 553, 282)), (2, (410, 553, 286)), (2, (410, 554, 282)), (2, (410, 554, 284)), (2, (410, 554, 285)), (2, (410, 555, 282)), (2, (410, 555, 284)), (2, (410, 556, 283)), (2, (411, 548, 288)), (2, (411, 549, 286)), (2, (411, 549, 287)), (2, (411, 549, 289)), (2, (411, 550, 285)), (2, (411, 550, 289)), (2, (411, 551, 284)), (2, (411, 551, 290)), (2, (411, 552, 289)), (2, (411, 553, 283)), (2, (411, 553, 284)), (2, (411, 553, 286)), (2, (411, 553, 287)), (2, (411, 553, 288)), (2, (411, 554, 283)), (2, (411, 554, 285)), (2, (412, 547, 288)), (2, (412, 547, 290)), (2, (412, 547, 291)), (2, (412, 547, 292)), (2, (412, 548, 287)), (2, (412, 548, 289)), (2, (412, 548, 290)), (2, (412, 549, 286)), (2, (412, 549, 290)), (2, (412, 550, 286)), (2, (412, 550, 290)), (2, (412, 551, 285)), (2, (412, 551, 289)), (2, (412, 552, 284)), (2, (412, 552, 286)), (2, (412, 552, 287)), (2, (412, 552, 288)), (2, (412, 553, 285)), (2, (413, 546, 290)), (2, (413, 546, 291)), (2, (413, 546, 292)), (2, (413, 547, 289)), (2, (413, 547, 293)), (2, (413, 548, 288)), (2, (413, 548, 291)), (2, (413, 548, 292)), (2, (413, 549, 287)), (2, (413, 549, 289)), (2, (413, 549, 291)), (2, (413, 550, 287)), (2, (413, 550, 290)), (2, (413, 551, 286)), (2, (413, 551, 287)), (2, (413, 551, 288)), (2, (413, 551, 289)), (2, (413, 552, 285)), (2, (414, 545, 290)), (2, (414, 545, 291)), (2, (414, 545, 292)), (2, (414, 545, 293)), (2, (414, 546, 289)), (2, (414, 546, 293)), (2, (414, 547, 288)), (2, (414, 548, 288)), (2, (414, 548, 293)), (2, (414, 549, 288)), (2, (414, 549, 292)), (2, (414, 550, 288)), (2, (414, 550, 289)), (2, (414, 550, 291)), (2, (415, 544, 292)), (2, (415, 544, 293)), (2, (415, 544, 294)), (2, (415, 545, 291)), (2, (415, 545, 294)), (2, (415, 546, 290)), (2, (415, 546, 292)), (2, (415, 546, 294)), (2, (415, 547, 289)), (2, (415, 547, 293)), (2, (415, 548, 289)), (2, (415, 548, 291)), (2, (415, 548, 292)), (2, (415, 549, 289)), (2, (415, 549, 291)), (2, (415, 550, 290)), (2, (416, 543, 292)), (2, (416, 543, 293)), (2, (416, 543, 294)), (2, (416, 543, 295)), (2, (416, 544, 291)), (2, (416, 544, 295)), (2, (416, 545, 290)), (2, (416, 545, 295)), (2, (416, 546, 291)), (2, (416, 546, 294)), (2, (416, 547, 290)), (2, (416, 547, 291)), (2, (416, 547, 292)), (2, (416, 547, 293)), (2, (416, 548, 290)), (2, (417, 541, 296)), (2, (417, 542, 294)), (2, (417, 542, 295)), (2, (417, 542, 296)), (2, (417, 543, 293)), (2, (417, 543, 296)), (2, (417, 544, 292)), (2, (417, 544, 294)), (2, (417, 544, 296)), (2, (417, 545, 291)), (2, (417, 545, 295)), (2, (417, 546, 292)), (2, (417, 546, 293)), (2, (417, 546, 294)), (2, (418, 539, 296)), (2, (418, 540, 295)), (2, (418, 540, 297)), (2, (418, 540, 298)), (2, (418, 541, 295)), (2, (418, 541, 297)), (2, (418, 542, 294)), (2, (418, 542, 297)), (2, (418, 543, 293)), (2, (418, 543, 295)), (2, (418, 543, 297)), (2, (418, 544, 293)), (2, (418, 544, 296)), (2, (418, 545, 292)), (2, (418, 545, 293)), (2, (418, 545, 294)), (2, (418, 545, 295)), (2, (419, 538, 296)), (2, (419, 539, 295)), (2, (419, 539, 297)), (2, (419, 539, 298)), (2, (419, 540, 294)), (2, (419, 540, 299)), (2, (419, 541, 294)), (2, (419, 541, 298)), (2, (419, 542, 294)), (2, (419, 542, 298)), (2, (419, 543, 294)), (2, (419, 543, 297)), (2, (419, 544, 294)), (2, (419, 544, 295)), (2, (419, 544, 296)), (2, (420, 538, 297)), (2, (420, 538, 298)), (2, (420, 538, 299)), (2, (420, 538, 300)), (2, (420, 539, 296)), (2, (420, 539, 299)), (2, (420, 540, 295)), (2, (420, 540, 300)), (2, (420, 541, 295)), (2, (420, 541, 299)), (2, (420, 542, 295)), (2, (420, 542, 297)), (2, (420, 542, 298)), (2, (420, 543, 295)), (2, (420, 543, 296)), (2, (421, 537, 298)), (2, (421, 537, 299)), (2, (421, 537, 300)), (2, (421, 537, 301)), (2, (421, 538, 297)), (2, (421, 538, 301)), (2, (421, 539, 296)), (2, (421, 539, 298)), (2, (421, 539, 300)), (2, (421, 540, 296)), (2, (421, 540, 299)), (2, (421, 541, 296)), (2, (421, 541, 297)), (2, (421, 541, 298)), (2, (421, 542, 296)), (2, (422, 536, 298)), (2, (422, 536, 299)), (2, (422, 536, 300)), (2, (422, 536, 301)), (2, (422, 536, 302)), (2, (422, 537, 297)), (2, (422, 537, 302)), (2, (422, 538, 296)), (2, (422, 538, 302)), (2, (422, 539, 297)), (2, (422, 539, 301)), (2, (422, 540, 297)), (2, (422, 540, 298)), (2, (422, 540, 299)), (2, (422, 540, 300)), (2, (423, 533, 305)), (2, (423, 534, 304)), (2, (423, 535, 301)), (2, (423, 535, 302)), (2, (423, 535, 303)), (2, (423, 536, 300)), (2, (423, 536, 303)), (2, (423, 537, 298)), (2, (423, 537, 299)), (2, (423, 537, 301)), (2, (423, 537, 303)), (2, (423, 538, 297)), (2, (423, 538, 302)), (2, (423, 539, 298)), (2, (423, 539, 299)), (2, (423, 539, 300)), (2, (423, 539, 301)), (2, (424, 532, 305)), (2, (424, 533, 304)), (2, (424, 533, 306)), (2, (424, 534, 302)), (2, (424, 534, 303)), (2, (424, 534, 305)), (2, (424, 535, 301)), (2, (424, 535, 304)), (2, (424, 536, 300)), (2, (424, 536, 304)), (2, (424, 537, 300)), (2, (424, 537, 303)), (2, (424, 538, 298)), (2, (424, 538, 299)), (2, (424, 538, 300)), (2, (424, 538, 301)), (2, (424, 538, 302)), (2, (425, 531, 305)), (2, (425, 532, 304)), (2, (425, 532, 306)), (2, (425, 532, 307)), (2, (425, 532, 308)), (2, (425, 532, 309)), (2, (425, 532, 310)), (2, (425, 533, 303)), (2, (425, 533, 307)), (2, (425, 534, 302)), (2, (425, 534, 304)), (2, (425, 534, 306)), (2, (425, 535, 301)), (2, (425, 535, 303)), (2, (425, 535, 305)), (2, (425, 536, 300)), (2, (425, 536, 304)), (2, (425, 537, 301)), (2, (425, 537, 303)), (2, (425, 538, 302)), (2, (426, 531, 305)), (2, (426, 531, 306)), (2, (426, 531, 307)), (2, (426, 531, 308)), (2, (426, 531, 309)), (2, (426, 531, 310)), (2, (426, 532, 304)), (2, (426, 532, 311)), (2, (426, 533, 303)), (2, (426, 533, 307)), (2, (426, 533, 308)), (2, (426, 533, 309)), (2, (426, 533, 310)), (2, (426, 534, 303)), (2, (426, 534, 306)), (2, (426, 535, 302)), (2, (426, 535, 304)), (2, (426, 535, 305)), (2, (426, 536, 301)), (2, (426, 536, 303)), (2, (426, 537, 302)), (2, (427, 530, 306)), (2, (427, 530, 307)), (2, (427, 530, 308)), (2, (427, 530, 309)), (2, (427, 530, 310)), (2, (427, 530, 311)), (2, (427, 531, 305)), (2, (427, 531, 311)), (2, (427, 532, 304)), (2, (427, 533, 304)), (2, (427, 533, 311)), (2, (427, 534, 304)), (2, (427, 534, 305)), (2, (427, 534, 306)), (2, (427, 534, 307)), (2, (427, 534, 308)), (2, (427, 534, 309)), (2, (427, 534, 310)), (2, (427, 535, 303)), (2, (427, 536, 302)), (2, (428, 529, 310)), (2, (428, 529, 311)), (2, (428, 530, 309)), (2, (428, 531, 306)), (2, (428, 531, 307)), (2, (428, 531, 308)), (2, (428, 531, 310)), (2, (428, 532, 305)), (2, (428, 532, 311)), (2, (428, 533, 305)), (2, (428, 533, 306)), (2, (428, 533, 307)), (2, (428, 533, 308)), (2, (428, 533, 309)), (2, (428, 533, 310)), (2, (429, 527, 312)), (2, (429, 528, 310)), (2, (429, 528, 311)), (2, (429, 529, 309)), (2, (429, 530, 308)), (2, (429, 531, 309)), (2, (429, 532, 306)), (2, (429, 532, 307)), (2, (429, 532, 308)), (2, (429, 532, 309)), (2, (429, 532, 310)), (2, (429, 532, 311)), (2, (429, 532, 312)), (2, (430, 525, 316)), (2, (430, 526, 312)), (2, (430, 527, 311)), (2, (430, 527, 313)), (2, (430, 528, 310)), (2, (430, 529, 310)), (2, (430, 530, 309)), (2, (430, 531, 310)), (2, (430, 531, 311)), (2, (430, 531, 312)), (2, (431, 523, 324)), (2, (431, 523, 325)), (2, (431, 524, 316)), (2, (431, 524, 317)), (2, (431, 524, 318)), (2, (431, 524, 319)), (2, (431, 524, 320)), (2, (431, 524, 321)), (2, (431, 524, 322)), (2, (431, 524, 324)), (2, (431, 525, 315)), (2, (431, 525, 323)), (2, (431, 525, 324)), (2, (431, 526, 313)), (2, (431, 526, 314)), (2, (431, 527, 312)), (2, (431, 528, 311)), (2, (431, 528, 313)), (2, (431, 529, 311)), (2, (431, 530, 310)), (2, (431, 530, 311)), (2, (431, 530, 312)), (2, (431, 530, 313)), (2, (432, 521, 327)), (2, (432, 521, 328)), (2, (432, 521, 329)), (2, (432, 521, 330)), (2, (432, 522, 324)), (2, (432, 522, 325)), (2, (432, 522, 326)), (2, (432, 522, 331)), (2, (432, 523, 316)), (2, (432, 523, 317)), (2, (432, 523, 318)), (2, (432, 523, 319)), (2, (432, 523, 320)), (2, (432, 523, 321)), (2, (432, 523, 322)), (2, (432, 523, 323)), (2, (432, 523, 327)), (2, (432, 523, 328)), (2, (432, 524, 315)), (2, (432, 524, 323)), (2, (432, 524, 325)), (2, (432, 524, 326)), (2, (432, 525, 314)), (2, (432, 525, 325)), (2, (432, 526, 313)), (2, (432, 526, 315)), (2, (432, 526, 323)), (2, (432, 526, 324)), (2, (432, 527, 312)), (2, (432, 527, 314)), (2, (432, 527, 322)), (2, (432, 528, 312)), (2, (432, 529, 312)), (2, (432, 529, 313)), (2, (433, 520, 328)), (2, (433, 520, 329)), (2, (433, 520, 330)), (2, (433, 521, 324)), (2, (433, 521, 326)), (2, (433, 521, 331)), (2, (433, 522, 323)), (2, (433, 522, 332)), (2, (433, 523, 322)), (2, (433, 523, 331)), (2, (433, 524, 316)), (2, (433, 524, 317)), (2, (433, 524, 318)), (2, (433, 524, 319)), (2, (433, 524, 320)), (2, (433, 524, 321)), (2, (433, 524, 327)), (2, (433, 525, 315)), (2, (433, 526, 314)), (2, (433, 526, 321)), (2, (433, 526, 325)), (2, (433, 527, 313)), (2, (433, 527, 322)), (2, (433, 527, 323)), (2, (433, 527, 324)), (2, (433, 528, 313)), (2, (433, 528, 314)), (2, (434, 521, 327)), (2, (434, 521, 328)), (2, (434, 521, 329)), (2, (434, 521, 330)), (2, (434, 522, 324)), (2, (434, 522, 325)), (2, (434, 522, 326)), (2, (434, 522, 331)), (2, (434, 523, 323)), (2, (434, 523, 327)), (2, (434, 523, 328)), (2, (434, 523, 329)), (2, (434, 523, 330)), (2, (434, 524, 322)), (2, (434, 524, 323)), (2, (434, 524, 325)), (2, (434, 524, 326)), (2, (434, 525, 325)), (2, (434, 526, 323)), (2, (434, 526, 324)), (2, (434, 527, 314)), (2, (435, 522, 327)), (2, (435, 522, 328)), (2, (435, 522, 329)), (2, (435, 522, 330)), (2, (435, 523, 324)), (2, (435, 523, 325)), (2, (435, 523, 326)), (2, (435, 524, 324)), (3, (404, 559, 277)), (3, (404, 560, 276)), (3, (404, 561, 277)), (3, (405, 556, 279)), (3, (405, 557, 278)), (3, (405, 557, 282)), (3, (405, 558, 277)), (3, (405, 558, 281)), (3, (405, 559, 276)), (3, (405, 559, 280)), (3, (405, 560, 275)), (3, (405, 561, 276)), (3, (406, 555, 283)), (3, (406, 556, 278)), (3, (406, 557, 277)), (3, (406, 557, 283)), (3, (406, 558, 276)), (3, (406, 558, 282)), (3, (406, 559, 275)), (3, (406, 559, 281)), (3, (406, 560, 274)), (3, (406, 561, 275)), (3, (406, 562, 276)), (3, (407, 553, 282)), (3, (407, 554, 284)), (3, (407, 554, 285)), (3, (407, 555, 284)), (3, (407, 556, 278)), (3, (407, 556, 284)), (3, (407, 557, 278)), (3, (407, 557, 283)), (3, (407, 558, 277)), (3, (407, 558, 282)), (3, (407, 559, 276)), (3, (407, 559, 280)), (3, (407, 560, 275)), (3, (407, 561, 276)), (3, (408, 551, 284)), (3, (408, 551, 286)), (3, (408, 553, 281)), (3, (408, 554, 286)), (3, (408, 555, 285)), (3, (408, 556, 279)), (3, (408, 556, 284)), (3, (408, 557, 279)), (3, (408, 557, 283)), (3, (408, 558, 278)), (3, (408, 558, 280)), (3, (408, 558, 281)), (3, (408, 559, 277)), (3, (408, 559, 279)), (3, (409, 550, 286)), (3, (409, 550, 287)), (3, (409, 550, 288)), (3, (409, 552, 288)), (3, (409, 555, 280)), (3, (409, 555, 286)), (3, (409, 556, 280)), (3, (409, 556, 285)), (3, (409, 557, 280)), (3, (409, 557, 281)), (3, (409, 557, 282)), (3, (410, 548, 288)), (3, (410, 549, 286)), (3, (410, 549, 287)), (3, (410, 549, 289)), (3, (410, 550, 289)), (3, (410, 552, 289)), (3, (410, 553, 287)), (3, (410, 554, 281)), (3, (410, 554, 286)), (3, (410, 555, 281)), (3, (410, 555, 285)), (3, (410, 556, 281)), (3, (410, 556, 282)), (3, (410, 556, 284)), (3, (411, 547, 288)), (3, (411, 548, 286)), (3, (411, 548, 287)), (3, (411, 548, 289)), (3, (411, 548, 290)), (3, (411, 549, 290)), (3, (411, 550, 290)), (3, (411, 554, 284)), (3, (411, 554, 286)), (3, (412, 546, 290)), (3, (412, 546, 291)), (3, (412, 547, 289)), (3, (412, 548, 286)), (3, (412, 548, 291)), (3, (412, 549, 291)), (3, (412, 550, 285)), (3, (412, 550, 291)), (3, (412, 551, 290)), (3, (412, 552, 289)), (3, (412, 553, 286)), (3, (412, 553, 287)), (3, (412, 553, 288)), (3, (413, 545, 290)), (3, (413, 545, 291)), (3, (413, 545, 292)), (3, (413, 545, 293)), (3, (413, 546, 289)), (3, (413, 546, 293)), (3, (413, 547, 288)), (3, (413, 548, 287)), (3, (413, 549, 286)), (3, (413, 549, 292)), (3, (413, 550, 286)), (3, (413, 550, 291)), (3, (413, 551, 285)), (3, (413, 551, 290)), (3, (413, 552, 286)), (3, (413, 552, 287)), (3, (413, 552, 288)), (3, (414, 544, 290)), (3, (414, 544, 291)), (3, (414, 544, 292)), (3, (414, 545, 289)), (3, (414, 546, 288)), (3, (414, 548, 287)), (3, (414, 549, 287)), (3, (414, 550, 287)), (3, (414, 551, 288)), (3, (414, 551, 289)), (3, (415, 543, 292)), (3, (415, 543, 293)), (3, (415, 543, 294)), (3, (415, 543, 295)), (3, (415, 544, 291)), (3, (415, 544, 295)), (3, (415, 545, 290)), (3, (415, 545, 295)), (3, (415, 546, 289)), (3, (415, 547, 288)), (3, (415, 547, 294)), (3, (415, 548, 288)), (3, (415, 548, 293)), (3, (415, 549, 288)), (3, (415, 549, 292)), (3, (415, 550, 288)), (3, (415, 550, 289)), (3, (416, 542, 292)), (3, (416, 542, 293)), (3, (416, 542, 294)), (3, (416, 542, 295)), (3, (416, 542, 296)), (3, (416, 543, 291)), (3, (416, 543, 296)), (3, (416, 544, 290)), (3, (416, 544, 296)), (3, (416, 545, 289)), (3, (416, 546, 290)), (3, (416, 546, 295)), (3, (416, 547, 289)), (3, (416, 547, 294)), (3, (416, 548, 289)), (3, (416, 548, 291)), (3, (416, 548, 292)), (3, (416, 548, 293)), (3, (417, 540, 295)), (3, (417, 541, 294)), (3, (417, 541, 295)), (3, (417, 541, 297)), (3, (417, 542, 293)), (3, (417, 542, 297)), (3, (417, 543, 292)), (3, (417, 543, 297)), (3, (417, 544, 291)), (3, (417, 545, 290)), (3, (417, 545, 296)), (3, (417, 546, 291)), (3, (417, 546, 295)), (3, (417, 547, 290)), (3, (417, 547, 291)), (3, (417, 547, 292)), (3, (417, 547, 293)), (3, (417, 547, 294)), (3, (418, 538, 296)), (3, (418, 539, 295)), (3, (418, 539, 297)), (3, (418, 539, 298)), (3, (418, 540, 294)), (3, (418, 540, 299)), (3, (418, 541, 294)), (3, (418, 541, 298)), (3, (418, 542, 293)), (3, (418, 542, 298)), (3, (418, 543, 292)), (3, (418, 543, 298)), (3, (418, 544, 292)), (3, (418, 544, 297)), (3, (418, 545, 291)), (3, (418, 545, 296)), (3, (418, 546, 292)), (3, (418, 546, 293)), (3, (418, 546, 294)), (3, (419, 538, 295)), (3, (419, 538, 297)), (3, (419, 538, 298)), (3, (419, 538, 299)), (3, (419, 538, 300)), (3, (419, 539, 294)), (3, (419, 539, 299)), (3, (419, 540, 293)), (3, (419, 540, 300)), (3, (419, 541, 293)), (3, (419, 541, 299)), (3, (419, 542, 293)), (3, (419, 542, 299)), (3, (419, 543, 293)), (3, (419, 543, 298)), (3, (419, 544, 293)), (3, (419, 544, 297)), (3, (419, 545, 292)), (3, (419, 545, 293)), (3, (419, 545, 294)), (3, (419, 545, 295)), (3, (419, 545, 296)), (3, (420, 537, 297)), (3, (420, 537, 298)), (3, (420, 537, 299)), (3, (420, 537, 300)), (3, (420, 537, 301)), (3, (420, 538, 296)), (3, (420, 538, 301)), (3, (420, 539, 295)), (3, (420, 539, 300)), (3, (420, 540, 294)), (3, (420, 540, 301)), (3, (420, 541, 294)), (3, (420, 541, 300)), (3, (420, 542, 294)), (3, (420, 542, 299)), (3, (420, 543, 294)), (3, (420, 543, 297)), (3, (420, 543, 298)), (3, (420, 544, 294)), (3, (420, 544, 295)), (3, (420, 544, 296)), (3, (421, 536, 298)), (3, (421, 536, 299)), (3, (421, 536, 300)), (3, (421, 536, 301)), (3, (421, 536, 302)), (3, (421, 537, 297)), (3, (421, 537, 302)), (3, (421, 538, 296)), (3, (421, 538, 302)), (3, (421, 539, 295)), (3, (421, 539, 301)), (3, (421, 540, 295)), (3, (421, 540, 300)), (3, (421, 541, 295)), (3, (421, 541, 299)), (3, (421, 542, 295)), (3, (421, 542, 297)), (3, (421, 542, 298)), (3, (421, 543, 295)), (3, (421, 543, 296)), (3, (422, 535, 298)), (3, (422, 535, 299)), (3, (422, 535, 300)), (3, (422, 535, 301)), (3, (422, 535, 302)), (3, (422, 535, 303)), (3, (422, 536, 297)), (3, (422, 536, 303)), (3, (422, 537, 296)), (3, (422, 537, 303)), (3, (422, 538, 295)), (3, (422, 538, 303)), (3, (422, 539, 296)), (3, (422, 539, 302)), (3, (422, 540, 296)), (3, (422, 540, 301)), (3, (422, 541, 296)), (3, (422, 541, 297)), (3, (422, 541, 298)), (3, (422, 541, 299)), (3, (422, 541, 300)), (3, (423, 532, 305)), (3, (423, 533, 304)), (3, (423, 533, 306)), (3, (423, 534, 301)), (3, (423, 534, 302)), (3, (423, 534, 303)), (3, (423, 534, 305)), (3, (423, 535, 300)), (3, (423, 535, 304)), (3, (423, 536, 298)), (3, (423, 536, 299)), (3, (423, 536, 304)), (3, (423, 537, 297)), (3, (423, 537, 304)), (3, (423, 538, 296)), (3, (423, 538, 303)), (3, (423, 539, 297)), (3, (423, 539, 302)), (3, (423, 540, 297)), (3, (423, 540, 298)), (3, (423, 540, 299)), (3, (423, 540, 300)), (3, (423, 540, 301)), (3, (424, 531, 305)), (3, (424, 532, 304)), (3, (424, 532, 306)), (3, (424, 532, 307)), (3, (424, 532, 308)), (3, (424, 532, 309)), (3, (424, 533, 302)), (3, (424, 533, 303)), (3, (424, 533, 307)), (3, (424, 534, 301)), (3, (424, 534, 306)), (3, (424, 535, 300)), (3, (424, 535, 305)), (3, (424, 536, 299)), (3, (424, 536, 305)), (3, (424, 537, 298)), (3, (424, 537, 299)), (3, (424, 537, 304)), (3, (424, 538, 297)), (3, (424, 538, 303)), (3, (424, 539, 298)), (3, (424, 539, 299)), (3, (424, 539, 300)), (3, (424, 539, 301)), (3, (424, 539, 302)), (3, (425, 530, 305)), (3, (425, 531, 304)), (3, (425, 531, 306)), (3, (425, 531, 307)), (3, (425, 531, 308)), (3, (425, 531, 309)), (3, (425, 531, 310)), (3, (425, 532, 303)), (3, (425, 533, 302)), (3, (425, 533, 308)), (3, (425, 533, 309)), (3, (425, 533, 310)), (3, (425, 534, 301)), (3, (425, 534, 307)), (3, (425, 535, 300)), (3, (425, 535, 306)), (3, (425, 536, 299)), (3, (425, 536, 305)), (3, (425, 537, 300)), (3, (425, 537, 304)), (3, (425, 538, 298)), (3, (425, 538, 299)), (3, (425, 538, 300)), (3, (425, 538, 301)), (3, (425, 538, 303)), (3, (425, 539, 302)), (3, (426, 530, 305)), (3, (426, 530, 306)), (3, (426, 530, 307)), (3, (426, 530, 308)), (3, (426, 530, 309)), (3, (426, 530, 310)), (3, (426, 531, 304)), (3, (426, 531, 311)), (3, (426, 532, 303)), (3, (426, 533, 302)), (3, (426, 533, 311)), (3, (426, 534, 302)), (3, (426, 534, 307)), (3, (426, 534, 308)), (3, (426, 534, 309)), (3, (426, 534, 310)), (3, (426, 535, 301)), (3, (426, 535, 306)), (3, (426, 536, 300)), (3, (426, 536, 304)), (3, (426, 536, 305)), (3, (426, 537, 301)), (3, (426, 537, 303)), (3, (426, 538, 302)), (3, (427, 529, 306)), (3, (427, 529, 307)), (3, (427, 529, 308)), (3, (427, 529, 309)), (3, (427, 529, 310)), (3, (427, 530, 305)), (3, (427, 531, 304)), (3, (427, 532, 303)), (3, (427, 533, 303)), (3, (427, 534, 303)), (3, (427, 534, 311)), (3, (427, 535, 302)), (3, (427, 535, 304)), (3, (427, 535, 305)), (3, (427, 535, 306)), (3, (427, 535, 307)), (3, (427, 535, 308)), (3, (427, 535, 309)), (3, (427, 535, 310)), (3, (427, 536, 301)), (3, (427, 536, 303)), (3, (427, 537, 302)), (3, (428, 528, 310)), (3, (428, 528, 311)), (3, (428, 529, 309)), (3, (428, 530, 306)), (3, (428, 530, 307)), (3, (428, 530, 308)), (3, (428, 531, 305)), (3, (428, 532, 304)), (3, (428, 533, 304)), (3, (428, 533, 311)), (3, (428, 534, 304)), (3, (428, 534, 305)), (3, (428, 534, 306)), (3, (428, 534, 307)), (3, (428, 534, 308)), (3, (428, 534, 309)), (3, (428, 534, 310)), (3, (428, 535, 303)), (3, (428, 536, 302)), (3, (429, 526, 312)), (3, (429, 527, 310)), (3, (429, 527, 311)), (3, (429, 528, 309)), (3, (429, 529, 308)), (3, (429, 530, 307)), (3, (429, 531, 306)), (3, (429, 531, 307)), (3, (429, 531, 308)), (3, (429, 532, 305)), (3, (429, 533, 305)), (3, (429, 533, 306)), (3, (429, 533, 307)), (3, (429, 533, 308)), (3, (429, 533, 309)), (3, (429, 533, 310)), (3, (429, 533, 311)), (3, (429, 533, 312)), (3, (430, 524, 316)), (3, (430, 524, 317)), (3, (430, 524, 318)), (3, (430, 524, 319)), (3, (430, 524, 320)), (3, (430, 524, 321)), (3, (430, 525, 312)), (3, (430, 525, 315)), (3, (430, 526, 311)), (3, (430, 526, 313)), (3, (430, 526, 314)), (3, (430, 527, 310)), (3, (430, 528, 309)), (3, (430, 529, 309)), (3, (430, 530, 308)), (3, (430, 531, 309)), (3, (430, 532, 306)), (3, (430, 532, 307)), (3, (430, 532, 308)), (3, (430, 532, 309)), (3, (430, 532, 310)), (3, (430, 532, 311)), (3, (430, 532, 312)), (3, (431, 521, 330)), (3, (431, 522, 324)), (3, (431, 523, 316)), (3, (431, 523, 317)), (3, (431, 523, 318)), (3, (431, 523, 319)), (3, (431, 523, 320)), (3, (431, 523, 321)), (3, (431, 523, 322)), (3, (431, 523, 323)), (3, (431, 524, 315)), (3, (431, 524, 323)), (3, (431, 524, 325)), (3, (431, 525, 313)), (3, (431, 525, 314)), (3, (431, 526, 312)), (3, (431, 526, 323)), (3, (431, 526, 324)), (3, (431, 527, 311)), (3, (431, 528, 310)), (3, (431, 529, 310)), (3, (431, 530, 309)), (3, (431, 531, 310)), (3, (431, 531, 311)), (3, (431, 531, 312)), (3, (431, 531, 313)), (3, (432, 520, 328)), (3, (432, 520, 329)), (3, (432, 520, 330)), (3, (432, 521, 324)), (3, (432, 521, 331)), (3, (432, 522, 316)), (3, (432, 522, 317)), (3, (432, 522, 318)), (3, (432, 522, 319)), (3, (432, 522, 320)), (3, (432, 522, 321)), (3, (432, 522, 322)), (3, (432, 522, 323)), (3, (432, 522, 332)), (3, (432, 523, 315)), (3, (432, 524, 314)), (3, (432, 525, 313)), (3, (432, 526, 312)), (3, (432, 527, 311)), (3, (432, 527, 323)), (3, (432, 527, 324)), (3, (432, 528, 311)), (3, (432, 528, 322)), (3, (432, 529, 311)), (3, (432, 530, 310)), (3, (432, 530, 311)), (3, (432, 530, 312)), (3, (432, 530, 313)), (3, (433, 519, 328)), (3, (433, 519, 329)), (3, (433, 519, 330)), (3, (433, 520, 331)), (3, (433, 521, 323)), (3, (433, 521, 332)), (3, (433, 522, 322)), (3, (433, 522, 333)), (3, (433, 523, 316)), (3, (433, 523, 317)), (3, (433, 523, 318)), (3, (433, 523, 319)), (3, (433, 523, 320)), (3, (433, 523, 321)), (3, (433, 524, 315)), (3, (433, 525, 314)), (3, (433, 526, 313)), (3, (433, 527, 312)), (3, (433, 528, 312)), (3, (433, 528, 322)), (3, (433, 528, 323)), (3, (433, 528, 324)), (3, (433, 529, 312)), (3, (433, 529, 313)), (3, (433, 529, 314)), (3, (434, 520, 328)), (3, (434, 520, 329)), (3, (434, 520, 330)), (3, (434, 521, 324)), (3, (434, 521, 326)), (3, (434, 521, 331)), (3, (434, 522, 323)), (3, (434, 522, 332)), (3, (434, 523, 322)), (3, (434, 523, 331)), (3, (434, 524, 316)), (3, (434, 524, 321)), (3, (434, 524, 327)), (3, (434, 525, 315)), (3, (434, 525, 326)), (3, (434, 526, 314)), (3, (434, 526, 325)), (3, (434, 527, 313)), (3, (434, 527, 323)), (3, (434, 527, 324)), (3, (434, 528, 313)), (3, (434, 528, 314)), (3, (435, 521, 327)), (3, (435, 521, 328)), (3, (435, 521, 329)), (3, (435, 521, 330)), (3, (435, 522, 324)), (3, (435, 522, 326)), (3, (435, 522, 331)), (3, (435, 523, 323)), (3, (435, 523, 327)), (3, (435, 523, 328)), (3, (435, 523, 329)), (3, (435, 523, 330)), (3, (435, 524, 325)), (3, (435, 524, 326)), (3, (435, 525, 325)), (3, (435, 526, 324)), (3, (435, 527, 314)), (3, (436, 522, 327)), (3, (436, 522, 328)), (3, (436, 522, 329)), (3, (436, 522, 330)), (3, (436, 523, 324)), (3, (436, 523, 325)), (3, (436, 523, 326)), (3, (436, 524, 324)), (4, (404, 559, 276)), (4, (404, 560, 275)), (4, (404, 561, 276)), (4, (405, 558, 276)), (4, (405, 559, 275)), (4, (405, 560, 274)), (4, (405, 561, 275)), (4, (405, 562, 276)), (4, (406, 559, 274)), (4, (406, 560, 273)), (4, (406, 561, 274)), (4, (406, 562, 275)), (4, (407, 555, 285)), (4, (407, 558, 276)), (4, (407, 559, 275)), (4, (407, 560, 274)), (4, (407, 561, 275)), (4, (407, 562, 276)), (4, (408, 557, 278)), (4, (410, 548, 287)), (4, (410, 548, 289)), (4, (410, 550, 290)), (4, (411, 547, 289)), (4, (412, 546, 289)), (4, (413, 546, 288)), (4, (415, 544, 290)), (4, (415, 545, 289)), (4, (415, 546, 288)), (4, (416, 541, 294)), (4, (416, 546, 289)), (4, (417, 541, 293)), (4, (417, 542, 292)), (4, (417, 543, 291)), (4, (417, 544, 290)), (4, (417, 545, 289)), (4, (417, 546, 290)), (4, (417, 548, 292)), (4, (418, 538, 297)), (4, (418, 541, 293)), (4, (418, 541, 299)), (4, (418, 542, 292)), (4, (418, 542, 299)), (4, (418, 543, 291)), (4, (418, 544, 291)), (4, (418, 545, 290)), (4, (418, 546, 291)), (4, (418, 547, 291)), (4, (418, 547, 292)), (4, (418, 547, 293)), (4, (419, 539, 300)), (4, (419, 541, 300)), (4, (419, 542, 292)), (4, (419, 542, 300)), (4, (419, 543, 292)), (4, (419, 543, 299)), (4, (419, 544, 292)), (4, (419, 545, 291)), (4, (419, 546, 292)), (4, (420, 536, 297)), (4, (420, 536, 298)), (4, (420, 536, 299)), (4, (420, 536, 300)), (4, (420, 536, 301)), (4, (420, 536, 302)), (4, (420, 537, 296)), (4, (420, 537, 302)), (4, (420, 538, 295)), (4, (420, 538, 302)), (4, (420, 539, 294)), (4, (420, 539, 301)), (4, (420, 540, 293)), (4, (420, 541, 293)), (4, (420, 542, 293)), (4, (420, 542, 300)), (4, (420, 543, 293)), (4, (420, 543, 299)), (4, (420, 544, 293)), (4, (420, 544, 297)), (4, (420, 545, 294)), (4, (420, 545, 295)), (4, (421, 535, 298)), (4, (421, 535, 299)), (4, (421, 535, 300)), (4, (421, 535, 301)), (4, (421, 535, 302)), (4, (421, 535, 303)), (4, (421, 536, 297)), (4, (421, 536, 303)), (4, (421, 537, 296)), (4, (421, 537, 303)), (4, (421, 538, 295)), (4, (421, 538, 303)), (4, (421, 539, 294)), (4, (421, 539, 302)), (4, (421, 540, 294)), (4, (421, 540, 301)), (4, (421, 541, 294)), (4, (421, 541, 300)), (4, (421, 542, 294)), (4, (421, 542, 299)), (4, (421, 543, 294)), (4, (421, 543, 297)), (4, (421, 543, 298)), (4, (421, 544, 294)), (4, (421, 544, 295)), (4, (421, 544, 296)), (4, (422, 534, 298)), (4, (422, 534, 299)), (4, (422, 534, 300)), (4, (422, 534, 301)), (4, (422, 534, 302)), (4, (422, 534, 303)), (4, (422, 535, 297)), (4, (422, 535, 304)), (4, (422, 536, 296)), (4, (422, 536, 304)), (4, (422, 537, 295)), (4, (422, 537, 304)), (4, (422, 539, 295)), (4, (422, 539, 303)), (4, (422, 540, 295)), (4, (422, 540, 302)), (4, (422, 541, 295)), (4, (422, 541, 301)), (4, (422, 542, 297)), (4, (422, 542, 298)), (4, (422, 542, 299)), (4, (422, 542, 300)), (4, (423, 531, 305)), (4, (423, 532, 304)), (4, (423, 532, 306)), (4, (423, 532, 307)), (4, (423, 532, 308)), (4, (423, 533, 301)), (4, (423, 533, 302)), (4, (423, 533, 303)), (4, (423, 534, 300)), (4, (423, 534, 306)), (4, (423, 535, 298)), (4, (423, 535, 299)), (4, (423, 535, 305)), (4, (423, 536, 297)), (4, (423, 536, 305)), (4, (423, 537, 296)), (4, (423, 538, 295)), (4, (423, 539, 296)), (4, (423, 539, 303)), (4, (423, 540, 296)), (4, (423, 540, 302)), (4, (423, 541, 296)), (4, (423, 541, 297)), (4, (423, 541, 298)), (4, (423, 541, 299)), (4, (423, 541, 300)), (4, (423, 541, 301)), (4, (424, 530, 305)), (4, (424, 531, 304)), (4, (424, 531, 306)), (4, (424, 531, 307)), (4, (424, 531, 308)), (4, (424, 532, 302)), (4, (424, 532, 303)), (4, (424, 533, 301)), (4, (424, 533, 308)), (4, (424, 533, 309)), (4, (424, 534, 300)), (4, (424, 534, 307)), (4, (424, 535, 299)), (4, (424, 535, 306)), (4, (424, 536, 298)), (4, (424, 536, 306)), (4, (424, 537, 297)), (4, (424, 537, 305)), (4, (424, 538, 296)), (4, (424, 538, 304)), (4, (424, 539, 297)), (4, (424, 539, 303)), (4, (424, 540, 297)), (4, (424, 540, 298)), (4, (424, 540, 299)), (4, (424, 540, 300)), (4, (424, 540, 301)), (4, (424, 540, 302)), (4, (425, 530, 304)), (4, (425, 530, 306)), (4, (425, 530, 307)), (4, (425, 530, 308)), (4, (425, 530, 309)), (4, (425, 530, 310)), (4, (425, 531, 303)), (4, (425, 532, 302)), (4, (425, 533, 301)), (4, (425, 533, 311)), (4, (425, 534, 300)), (4, (425, 534, 308)), (4, (425, 534, 309)), (4, (425, 534, 310)), (4, (425, 535, 299)), (4, (425, 535, 307)), (4, (425, 536, 298)), (4, (425, 536, 306)), (4, (425, 537, 298)), (4, (425, 537, 299)), (4, (425, 537, 305)), (4, (425, 538, 297)), (4, (425, 538, 304)), (4, (425, 539, 298)), (4, (425, 539, 299)), (4, (425, 539, 300)), (4, (425, 539, 301)), (4, (425, 539, 303)), (4, (425, 540, 302)), (4, (426, 529, 305)), (4, (426, 529, 306)), (4, (426, 529, 307)), (4, (426, 529, 308)), (4, (426, 529, 309)), (4, (426, 529, 310)), (4, (426, 530, 304)), (4, (426, 531, 303)), (4, (426, 532, 302)), (4, (426, 533, 301)), (4, (426, 533, 312)), (4, (426, 534, 301)), (4, (426, 534, 311)), (4, (426, 535, 300)), (4, (426, 535, 307)), (4, (426, 535, 308)), (4, (426, 535, 309)), (4, (426, 535, 310)), (4, (426, 536, 299)), (4, (426, 536, 306)), (4, (426, 537, 300)), (4, (426, 537, 304)), (4, (426, 537, 305)), (4, (426, 538, 298)), (4, (426, 538, 299)), (4, (426, 538, 300)), (4, (426, 538, 301)), (4, (426, 538, 303)), (4, (426, 539, 302)), (4, (427, 528, 307)), (4, (427, 528, 308)), (4, (427, 528, 309)), (4, (427, 528, 310)), (4, (427, 529, 305)), (4, (427, 530, 304)), (4, (427, 531, 303)), (4, (427, 532, 302)), (4, (427, 533, 302)), (4, (427, 534, 302)), (4, (427, 534, 312)), (4, (427, 535, 301)), (4, (427, 535, 311)), (4, (427, 536, 300)), (4, (427, 536, 304)), (4, (427, 536, 305)), (4, (427, 536, 306)), (4, (427, 536, 307)), (4, (427, 536, 308)), (4, (427, 536, 309)), (4, (427, 536, 310)), (4, (427, 537, 301)), (4, (427, 537, 303)), (4, (427, 538, 302)), (4, (428, 526, 312)), (4, (428, 527, 310)), (4, (428, 527, 311)), (4, (428, 528, 309)), (4, (428, 529, 306)), (4, (428, 529, 307)), (4, (428, 529, 308)), (4, (428, 530, 305)), (4, (428, 531, 304)), (4, (428, 532, 303)), (4, (428, 533, 303)), (4, (428, 533, 312)), (4, (428, 534, 303)), (4, (428, 534, 311)), (4, (428, 535, 302)), (4, (428, 535, 304)), (4, (428, 535, 305)), (4, (428, 535, 306)), (4, (428, 535, 307)), (4, (428, 535, 308)), (4, (428, 535, 309)), (4, (428, 535, 310)), (4, (428, 536, 301)), (4, (428, 536, 303)), (4, (428, 537, 302)), (4, (429, 524, 316)), (4, (429, 524, 317)), (4, (429, 524, 318)), (4, (429, 524, 319)), (4, (429, 525, 312)), (4, (429, 525, 315)), (4, (429, 526, 310)), (4, (429, 526, 311)), (4, (429, 526, 313)), (4, (429, 527, 309)), (4, (429, 528, 308)), (4, (429, 529, 307)), (4, (429, 530, 306)), (4, (429, 531, 305)), (4, (429, 532, 304)), (4, (429, 533, 304)), (4, (429, 534, 304)), (4, (429, 534, 305)), (4, (429, 534, 306)), (4, (429, 534, 307)), (4, (429, 534, 308)), (4, (429, 534, 309)), (4, (429, 534, 310)), (4, (429, 534, 311)), (4, (429, 534, 312)), (4, (429, 535, 303)), (4, (429, 536, 302)), (4, (430, 523, 316)), (4, (430, 523, 317)), (4, (430, 523, 318)), (4, (430, 523, 319)), (4, (430, 523, 320)), (4, (430, 523, 321)), (4, (430, 523, 322)), (4, (430, 524, 312)), (4, (430, 524, 315)), (4, (430, 525, 311)), (4, (430, 525, 313)), (4, (430, 525, 314)), (4, (430, 526, 310)), (4, (430, 527, 309)), (4, (430, 528, 308)), (4, (430, 529, 308)), (4, (430, 530, 307)), (4, (430, 531, 306)), (4, (430, 531, 307)), (4, (430, 531, 308)), (4, (430, 532, 305)), (4, (430, 533, 305)), (4, (430, 533, 306)), (4, (430, 533, 307)), (4, (430, 533, 308)), (4, (430, 533, 309)), (4, (430, 533, 310)), (4, (430, 533, 311)), (4, (430, 533, 312)), (4, (431, 520, 330)), (4, (431, 521, 331)), (4, (431, 522, 316)), (4, (431, 522, 317)), (4, (431, 522, 318)), (4, (431, 522, 319)), (4, (431, 522, 320)), (4, (431, 522, 321)), (4, (431, 522, 322)), (4, (431, 522, 323)), (4, (431, 523, 315)), (4, (431, 524, 313)), (4, (431, 524, 314)), (4, (431, 525, 312)), (4, (431, 526, 311)), (4, (431, 527, 310)), (4, (431, 528, 309)), (4, (431, 528, 322)), (4, (431, 529, 309)), (4, (431, 530, 308)), (4, (431, 531, 309)), (4, (431, 532, 306)), (4, (431, 532, 307)), (4, (431, 532, 308)), (4, (431, 532, 309)), (4, (431, 532, 310)), (4, (431, 532, 311)), (4, (431, 532, 312)), (4, (431, 532, 313)), (4, (432, 519, 329)), (4, (432, 519, 330)), (4, (432, 520, 331)), (4, (432, 521, 316)), (4, (432, 521, 317)), (4, (432, 521, 318)), (4, (432, 521, 319)), (4, (432, 521, 320)), (4, (432, 521, 321)), (4, (432, 521, 322)), (4, (432, 521, 323)), (4, (432, 521, 332)), (4, (432, 522, 315)), (4, (432, 522, 333)), (4, (432, 523, 314)), (4, (432, 524, 313)), (4, (432, 525, 312)), (4, (432, 526, 311)), (4, (432, 527, 310)), (4, (432, 528, 310)), (4, (432, 528, 323)), (4, (432, 528, 324)), (4, (432, 529, 310)), (4, (432, 529, 322)), (4, (432, 530, 309)), (4, (432, 531, 310)), (4, (432, 531, 311)), (4, (432, 531, 312)), (4, (432, 531, 313)), (4, (433, 518, 328)), (4, (433, 518, 329)), (4, (433, 518, 330)), (4, (433, 519, 327)), (4, (433, 519, 331)), (4, (433, 520, 323)), (4, (433, 520, 332)), (4, (433, 521, 322)), (4, (433, 521, 333)), (4, (433, 522, 316)), (4, (433, 522, 317)), (4, (433, 522, 318)), (4, (433, 522, 319)), (4, (433, 522, 320)), (4, (433, 522, 321)), (4, (433, 523, 315)), (4, (433, 524, 314)), (4, (433, 525, 313)), (4, (433, 526, 312)), (4, (433, 527, 311)), (4, (433, 528, 311)), (4, (433, 528, 321)), (4, (433, 528, 325)), (4, (433, 529, 311)), (4, (433, 529, 322)), (4, (433, 529, 323)), (4, (433, 529, 324)), (4, (433, 530, 310)), (4, (433, 530, 311)), (4, (433, 530, 312)), (4, (433, 530, 313)), (4, (433, 530, 314)), (4, (434, 519, 328)), (4, (434, 519, 329)), (4, (434, 519, 330)), (4, (434, 520, 324)), (4, (434, 520, 331)), (4, (434, 521, 323)), (4, (434, 521, 332)), (4, (434, 522, 322)), (4, (434, 522, 333)), (4, (434, 523, 316)), (4, (434, 523, 317)), (4, (434, 523, 320)), (4, (434, 523, 321)), (4, (434, 523, 332)), (4, (434, 524, 315)), (4, (434, 525, 314)), (4, (434, 526, 313)), (4, (434, 526, 326)), (4, (434, 527, 312)), (4, (434, 527, 325)), (4, (434, 528, 312)), (4, (434, 528, 315)), (4, (434, 528, 322)), (4, (434, 528, 323)), (4, (434, 528, 324)), (4, (434, 529, 312)), (4, (434, 529, 313)), (4, (434, 529, 314)), (4, (435, 520, 327)), (4, (435, 520, 328)), (4, (435, 520, 329)), (4, (435, 520, 330)), (4, (435, 521, 324)), (4, (435, 521, 326)), (4, (435, 521, 331)), (4, (435, 522, 323)), (4, (435, 522, 332)), (4, (435, 523, 331)), (4, (435, 524, 327)), (4, (435, 524, 328)), (4, (435, 524, 329)), (4, (435, 524, 330)), (4, (435, 525, 326)), (4, (435, 526, 314)), (4, (435, 526, 325)), (4, (435, 527, 313)), (4, (435, 527, 324)), (4, (435, 528, 313)), (4, (435, 528, 314)), (4, (436, 521, 327)), (4, (436, 521, 328)), (4, (436, 521, 329)), (4, (436, 521, 330)), (4, (436, 522, 324)), (4, (436, 522, 325)), (4, (436, 522, 326)), (4, (436, 522, 331)), (4, (436, 523, 323)), (4, (436, 523, 327)), (4, (436, 523, 328)), (4, (436, 523, 329)), (4, (436, 523, 330)), (4, (436, 524, 323)), (4, (436, 524, 325)), (4, (436, 524, 326)), (4, (436, 525, 324)), (4, (436, 525, 325)), (4, (436, 526, 324)), (4, (436, 527, 314)), (4, (437, 522, 327)), (4, (437, 522, 328)), (4, (437, 522, 329)), (4, (437, 522, 330)), (4, (437, 523, 324)), (4, (437, 523, 325)), (4, (437, 523, 326)), (4, (437, 524, 324)), (5, (403, 560, 275)), (5, (404, 559, 275)), (5, (404, 560, 274)), (5, (404, 561, 275)), (5, (404, 562, 276)), (5, (405, 560, 273)), (5, (405, 561, 274)), (5, (405, 562, 275)), (5, (406, 561, 273)), (5, (406, 562, 274)), (5, (406, 563, 275)), (5, (407, 561, 274)), (5, (407, 562, 275)), (5, (418, 546, 290)), (5, (419, 544, 291)), (5, (420, 543, 292)), (5, (420, 544, 292)), (5, (421, 534, 298)), (5, (421, 534, 299)), (5, (421, 534, 300)), (5, (421, 534, 301)), (5, (421, 536, 296)), (5, (421, 541, 293)), (5, (421, 541, 301)), (5, (421, 542, 293)), (5, (421, 542, 300)), (5, (421, 543, 293)), (5, (421, 543, 299)), (5, (421, 544, 293)), (5, (421, 544, 297)), (5, (422, 533, 298)), (5, (422, 533, 299)), (5, (422, 533, 300)), (5, (422, 533, 301)), (5, (422, 533, 302)), (5, (422, 533, 303)), (5, (423, 530, 305)), (5, (423, 531, 304)), (5, (423, 531, 306)), (5, (423, 531, 307)), (5, (423, 532, 301)), (5, (423, 532, 302)), (5, (423, 532, 303)), (5, (423, 533, 300)), (5, (423, 533, 308)), (5, (423, 534, 298)), (5, (423, 534, 299)), (5, (423, 535, 297)), (5, (423, 536, 296)), (5, (423, 537, 295)), (5, (423, 538, 294)), (5, (423, 539, 295)), (5, (423, 540, 295)), (5, (423, 542, 297)), (5, (423, 542, 298)), (5, (423, 542, 299)), (5, (423, 542, 300)), (5, (424, 530, 304)), (5, (424, 530, 306)), (5, (424, 530, 307)), (5, (424, 531, 302)), (5, (424, 531, 303)), (5, (424, 532, 301)), (5, (424, 533, 300)), (5, (424, 534, 299)), (5, (424, 534, 308)), (5, (424, 534, 309)), (5, (424, 535, 298)), (5, (424, 536, 297)), (5, (424, 537, 296)), (5, (424, 538, 295)), (5, (424, 539, 296)), (5, (424, 540, 296)), (5, (424, 541, 297)), (5, (424, 541, 298)), (5, (424, 541, 299)), (5, (424, 541, 300)), (5, (425, 529, 304)), (5, (425, 529, 306)), (5, (425, 529, 307)), (5, (425, 529, 308)), (5, (425, 529, 309)), (5, (425, 529, 310)), (5, (425, 530, 303)), (5, (425, 531, 302)), (5, (425, 532, 301)), (5, (425, 533, 300)), (5, (425, 533, 312)), (5, (425, 534, 299)), (5, (425, 534, 311)), (5, (425, 535, 298)), (5, (425, 535, 308)), (5, (425, 535, 309)), (5, (425, 535, 310)), (5, (425, 536, 297)), (5, (425, 537, 297)), (5, (425, 538, 296)), (5, (425, 538, 305)), (5, (425, 539, 297)), (5, (425, 540, 297)), (5, (425, 540, 301)), (5, (426, 528, 307)), (5, (426, 528, 308)), (5, (426, 528, 309)), (5, (426, 528, 310)), (5, (426, 529, 304)), (5, (426, 530, 303)), (5, (426, 531, 302)), (5, (426, 532, 301)), (5, (426, 533, 300)), (5, (426, 533, 313)), (5, (426, 534, 300)), (5, (426, 534, 312)), (5, (426, 535, 299)), (5, (426, 535, 311)), (5, (426, 536, 298)), (5, (426, 537, 298)), (5, (426, 537, 299)), (5, (426, 537, 306)), (5, (426, 538, 297)), (5, (426, 538, 304)), (5, (426, 538, 305)), (5, (426, 539, 298)), (5, (426, 539, 299)), (5, (426, 539, 300)), (5, (426, 539, 301)), (5, (426, 539, 303)), (5, (426, 540, 302)), (5, (427, 526, 312)), (5, (427, 527, 308)), (5, (427, 527, 309)), (5, (427, 527, 310)), (5, (427, 529, 304)), (5, (427, 530, 303)), (5, (427, 531, 302)), (5, (427, 532, 301)), (5, (427, 533, 301)), (5, (427, 534, 301)), (5, (427, 534, 313)), (5, (427, 535, 300)), (5, (427, 535, 312)), (5, (427, 536, 299)), (5, (427, 536, 311)), (5, (427, 537, 300)), (5, (427, 537, 304)), (5, (427, 537, 305)), (5, (427, 537, 306)), (5, (427, 538, 298)), (5, (427, 538, 299)), (5, (427, 538, 300)), (5, (427, 538, 301)), (5, (427, 538, 303)), (5, (427, 539, 302)), (5, (428, 525, 312)), (5, (428, 526, 310)), (5, (428, 526, 311)), (5, (428, 527, 309)), (5, (428, 528, 307)), (5, (428, 528, 308)), (5, (428, 529, 305)), (5, (428, 530, 304)), (5, (428, 531, 303)), (5, (428, 532, 302)), (5, (428, 533, 302)), (5, (428, 534, 302)), (5, (428, 534, 312)), (5, (428, 535, 301)), (5, (428, 535, 311)), (5, (428, 536, 300)), (5, (428, 536, 304)), (5, (428, 536, 305)), (5, (428, 536, 306)), (5, (428, 536, 307)), (5, (428, 536, 308)), (5, (428, 536, 309)), (5, (428, 536, 310)), (5, (428, 537, 301)), (5, (428, 537, 303)), (5, (428, 538, 302)), (5, (429, 523, 316)), (5, (429, 523, 317)), (5, (429, 523, 318)), (5, (429, 523, 319)), (5, (429, 523, 320)), (5, (429, 523, 321)), (5, (429, 524, 312)), (5, (429, 524, 315)), (5, (429, 525, 310)), (5, (429, 525, 311)), (5, (429, 525, 313)), (5, (429, 525, 314)), (5, (429, 526, 309)), (5, (429, 527, 308)), (5, (429, 528, 307)), (5, (429, 529, 306)), (5, (429, 530, 305)), (5, (429, 531, 304)), (5, (429, 532, 303)), (5, (429, 533, 303)), (5, (429, 534, 303)), (5, (429, 534, 313)), (5, (429, 535, 302)), (5, (429, 535, 304)), (5, (429, 535, 305)), (5, (429, 535, 306)), (5, (429, 535, 307)), (5, (429, 535, 308)), (5, (429, 535, 309)), (5, (429, 535, 310)), (5, (429, 535, 311)), (5, (429, 535, 312)), (5, (429, 536, 301)), (5, (429, 536, 303)), (5, (429, 537, 302)), (5, (430, 522, 316)), (5, (430, 522, 317)), (5, (430, 522, 318)), (5, (430, 522, 319)), (5, (430, 522, 320)), (5, (430, 522, 321)), (5, (430, 523, 312)), (5, (430, 523, 315)), (5, (430, 524, 311)), (5, (430, 524, 313)), (5, (430, 524, 314)), (5, (430, 525, 310)), (5, (430, 526, 309)), (5, (430, 527, 308)), (5, (430, 528, 307)), (5, (430, 529, 307)), (5, (430, 530, 306)), (5, (430, 531, 305)), (5, (430, 532, 304)), (5, (430, 533, 304)), (5, (430, 533, 313)), (5, (430, 534, 304)), (5, (430, 534, 305)), (5, (430, 534, 306)), (5, (430, 534, 307)), (5, (430, 534, 308)), (5, (430, 534, 309)), (5, (430, 534, 310)), (5, (430, 534, 311)), (5, (430, 534, 312)), (5, (430, 535, 303)), (5, (430, 536, 302)), (5, (431, 520, 331)), (5, (431, 521, 316)), (5, (431, 521, 317)), (5, (431, 521, 318)), (5, (431, 521, 319)), (5, (431, 521, 320)), (5, (431, 521, 321)), (5, (431, 521, 322)), (5, (431, 521, 323)), (5, (431, 521, 332)), (5, (431, 522, 315)), (5, (431, 523, 313)), (5, (431, 523, 314)), (5, (431, 524, 312)), (5, (431, 525, 311)), (5, (431, 526, 310)), (5, (431, 527, 309)), (5, (431, 528, 308)), (5, (431, 528, 323)), (5, (431, 528, 324)), (5, (431, 529, 308)), (5, (431, 529, 322)), (5, (431, 530, 307)), (5, (431, 531, 306)), (5, (431, 531, 307)), (5, (431, 531, 308)), (5, (431, 532, 305)), (5, (431, 532, 314)), (5, (431, 533, 305)), (5, (431, 533, 306)), (5, (431, 533, 307)), (5, (431, 533, 308)), (5, (431, 533, 309)), (5, (431, 533, 310)), (5, (431, 533, 311)), (5, (431, 533, 312)), (5, (431, 533, 313)), (5, (432, 519, 331)), (5, (432, 520, 319)), (5, (432, 520, 320)), (5, (432, 520, 321)), (5, (432, 520, 322)), (5, (432, 520, 323)), (5, (432, 520, 332)), (5, (432, 521, 315)), (5, (432, 521, 333)), (5, (432, 522, 314)), (5, (432, 523, 313)), (5, (432, 524, 312)), (5, (432, 525, 311)), (5, (432, 526, 310)), (5, (432, 527, 309)), (5, (432, 528, 309)), (5, (432, 528, 325)), (5, (432, 529, 309)), (5, (432, 529, 321)), (5, (432, 529, 323)), (5, (432, 529, 324)), (5, (432, 530, 308)), (5, (432, 530, 322)), (5, (432, 531, 309)), (5, (432, 531, 314)), (5, (432, 532, 306)), (5, (432, 532, 307)), (5, (432, 532, 308)), (5, (432, 532, 309)), (5, (432, 532, 310)), (5, (432, 532, 311)), (5, (432, 532, 312)), (5, (432, 532, 313)), (5, (433, 517, 328)), (5, (433, 518, 327)), (5, (433, 518, 331)), (5, (433, 519, 323)), (5, (433, 519, 326)), (5, (433, 519, 332)), (5, (433, 520, 322)), (5, (433, 520, 333)), (5, (433, 521, 316)), (5, (433, 521, 317)), (5, (433, 521, 318)), (5, (433, 521, 319)), (5, (433, 521, 320)), (5, (433, 521, 321)), (5, (433, 521, 334)), (5, (433, 522, 315)), (5, (433, 523, 314)), (5, (433, 524, 313)), (5, (433, 525, 312)), (5, (433, 526, 311)), (5, (433, 527, 310)), (5, (433, 528, 310)), (5, (433, 528, 326)), (5, (433, 529, 310)), (5, (433, 529, 321)), (5, (433, 529, 325)), (5, (433, 530, 309)), (5, (433, 530, 315)), (5, (433, 530, 322)), (5, (433, 530, 323)), (5, (433, 530, 324)), (5, (433, 531, 310)), (5, (433, 531, 311)), (5, (433, 531, 312)), (5, (433, 531, 313)), (5, (433, 531, 314)), (5, (434, 518, 328)), (5, (434, 518, 329)), (5, (434, 518, 330)), (5, (434, 519, 324)), (5, (434, 519, 327)), (5, (434, 519, 331)), (5, (434, 520, 323)), (5, (434, 520, 332)), (5, (434, 521, 322)), (5, (434, 521, 333)), (5, (434, 522, 316)), (5, (434, 522, 317)), (5, (434, 522, 318)), (5, (434, 522, 319)), (5, (434, 522, 320)), (5, (434, 522, 321)), (5, (434, 522, 334)), (5, (434, 523, 315)), (5, (434, 524, 314)), (5, (434, 525, 313)), (5, (434, 526, 312)), (5, (434, 526, 327)), (5, (434, 527, 311)), (5, (434, 527, 326)), (5, (434, 528, 311)), (5, (434, 528, 321)), (5, (434, 528, 325)), (5, (434, 529, 311)), (5, (434, 529, 315)), (5, (434, 529, 322)), (5, (434, 529, 323)), (5, (434, 529, 324)), (5, (434, 530, 310)), (5, (434, 530, 311)), (5, (434, 530, 312)), (5, (434, 530, 313)), (5, (434, 530, 314)), (5, (435, 519, 327)), (5, (435, 519, 328)), (5, (435, 519, 329)), (5, (435, 519, 330)), (5, (435, 520, 324)), (5, (435, 520, 326)), (5, (435, 520, 331)), (5, (435, 521, 323)), (5, (435, 521, 332)), (5, (435, 522, 322)), (5, (435, 522, 333)), (5, (435, 523, 332)), (5, (435, 524, 315)), (5, (435, 524, 331)), (5, (435, 525, 314)), (5, (435, 525, 327)), (5, (435, 525, 328)), (5, (435, 525, 329)), (5, (435, 525, 330)), (5, (435, 526, 313)), (5, (435, 526, 326)), (5, (435, 527, 312)), (5, (435, 527, 325)), (5, (435, 528, 312)), (5, (435, 528, 315)), (5, (435, 528, 322)), (5, (435, 528, 323)), (5, (435, 528, 324)), (5, (435, 529, 312)), (5, (435, 529, 313)), (5, (435, 529, 314)), (5, (436, 520, 327)), (5, (436, 520, 328)), (5, (436, 520, 329)), (5, (436, 520, 330)), (5, (436, 521, 324)), (5, (436, 521, 325)), (5, (436, 521, 326)), (5, (436, 521, 331)), (5, (436, 522, 323)), (5, (436, 522, 332)), (5, (436, 523, 322)), (5, (436, 523, 331)), (5, (436, 524, 322)), (5, (436, 524, 327)), (5, (436, 524, 328)), (5, (436, 524, 329)), (5, (436, 524, 330)), (5, (436, 525, 323)), (5, (436, 525, 326)), (5, (436, 526, 314)), (5, (436, 526, 323)), (5, (436, 526, 325)), (5, (436, 527, 313)), (5, (436, 527, 315)), (5, (436, 527, 324)), (5, (436, 528, 313)), (5, (436, 528, 314)), (5, (437, 521, 327)), (5, (437, 521, 328)), (5, (437, 521, 329)), (5, (437, 521, 330)), (5, (437, 522, 324)), (5, (437, 522, 325)), (5, (437, 522, 326)), (5, (437, 522, 331)), (5, (437, 523, 323)), (5, (437, 523, 327)), (5, (437, 523, 328)), (5, (437, 523, 329)), (5, (437, 523, 330)), (5, (437, 524, 323)), (5, (437, 524, 325)), (5, (437, 524, 326)), (5, (437, 525, 324)), (5, (437, 525, 325)), (5, (437, 526, 324)), (5, (437, 527, 314)), (5, (438, 522, 327)), (5, (438, 522, 328)), (5, (438, 522, 329)), (5, (438, 522, 330)), (5, (438, 523, 324)), (5, (438, 523, 325)), (5, (438, 523, 326)), (5, (438, 524, 324))]\n"
     ]
    }
   ],
   "source": [
    "print(artery)"
   ]
  },
  {
   "cell_type": "code",
   "execution_count": 55,
   "id": "ca80d0ed",
   "metadata": {},
   "outputs": [
    {
     "data": {
      "text/plain": [
       "0.9979161010499313"
      ]
     },
     "execution_count": 55,
     "metadata": {},
     "output_type": "execute_result"
    }
   ],
   "source": [
    "1 / (1 + np.exp((v_arr[406, 557, 280] + 150) / 35))"
   ]
  },
  {
   "cell_type": "code",
   "execution_count": 58,
   "id": "5558a150",
   "metadata": {},
   "outputs": [
    {
     "name": "stdout",
     "output_type": "stream",
     "text": [
      "0.0 0.9999991918937072\n"
     ]
    }
   ],
   "source": [
    "c_arr = v_arr.copy().astype(np.float64)\n",
    "c_arr[:] = 0\n",
    "for u_dist, (k, j, i) in artery:\n",
    "    # k,j,i = u\n",
    "    c_arr[k, j, i] = 1 / (1 + np.exp((v_arr[k, j, i] + 150) / 35))\n",
    "\n",
    "print(np.min(c_arr), np.max(c_arr))"
   ]
  },
  {
   "cell_type": "code",
   "execution_count": 53,
   "id": "7a6da9ed",
   "metadata": {},
   "outputs": [
    {
     "data": {
      "text/plain": [
       "array([0.        , 0.93444987])"
      ]
     },
     "execution_count": 53,
     "metadata": {},
     "output_type": "execute_result"
    }
   ],
   "source": [
    "np.unique(c_arr)"
   ]
  },
  {
   "cell_type": "code",
   "execution_count": null,
   "id": "767fa3a8",
   "metadata": {},
   "outputs": [],
   "source": [
    "c_arr = v_arr.copy()\n",
    "c_arr[:] = MYNULL\n",
    "for u_dist, (k, j, i) in enumerate(curve_points_kji):\n",
    "    # i,j,k = u\n",
    "    c_arr[k, j, i] = (u_dist + 5) * 100\n",
    "\n",
    "updateVolumeFromArray(outc_node, c_arr)"
   ]
  },
  {
   "cell_type": "code",
   "execution_count": 32,
   "id": "e407515e",
   "metadata": {},
   "outputs": [
    {
     "name": "stdout",
     "output_type": "stream",
     "text": [
      "<class 'str'>\n"
     ]
    }
   ],
   "source": [
    "x = seg_node.GetSegmentation().AddEmptySegment('testetest')\n",
    "print(type(x))"
   ]
  },
  {
   "cell_type": "code",
   "execution_count": 29,
   "id": "30266d6f",
   "metadata": {},
   "outputs": [],
   "source": [
    "def create_segmentation_from_labelmap(seg_node, volume, segname):\n",
    "    seg_id = seg_node.GetSegmentation().AddEmptySegment(segname)\n",
    "\n",
    "    labelmap_node = slicer.mrmlScene.AddNewNodeByClass('vtkMRMLLabelMapVolumeNode')\n",
    "    labelmap_node.CreateDefaultDisplayNodes()\n",
    "\n",
    "    updateVolumeFromArray(labelmap_node, volume)\n",
    "\n",
    "    direction = np.zeros((3, 3))\n",
    "    volume_node.GetIJKToRASDirections(direction)\n",
    "\n",
    "    labelmap_node.SetOrigin(volume_node.GetOrigin())\n",
    "    labelmap_node.SetSpacing(volume_node.GetSpacing())\n",
    "    labelmap_node.SetIJKToRASDirections(direction)\n",
    "\n",
    "    seg_id_vtk = vtk.vtkStringArray()\n",
    "    seg_id_vtk.InsertNextValue(seg_id)\n",
    "    slicer.modules.segmentations.logic().ImportLabelmapToSegmentationNode(\n",
    "        labelmap_node, seg_node, seg_id_vtk\n",
    "    )\n",
    "\n",
    "    slicer.mrmlScene.RemoveNode(labelmap_node)\n",
    "    return seg_id"
   ]
  },
  {
   "cell_type": "code",
   "execution_count": 36,
   "id": "1ce016c5",
   "metadata": {},
   "outputs": [
    {
     "data": {
      "text/plain": [
       "'originallowthresh'"
      ]
     },
     "execution_count": 36,
     "metadata": {},
     "output_type": "execute_result"
    }
   ],
   "source": [
    "create_segmentation_from_labelmap(\n",
    "    seg_node, (c_arr != MYNULL).astype(np.int8), 'originallowthresh'\n",
    ")"
   ]
  },
  {
   "cell_type": "code",
   "execution_count": 59,
   "id": "239dc34b",
   "metadata": {},
   "outputs": [
    {
     "ename": "",
     "evalue": "",
     "output_type": "error",
     "traceback": [
      "\u001b[1;31mThe Kernel crashed while executing code in the current cell or a previous cell. \n",
      "\u001b[1;31mPlease review the code in the cell(s) to identify a possible cause of the failure. \n",
      "\u001b[1;31mClick <a href='https://aka.ms/vscodeJupyterKernelCrash'>here</a> for more info. \n",
      "\u001b[1;31mView Jupyter <a href='command:jupyter.viewOutput'>log</a> for further details."
     ]
    }
   ],
   "source": [
    "create_segmentation_from_labelmap(seg_node, c_arr, 'fractional4')\n",
    "del c_arr"
   ]
  },
  {
   "cell_type": "code",
   "execution_count": null,
   "id": "3663fbd5",
   "metadata": {},
   "outputs": [],
   "source": [
    "mask[1 : K - 1, 1 : J - 1, 1 : I - 1].shape"
   ]
  },
  {
   "cell_type": "code",
   "execution_count": null,
   "id": "4d7163c1",
   "metadata": {},
   "outputs": [],
   "source": [
    "# dilate\n",
    "\n",
    "mask = np.zeros_like(c_arr, np.bool)\n",
    "mask[c_arr != MYNULL] = 1\n",
    "result = mask.copy()\n",
    "\n",
    "kernel_mask = np.zeros((5, 5, 5))\n",
    "kernel_mask[1:4, 1:4, 1:4] = 1\n",
    "kernel_mask[2, 2, 2] = 0\n",
    "kernel_idxs = np.vstack(np.where(kernel_mask == 1)) - np.array([[2], [2], [2]])\n",
    "\n",
    "K, J, I = mask.shape\n",
    "\n",
    "for i in range(kernel_idxs.shape[1]):\n",
    "    oi, oj, ok = kernel_idxs[:, i]\n",
    "    result[1 + ok : K - 1 + ok, 1 + oj : J - 1 + oj, 1 + oi : I - 1 + oi] += mask[\n",
    "        1 : K - 1, 1 : J - 1, 1 : I - 1\n",
    "    ]\n",
    "    # print(np.sum(crystal_mask[85:186,115:256,240:401]))\n",
    "\n",
    "\n",
    "print(np.sum(result))\n",
    "\n",
    "create_segmentation_from_labelmap(seg_node, result.astype(np.int8), 'dilate')"
   ]
  },
  {
   "cell_type": "code",
   "execution_count": null,
   "id": "1504c3f5",
   "metadata": {},
   "outputs": [],
   "source": [
    "np.array([1, 2, 3]).roll(1)"
   ]
  },
  {
   "cell_type": "code",
   "execution_count": null,
   "id": "7c154af1",
   "metadata": {},
   "outputs": [],
   "source": [
    "# dilate\n",
    "\n",
    "mask = np.zeros_like(c_arr, np.bool)\n",
    "mask[c_arr != MYNULL] = 1\n",
    "result = mask.copy().astype(np.float64)\n",
    "\n",
    "kernel_mask = np.zeros((5, 5, 5))\n",
    "kernel_mask[1:4, 1:4, 1:4] = 1\n",
    "kernel_mask[2, 2, 2] = 0\n",
    "kernel_idxs = np.vstack(np.where(kernel_mask == 1)) - np.array([[2], [2], [2]])\n",
    "\n",
    "K, J, I = mask.shape\n",
    "\n",
    "for i in range(kernel_idxs.shape[1]):\n",
    "    ok, oj, oi = kernel_idxs[:, i]\n",
    "    result[np.roll(mask, (ok, oj, oi), (0, 1, 2)) & ~mask] = 0.5\n",
    "    # print(np.sum(crystal_mask[85:186,115:256,240:401]))\n",
    "\n",
    "\n",
    "print(np.sum(result))\n",
    "\n",
    "create_segmentation_from_labelmap(seg_node, result, 'dilate_fractional')"
   ]
  },
  {
   "cell_type": "markdown",
   "id": "99030d5b",
   "metadata": {},
   "source": [
    "# Flood Fill with caps\n"
   ]
  },
  {
   "cell_type": "code",
   "execution_count": null,
   "id": "146de3ff",
   "metadata": {},
   "outputs": [],
   "source": [
    "len(curve_data['LAD_FINE_CURVE'])"
   ]
  },
  {
   "cell_type": "code",
   "execution_count": null,
   "id": "4e5c3e94",
   "metadata": {},
   "outputs": [],
   "source": [
    "curve_node = curve_data['LAD_FINE_CURVE'][4]\n",
    "n = curve_node.GetNumberOfControlPoints()\n",
    "normal = np.zeros((3,))\n",
    "position = np.zeros((3,))\n",
    "normals = []\n",
    "for i in range(n):\n",
    "    curve_node.GetCurveDirectionAtPointIndexWorld(i, normal)\n",
    "    normals.append(normal)"
   ]
  },
  {
   "cell_type": "code",
   "execution_count": null,
   "id": "48106473",
   "metadata": {},
   "outputs": [],
   "source": [
    "normal = np.zeros((3,))\n",
    "position = np.zeros((3,))\n",
    "index = np.zeros((1,))\n",
    "curve_node.GetCurveDirectionAtPointIndexWorld(5, normal)\n",
    "print(curve_node.GetCurvePointIndexAlongCurveWorld())\n",
    "print(index)\n",
    "# print(position, normal)"
   ]
  },
  {
   "cell_type": "code",
   "execution_count": null,
   "id": "6e003e64",
   "metadata": {},
   "outputs": [],
   "source": [
    "curve_length = curve_node.GetCurveLengthWorld()\n",
    "n_segment = 6\n",
    "segment_length = curve_length / n_segment\n",
    "\n",
    "_curve_points = curve_node.GetCurvePointsWorld()\n",
    "curve_points = [\n",
    "    _curve_points.GetPoint(i) for i in range(_curve_points.GetNumberOfPoints())\n",
    "]\n",
    "del _curve_points\n",
    "\n",
    "cpi = curve_node.GetCurvePointIndexAlongCurveWorld(0, segment_length)\n",
    "normal = np.zeros((3,))\n",
    "curve_node.GetCurveDirectionAtPointIndexWorld(cpi, normal)\n",
    "position = np.array(curve_points[cpi])\n",
    "\n",
    "print(normal, position)\n",
    "\n",
    "t_line_node = slicer.mrmlScene.AddNewNodeByClass('vtkMRMLMarkupsLineNode')\n",
    "t_line_node.SetName('tangent')\n",
    "\n",
    "t_line_node.AddControlPoint(vtk.vtkVector3d(*position))\n",
    "# t_line_node.AddControlPoint(vtk.vtkVector3d(*(position + normal))"
   ]
  },
  {
   "cell_type": "code",
   "execution_count": null,
   "id": "9340aaeb",
   "metadata": {},
   "outputs": [],
   "source": [
    "x = vtk.vtkVector3d(*position)\n",
    "display(x)"
   ]
  },
  {
   "cell_type": "markdown",
   "id": "2ea5e7ee",
   "metadata": {},
   "source": [
    "# Create Fid\n"
   ]
  },
  {
   "cell_type": "code",
   "execution_count": null,
   "id": "11cdf12a",
   "metadata": {},
   "outputs": [],
   "source": [
    "#\n",
    "x = getNode('myFMarkups')"
   ]
  },
  {
   "cell_type": "code",
   "execution_count": null,
   "id": "26c53ea4",
   "metadata": {},
   "outputs": [],
   "source": [
    "# Create a fiducial node\n",
    "fiducial_node = slicer.mrmlScene.AddNewNodeByClass('vtkMRMLMarkupsFiducialNode')\n",
    "fiducial_node.SetName('MyFiducials')"
   ]
  },
  {
   "cell_type": "code",
   "execution_count": null,
   "id": "7405b973",
   "metadata": {},
   "outputs": [],
   "source": [
    "curve_node = slicer.mrmlScene.AddNewNodeByClass('vtkMRMLMarkupsCurveNode')\n",
    "curve_node.SetName('MyCurve')"
   ]
  },
  {
   "cell_type": "code",
   "execution_count": null,
   "id": "0b43e50c",
   "metadata": {},
   "outputs": [],
   "source": [
    "n = curve.GetNumberOfControlPoints()\n",
    "position = [0, 0, 0]\n",
    "for pos_i in range(n):\n",
    "    curve.GetNthControlPointPosition(pos_i, position)\n",
    "    curve_node.AddControlPoint(vtk.vtkVector3d(*position))\n",
    "    print(position)"
   ]
  },
  {
   "cell_type": "code",
   "execution_count": null,
   "id": "f37a5ce0",
   "metadata": {},
   "outputs": [],
   "source": [
    "type(fiducial_node)"
   ]
  },
  {
   "cell_type": "code",
   "execution_count": null,
   "id": "a86e7fd6",
   "metadata": {},
   "outputs": [],
   "source": [
    "type(x)"
   ]
  },
  {
   "cell_type": "code",
   "execution_count": null,
   "id": "70d05e6c",
   "metadata": {},
   "outputs": [],
   "source": [
    "fiducial_node.AddFiducialFromArray(np.array([40, 50, 60]))"
   ]
  },
  {
   "cell_type": "code",
   "execution_count": null,
   "id": "cf602645",
   "metadata": {},
   "outputs": [],
   "source": [
    "nodes_pos"
   ]
  },
  {
   "cell_type": "code",
   "execution_count": null,
   "id": "3db928ec",
   "metadata": {},
   "outputs": [],
   "source": [
    "# #Combine multiple fid to one fid\n",
    "\n",
    "# LAD_fid_node = slicer.mrmlScene.AddNewNodeByClass('vtkMRMLMarkupsFiducialNode')\n",
    "# LAD_fid_node.SetName('LAD')\n",
    "# multi_add_fiducial(LAD_fid_node, nodes_pos[0])\n",
    "\n",
    "# LCX_fid_node = slicer.mrmlScene.AddNewNodeByClass('vtkMRMLMarkupsFiducialNode')\n",
    "# LCX_fid_node.SetName('LCX')\n",
    "# multi_add_fiducial(LCX_fid_node, nodes_pos[1])\n",
    "\n",
    "# RCA_fid_node = slicer.mrmlScene.AddNewNodeByClass('vtkMRMLMarkupsFiducialNode')\n",
    "# RCA_fid_node.SetName('RCA')\n",
    "# multi_add_fiducial(RCA_fid_node, nodes_pos[2])"
   ]
  },
  {
   "cell_type": "code",
   "execution_count": null,
   "id": "80769766",
   "metadata": {},
   "outputs": [],
   "source": [
    "# # import slicer\n",
    "# # from slicer.util import VTKObservationMixin\n",
    "\n",
    "# class AnimationController(VTKObservationMixin):\n",
    "#     def __init__(self, parent=None):\n",
    "#         VTKObservationMixin.__init__(self)\n",
    "#         self.parent = parent\n",
    "#         self.slider = None\n",
    "#         self.animation_logic = slicer.modules.animatedslices.logic()\n",
    "\n",
    "#     def create_ui(self):\n",
    "#         # Create slider\n",
    "#         self.slider = slicer.qMRMLSliderWidget()\n",
    "#         self.slider.minimum = 0\n",
    "#         self.slider.maximum = 100\n",
    "#         self.slider.value = 0\n",
    "#         self.slider.setDecimals(0)\n",
    "#         self.slider.singleStep = 1\n",
    "#         self.slider.setToolTip(\"Animate slices\")\n",
    "#         self.parent.layout().addWidget(self.slider)\n",
    "\n",
    "#         # Connect slider value change to animation logic\n",
    "#         self.addObserver(self.slider, slicer.qMRMLSliderWidget.ValueChangedEvent, self.on_slider_value_changed)\n",
    "\n",
    "#     def on_slider_value_changed(self, value):\n",
    "#         # Update animation frame\n",
    "#         frame = int(value)\n",
    "#         self.animation_logic.setCurrentFrame(frame)\n",
    "\n",
    "# # Instantiate the AnimationController\n",
    "# controller = AnimationController(slicer.util.mainWindow())\n",
    "\n",
    "# # Create the UI\n",
    "# controller.create_ui()\n",
    "\n",
    "# # Display the main window\n",
    "# slicer.util.mainWindow().show()\n",
    "pass"
   ]
  },
  {
   "cell_type": "markdown",
   "id": "505e5bfc",
   "metadata": {},
   "source": [
    "# Module Development\n"
   ]
  },
  {
   "cell_type": "code",
   "execution_count": null,
   "id": "36500aba",
   "metadata": {},
   "outputs": [],
   "source": [
    "module_names = moduleNames()\n",
    "print('\\n'.join(module_names[:10]))\n",
    "print('number of module name:', len(module_names))\n",
    "print('\\n'.join(module_names), file=open('module_names.txt', 'w'))"
   ]
  },
  {
   "cell_type": "code",
   "execution_count": null,
   "id": "faa8cf88",
   "metadata": {},
   "outputs": [],
   "source": [
    "mod_ExtractCenterline = getModuleWidget('ExtractCenterline')\n",
    "mod_ExtractCenterline.__dict__"
   ]
  },
  {
   "cell_type": "code",
   "execution_count": null,
   "id": "52c9bc39",
   "metadata": {},
   "outputs": [],
   "source": [
    "mod_logic_ExtractCenterline = getModuleLogic('ExtractCenterline')\n",
    "mod_logic_ExtractCenterline.__dict__"
   ]
  },
  {
   "cell_type": "code",
   "execution_count": null,
   "id": "d390b0e3",
   "metadata": {},
   "outputs": [],
   "source": [
    "mod_CrossSectionAnalysis = getModuleWidget('CrossSectionAnalysis')\n",
    "mod_CrossSectionAnalysis.__dict__"
   ]
  },
  {
   "cell_type": "code",
   "execution_count": null,
   "id": "ca6700d5",
   "metadata": {},
   "outputs": [],
   "source": [
    "print(len(full_path))\n",
    "print(len(set(full_path)))"
   ]
  },
  {
   "cell_type": "code",
   "execution_count": null,
   "id": "54bf85dd",
   "metadata": {},
   "outputs": [],
   "source": [
    "nodeName = 'MyNewVolume'\n",
    "imageSize = [512, 512, 512]\n",
    "voxelType = vtk.VTK_\n",
    "imageOrigin = [0.0, 0.0, 0.0]\n",
    "imageSpacing = [1.0, 1.0, 1.0]\n",
    "imageDirections = [[1, 0, 0], [0, 1, 0], [0, 0, 1]]\n",
    "fillVoxelValue = 0"
   ]
  },
  {
   "cell_type": "code",
   "execution_count": null,
   "id": "daea02b2",
   "metadata": {},
   "outputs": [],
   "source": [
    "(c_arr != MYNULL).dtype"
   ]
  },
  {
   "cell_type": "code",
   "execution_count": null,
   "id": "6c2db61a",
   "metadata": {},
   "outputs": [],
   "source": []
  },
  {
   "cell_type": "code",
   "execution_count": null,
   "id": "e47a49fe",
   "metadata": {},
   "outputs": [],
   "source": [
    "seg_id = 'test'\n",
    "seg_node.GetSegmentation().AddEmptySegment(seg_id)\n",
    "\n",
    "labelmap_node = slicer.mrmlScene.AddNewNodeByClass('vtkMRMLLabelMapVolumeNode')\n",
    "labelmap_node.CreateDefaultDisplayNodes()\n",
    "\n",
    "updateVolumeFromArray(labelmap_node, (c_arr != MYNULL).astype(np.int8))\n",
    "\n",
    "direction = np.zeros((3, 3))\n",
    "volume_node.GetIJKToRASDirections(direction)\n",
    "\n",
    "labelmap_node.SetOrigin(volume_node.GetOrigin())\n",
    "labelmap_node.SetSpacing(volume_node.GetSpacing())\n",
    "labelmap_node.SetIJKToRASDirections(direction)\n",
    "\n",
    "seg_id_vtk = vtk.vtkStringArray()\n",
    "seg_id_vtk.InsertNextValue(seg_id)\n",
    "slicer.modules.segmentations.logic().ImportLabelmapToSegmentationNode(\n",
    "    labelmap_node, seg_node, seg_id_vtk\n",
    ")\n",
    "\n",
    "slicer.mrmlScene.RemoveNode(labelmap_node)"
   ]
  },
  {
   "cell_type": "code",
   "execution_count": null,
   "id": "97ec0317",
   "metadata": {},
   "outputs": [],
   "source": [
    "# fillhole_arr = slicer.util.array('fillhole')\n",
    "grindpeak_arr = slicer.util.array('grindpeak')\n",
    "\n",
    "# updateVolumeFromArray(outa_node, fillhole_arr - v_arr)\n",
    "updateVolumeFromArray(outb_node, v_arr - grindpeak_arr)  # look promisin"
   ]
  },
  {
   "cell_type": "code",
   "execution_count": null,
   "id": "42720901",
   "metadata": {},
   "outputs": [],
   "source": [
    "x = v_arr - grindpeak_arr\n",
    "print(x.min())\n",
    "print(x.max())\n",
    "np.save('data/grindpeak_caldet.npy', x)"
   ]
  },
  {
   "cell_type": "code",
   "execution_count": null,
   "id": "f2a94c6d",
   "metadata": {},
   "outputs": [],
   "source": [
    "c_arr = v_arr.copy()\n",
    "print(np.min(c_arr), np.max(c_arr))"
   ]
  },
  {
   "cell_type": "code",
   "execution_count": null,
   "id": "75de8e4e",
   "metadata": {},
   "outputs": [
    {
     "name": "stdout",
     "output_type": "stream",
     "text": [
      "['LADtest-1', 'LADtest-2']\n",
      "545406\n",
      "[(160, 202, 307), (160, 202, 308), (160, 202, 309), (160, 201, 310), (160, 201, 311), (160, 201, 312), (160, 201, 313), (160, 201, 314), (160, 201, 315), (160, 201, 316), (160, 200, 317), (160, 200, 318), (160, 199, 319), (160, 198, 320), (160, 198, 321), (160, 197, 322), (160, 197, 323), (160, 196, 324), (160, 195, 325), (160, 194, 326), (160, 193, 327), (160, 192, 328), (159, 191, 329), (159, 190, 330), (158, 189, 331), (158, 188, 332), (157, 187, 333), (157, 186, 334), (156, 185, 335), (156, 184, 336), (155, 183, 337), (155, 182, 338), (154, 181, 339), (154, 180, 340), (153, 179, 341), (153, 178, 342), (152, 177, 343), (152, 176, 344), (152, 175, 345)]\n"
     ]
    },
    {
     "name": "stderr",
     "output_type": "stream",
     "text": [
      "experiment: TSP + MULTI SUBPATH + DIJKSTRA SHORTEST PATH time: 45.34301400184631\n",
      "len path:           39\n"
     ]
    },
    {
     "name": "stdout",
     "output_type": "stream",
     "text": [
      "Report Time\n",
      "create_guide_line_curve, 45.457 s\n",
      "create_segmentation, 1.074 s\n",
      "['LADtest-1', 'LADtest-2']\n",
      "545406\n",
      "[(160, 202, 307), (160, 202, 308), (160, 202, 309), (160, 201, 310), (160, 201, 311), (160, 201, 312), (160, 201, 313), (160, 201, 314), (160, 201, 315), (160, 201, 316), (160, 200, 317), (160, 200, 318), (160, 199, 319), (160, 198, 320), (160, 198, 321), (160, 197, 322), (160, 197, 323), (160, 196, 324), (160, 195, 325), (160, 194, 326), (160, 193, 327), (160, 192, 328), (159, 191, 329), (159, 190, 330), (158, 189, 331), (158, 188, 332), (157, 187, 333), (157, 186, 334), (156, 185, 335), (156, 184, 336), (155, 183, 337), (155, 182, 338), (154, 181, 339), (154, 180, 340), (153, 179, 341), (153, 178, 342), (152, 177, 343), (152, 176, 344), (152, 175, 345)]\n"
     ]
    },
    {
     "name": "stderr",
     "output_type": "stream",
     "text": [
      "experiment: TSP + MULTI SUBPATH + DIJKSTRA SHORTEST PATH time: 45.669018268585205\n",
      "len path:           39\n"
     ]
    },
    {
     "name": "stdout",
     "output_type": "stream",
     "text": [
      "Report Time\n",
      "create_guide_line_curve, 45.850 s\n",
      "create_segmentation, 1.146 s\n",
      "min, max, stenosis\n",
      "3.76309702330456, 39.67350614987364, 90.515%\n",
      "min, max, stenosis\n",
      "3.76309702330456, 39.67350614987364, 90.515%\n"
     ]
    },
    {
     "name": "stderr",
     "output_type": "stream",
     "text": [
      "Traceback (most recent call last):\n",
      "  File \"/Applications/Slicer4.app/Contents/Extensions-29738/SlicerVMTK/lib/Slicer-4.11/qt-scripted-modules/CrossSectionAnalysis.py\", line 539, in setCurrentPointIndex\n",
      "    self.logic.updateSliceView(pointIndex)\n",
      "  File \"/Applications/Slicer4.app/Contents/Extensions-29738/SlicerVMTK/lib/Slicer-4.11/qt-scripted-modules/CrossSectionAnalysis.py\", line 993, in updateSliceView\n",
      "    curvePointToWorld = self.getCurvePointToWorldTransformAtPointIndex(pointIndex)\n",
      "  File \"/Applications/Slicer4.app/Contents/Extensions-29738/SlicerVMTK/lib/Slicer-4.11/qt-scripted-modules/CrossSectionAnalysis.py\", line 1071, in getCurvePointToWorldTransformAtPointIndex\n",
      "    curveCoordinateSystemGenerator = slicer.vtkParallelTransportFrame()\n",
      "AttributeError: module 'slicer' has no attribute 'vtkParallelTransportFrame'\n",
      "Traceback (most recent call last):\n",
      "  File \"/Applications/Slicer4.app/Contents/Extensions-29738/SlicerVMTK/lib/Slicer-4.11/qt-scripted-modules/CrossSectionAnalysis.py\", line 159, in enter\n",
      "    self.initializeParameterNode()\n",
      "  File \"/Applications/Slicer4.app/Contents/Extensions-29738/SlicerVMTK/lib/Slicer-4.11/qt-scripted-modules/CrossSectionAnalysis.py\", line 192, in initializeParameterNode\n",
      "    self.setParameterNode(self.logic.getParameterNode())\n",
      "  File \"/Applications/Slicer4.app/Contents/Extensions-29738/SlicerVMTK/lib/Slicer-4.11/qt-scripted-modules/CrossSectionAnalysis.py\", line 213, in setParameterNode\n",
      "    self.updateGUIFromParameterNode()\n",
      "  File \"/Applications/Slicer4.app/Contents/Extensions-29738/SlicerVMTK/lib/Slicer-4.11/qt-scripted-modules/CrossSectionAnalysis.py\", line 247, in updateGUIFromParameterNode\n",
      "    self.logic.setShowMaximumInscribedSphereDiameter(self._parameterNode.GetParameter(\"ShowMISModel\") == \"True\")\n",
      "  File \"/Applications/Slicer4.app/Contents/Extensions-29738/SlicerVMTK/lib/Slicer-4.11/qt-scripted-modules/CrossSectionAnalysis.py\", line 711, in setShowMaximumInscribedSphereDiameter\n",
      "    self.maximumInscribedSphereModelNode.GetDisplayNode().SetVisibility(self.showMaximumInscribedSphere)\n",
      "AttributeError: 'NoneType' object has no attribute 'SetVisibility'\n"
     ]
    },
    {
     "ename": "",
     "evalue": "",
     "output_type": "error",
     "traceback": [
      "\u001b[1;31mThe Kernel crashed while executing code in the current cell or a previous cell. \n",
      "\u001b[1;31mPlease review the code in the cell(s) to identify a possible cause of the failure. \n",
      "\u001b[1;31mClick <a href='https://aka.ms/vscodeJupyterKernelCrash'>here</a> for more info. \n",
      "\u001b[1;31mView Jupyter <a href='command:jupyter.viewOutput'>log</a> for further details."
     ]
    }
   ],
   "source": [
    "# create debug console\n",
    "console = qt.QTabWidget()\n",
    "console_tab1 = qt.QWidget()\n",
    "console_tab1_layout = qt.QVBoxLayout(console_tab1)\n",
    "\n",
    "console_tab1_row1 = qt.QWidget()\n",
    "console_tab1_row1_layout = qt.QHBoxLayout(console_tab1_row1)\n",
    "# comboA = qt.QComboBox()\n",
    "comboB = slicer.qMRMLNodeComboBox()\n",
    "comboB.nodeTypes = ['vtkMRMLMarkupsFiducialNode']\n",
    "comboB.addEnabled = False\n",
    "comboB.removeEnabled = False\n",
    "comboB.noneEnabled = False\n",
    "comboB.showHidden = False\n",
    "comboB.showChildNodeTypes = False\n",
    "comboB.setMRMLScene(slicer.mrmlScene)\n",
    "btnA = qt.QPushButton('Calculate artery model')\n",
    "# console_tab1_row1_layout.addWidget(comboA)\n",
    "console_tab1_row1_layout.addWidget(comboB)\n",
    "console_tab1_row1_layout.addWidget(btnA)\n",
    "\n",
    "console_tab1_row2 = qt.QWidget()\n",
    "console_tab1_row2_layout = qt.QHBoxLayout(console_tab1_row2)\n",
    "\n",
    "btnB = qt.QPushButton('Calculate stenosis')\n",
    "comboTable = slicer.qMRMLNodeComboBox()\n",
    "comboTable.nodeTypes = ['vtkMRMLTableNode']\n",
    "comboTable.addEnabled = False\n",
    "comboTable.removeEnabled = False\n",
    "comboTable.noneEnabled = False\n",
    "comboTable.showHidden = False\n",
    "comboTable.showChildNodeTypes = False\n",
    "comboTable.setMRMLScene(slicer.mrmlScene)\n",
    "console_tab1_row2_layout.addWidget(comboTable)\n",
    "console_tab1_row2_layout.addWidget(btnB)\n",
    "\n",
    "console.addTab(console_tab1, 'stenosis calculator')\n",
    "console_tab1_layout.addWidget(console_tab1_row1)\n",
    "console_tab1_layout.addWidget(console_tab1_row2)\n",
    "\n",
    "console.show()\n",
    "\n",
    "# btnA.disconnect('clicked()', calculate_backbone)\n",
    "# btnA.connect('clicked()', calculate_backbone)\n",
    "\n",
    "\n",
    "def btnA_action():\n",
    "    calculate_stenosis()\n",
    "\n",
    "\n",
    "def btnB_action():\n",
    "    calculate_stenosis2()\n",
    "\n",
    "\n",
    "btnA.disconnect('clicked()', btnA_action)\n",
    "btnA.connect('clicked()', btnA_action)\n",
    "\n",
    "\n",
    "btnB.disconnect('clicked()', btnB_action)\n",
    "btnB.connect('clicked()', btnB_action)\n",
    "\n",
    "pass"
   ]
  },
  {
   "cell_type": "code",
   "execution_count": 19,
   "id": "857d19ae",
   "metadata": {},
   "outputs": [],
   "source": [
    "def calculate_stenosis2():\n",
    "    table_node = comboTable.currentNode()\n",
    "    cross_sec_area = arrayFromTableColumn(table_node, 'Cross-section area')\n",
    "    min_area = np.min(cross_sec_area)\n",
    "    max_area = np.max(cross_sec_area)\n",
    "    stenosis = 1 - (min_area / max_area)\n",
    "    print(f'min, max, stenosis')\n",
    "    print(f'{min_area}, {max_area}, {stenosis*100:.3f}%')"
   ]
  },
  {
   "cell_type": "code",
   "execution_count": 20,
   "id": "c06afe39",
   "metadata": {},
   "outputs": [],
   "source": [
    "def calculate_stenosis():\n",
    "    # all operation\n",
    "    \"\"\"\n",
    "    {\n",
    "        (index, name) : tz\n",
    "    }\n",
    "    \"\"\"\n",
    "    timestamp_map = dict()\n",
    "\n",
    "    fid_node = comboB.currentNode()\n",
    "    num_fid = fid_node.GetNumberOfFiducials()\n",
    "    first_node_label = fid_node.GetNthFiducialLabel(0)\n",
    "    last_node_label = fid_node.GetNthFiducialLabel(num_fid - 1)\n",
    "    node_name = fid_node.GetName()\n",
    "\n",
    "    ########## Create Guide Line curve ##########\n",
    "    timestamp_map[(0, 'create_guide_line_curve')] = [time.time()]\n",
    "    curve_data = dict()\n",
    "\n",
    "    control_points_order, control_points_kji, full_path, sub_paths = (\n",
    "        calculate_backbone2(first_node_label, last_node_label, node_name)\n",
    "    )\n",
    "    curve_name = f'{node_name}_FINE_CURVE'\n",
    "    curve = create_curve(full_path, curve_name, 0.4)\n",
    "    curve_data[curve_name] = (\n",
    "        control_points_order,\n",
    "        control_points_kji,\n",
    "        full_path,\n",
    "        sub_paths,\n",
    "        curve,\n",
    "    )\n",
    "    timestamp_map[(0, 'create_guide_line_curve')].append(time.time())\n",
    "    ########## Create segmentation ##########\n",
    "    timestamp_map[(1, 'create_segmentation')] = [time.time()]\n",
    "    # calculate segmentation\n",
    "    curve_node = curve_data[curve_name][4]\n",
    "    _curve_points = curve_node.GetCurvePointsWorld()\n",
    "    curve_points = [\n",
    "        _curve_points.GetPoint(i) for i in range(_curve_points.GetNumberOfPoints())\n",
    "    ]\n",
    "    del _curve_points\n",
    "\n",
    "    curve_points_kji = (\n",
    "        np.round(\n",
    "            ras2ijk_mat\n",
    "            @ np.concatenate(\n",
    "                [np.array(curve_points), np.ones((len(curve_points), 1))], axis=1\n",
    "            ).T\n",
    "        )\n",
    "        .astype(np.uint16)\n",
    "        .T\n",
    "    )[:, (2, 1, 0)].tolist()\n",
    "    curve_points_kji = {tuple(e) for e in curve_points_kji}\n",
    "\n",
    "    kernel_mask = np.zeros((5, 5, 5))\n",
    "    kernel_mask[1:4, 2, 2] = 1\n",
    "    kernel_mask[2, 1:4, 2] = 1\n",
    "    kernel_mask[2, 2, 1:4] = 1\n",
    "    kernel_mask[2, 2, 2] = 0\n",
    "    kernel_idxs = np.vstack(np.where(kernel_mask == 1)) - np.array([[2], [2], [2]])\n",
    "\n",
    "    visited = set()\n",
    "    artery = []\n",
    "\n",
    "    pq = PriorityQueue()\n",
    "    it = 0\n",
    "\n",
    "    for seed in curve_points_kji:\n",
    "        pq.put((0, seed))\n",
    "\n",
    "    MAX_PQ_OFFSET = 4\n",
    "    DIFF_MAX = 300\n",
    "\n",
    "    is_reach = False\n",
    "    debug_dict = dict()\n",
    "\n",
    "    while (not pq.empty()) and it < 1e4:\n",
    "        it += 1\n",
    "\n",
    "        u_dist, u = pq.get()\n",
    "        uk, uj, ui = u\n",
    "        u_pos = np.array(u)\n",
    "        artery.append((u_dist, u))\n",
    "\n",
    "        for i in range(kernel_idxs.shape[1]):\n",
    "            v = tuple((kernel_idxs[:, i] + u_pos).tolist())\n",
    "            vk, vj, vi = v\n",
    "\n",
    "            diff = abs(v_arr[uk, uj, ui] - v_arr[vk, vj, vi])\n",
    "            if (\n",
    "                v not in visited\n",
    "                and u_dist < MAX_PQ_OFFSET\n",
    "                and v_arr[vk, vj, vi] <= -300\n",
    "            ):\n",
    "                dist = u_dist + 1\n",
    "                pq.put((dist, v))\n",
    "\n",
    "            visited.add(v)\n",
    "\n",
    "    c_arr = v_arr.copy()\n",
    "    c_arr[:] = MYNULL\n",
    "    for u_dist, (k, j, i) in artery:\n",
    "        # i,j,k = u\n",
    "        c_arr[k, j, i] = (u_dist + 5) * 100\n",
    "\n",
    "    # dilate\n",
    "\n",
    "    mask = np.zeros_like(c_arr, np.bool)\n",
    "    mask[c_arr != MYNULL] = 1\n",
    "    result = mask.copy()\n",
    "\n",
    "    kernel_mask = np.zeros((5, 5, 5))\n",
    "    kernel_mask[1:4, 1:4, 1:4] = 1\n",
    "    kernel_mask[2, 2, 2] = 0\n",
    "    kernel_idxs = np.vstack(np.where(kernel_mask == 1)) - np.array([[2], [2], [2]])\n",
    "\n",
    "    K, J, I = mask.shape\n",
    "\n",
    "    for i in range(kernel_idxs.shape[1]):\n",
    "        oi, oj, ok = kernel_idxs[:, i]\n",
    "        result[1 + ok : K - 1 + ok, 1 + oj : J - 1 + oj, 1 + oi : I - 1 + oi] += mask[\n",
    "            1 : K - 1, 1 : J - 1, 1 : I - 1\n",
    "        ]\n",
    "    # print(np.sum(crystal_mask[85:186,115:256,240:401]))\n",
    "\n",
    "    # create segmentation\n",
    "    seg_node = slicer.mrmlScene.AddNewNodeByClass('vtkMRMLSegmentationNode')\n",
    "    seg_node.SetName(f'{node_name} segmentation')\n",
    "    seg_id = create_segmentation_from_labelmap(\n",
    "        seg_node, result.astype(np.int8), f'{node_name} dilate'\n",
    "    )\n",
    "    slicer.modules.segmentations.logic().ExportVisibleSegmentsToModels(seg_node, 0)\n",
    "\n",
    "    # Create a fiducial node\n",
    "    endpoints_node = slicer.mrmlScene.AddNewNodeByClass('vtkMRMLMarkupsFiducialNode')\n",
    "    endpoints_node.SetName(f'{node_name} endpoints')\n",
    "    # TODO simplify get only ras\n",
    "    _, pos_r1, pos_a1, pos_s1, _, _, _ = get_fiducial_data(fid_node, 0)\n",
    "    _, pos_r2, pos_a2, pos_s2, _, _, _ = get_fiducial_data(fid_node, num_fid - 1)\n",
    "    multi_add_fiducial(\n",
    "        endpoints_node, np.array([[pos_r1, pos_a1, pos_s1], [pos_r2, pos_a2, pos_s2]])\n",
    "    )\n",
    "    timestamp_map[(1, 'create_segmentation')].append(time.time())\n",
    "\n",
    "    ##### report time\n",
    "    print('Report Time')\n",
    "\n",
    "    for order, session_name in sorted(timestamp_map.keys()):\n",
    "        tstart, tstop = timestamp_map[(order, session_name)]\n",
    "        duration = tstop - tstart\n",
    "        print(f'{session_name}, {duration:.3f} s')"
   ]
  },
  {
   "cell_type": "code",
   "execution_count": null,
   "id": "3bc8f94a",
   "metadata": {},
   "outputs": [],
   "source": [
    "# not sure how to control the smoothing\n",
    "slicer.modules.segmentations.logic().ExportVisibleSegmentsToModels(seg_node, 0)"
   ]
  },
  {
   "cell_type": "code",
   "execution_count": null,
   "id": "913426f6",
   "metadata": {},
   "outputs": [],
   "source": [
    "table_node = getNode('Table')\n",
    "type(table_node)"
   ]
  },
  {
   "cell_type": "code",
   "execution_count": null,
   "id": "2b7da0af",
   "metadata": {},
   "outputs": [],
   "source": []
  }
 ],
 "metadata": {
  "kernelspec": {
   "display_name": "Slicer 4.11",
   "language": "python",
   "name": "slicer-4.11"
  }
 },
 "nbformat": 4,
 "nbformat_minor": 5
}
