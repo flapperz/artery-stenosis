{
 "cells": [
  {
   "cell_type": "code",
   "execution_count": 3,
   "metadata": {},
   "outputs": [
    {
     "name": "stdout",
     "output_type": "stream",
     "text": [
      "Hello Slicer this is script 2\n"
     ]
    },
    {
     "ename": "",
     "evalue": "",
     "output_type": "error",
     "traceback": [
      "\u001b[1;31mThe Kernel crashed while executing code in the current cell or a previous cell. \n",
      "\u001b[1;31mPlease review the code in the cell(s) to identify a possible cause of the failure. \n",
      "\u001b[1;31mClick <a href='https://aka.ms/vscodeJupyterKernelCrash'>here</a> for more info. \n",
      "\u001b[1;31mView Jupyter <a href='command:jupyter.viewOutput'>log</a> for further details."
     ]
    }
   ],
   "source": [
    "# Verify\n",
    "print(\"Hello Slicer this is script 2\")\n",
    "# Setup\n",
    "import numpy as np\n",
    "import JupyterNotebooksLib as slicernb\n",
    "import logging\n",
    "import time\n",
    "import sys\n",
    "import pickle\n",
    "from collections import deque\n",
    "from queue import PriorityQueue\n",
    "\n",
    "from importlib import reload\n",
    "\n",
    "reload(logging)\n",
    "# create logger\n",
    "logger = logging.getLogger('scratch_logger')\n",
    "logger.setLevel(logging.DEBUG)\n",
    "\n",
    "logstream_ch = logging.StreamHandler()\n",
    "logstream_ch.setLevel(logging.INFO)\n",
    "\n",
    "logfile_ch = logging.FileHandler('bfs.log')\n",
    "logfile_ch.setLevel(logging.DEBUG)\n",
    "\n",
    "logger.addHandler(logstream_ch)\n",
    "logger.addHandler(logfile_ch)\n",
    "\n",
    "loadScene(\"data/slicer_gs_clean_update1/2023-10-26-Scene.mrml\")\n",
    "\n",
    "MYNULL = -2_147_483_648"
   ]
  },
  {
   "cell_type": "code",
   "execution_count": 6,
   "metadata": {},
   "outputs": [],
   "source": [
    "def kji_list2ras(kji_tuples):\n",
    "    return kji2ras(np.array(kji_tuples).T)\n",
    "\n",
    "def kji2ras(kji_3xN):\n",
    "    return (ijk2ras_mat @ np.pad(kji_3xN[::-1,:], ((0,1), (0,0)), constant_values=1))[:3,:]\n",
    "\n",
    "# x2 = kji_list2ras(full_path[:2])\n",
    "# np.linalg.norm(x2[:,0] - x2[:,1]) * weight_arr[0,0,0]"
   ]
  },
  {
   "cell_type": "code",
   "execution_count": 12,
   "metadata": {},
   "outputs": [],
   "source": [
    "ijk_spacing = volume_node.GetSpacing()"
   ]
  },
  {
   "cell_type": "code",
   "execution_count": 9,
   "metadata": {},
   "outputs": [
    {
     "data": {
      "text/plain": [
       "array([[ 222.9],\n",
       "       [ 200. ],\n",
       "       [-589. ]])"
      ]
     },
     "execution_count": 9,
     "metadata": {},
     "output_type": "execute_result"
    }
   ],
   "source": [
    "origin_vec = kji_list2ras([(0,0,0)])\n",
    "origin_vec"
   ]
  },
  {
   "cell_type": "code",
   "execution_count": null,
   "metadata": {},
   "outputs": [],
   "source": []
  }
 ],
 "metadata": {
  "kernelspec": {
   "display_name": "Slicer 4.11",
   "language": "python",
   "name": "slicer-4.11"
  }
 },
 "nbformat": 4,
 "nbformat_minor": 2
}
